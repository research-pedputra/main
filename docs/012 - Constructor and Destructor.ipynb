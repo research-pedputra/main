{
 "cells": [
  {
   "cell_type": "markdown",
   "id": "d71cd9b8-4106-4c53-b56a-d4024b7a7c40",
   "metadata": {},
   "source": [
    "# Constructor & Destructor in OOP's"
   ]
  },
  {
   "cell_type": "markdown",
   "id": "c0e19cf0-6362-43ca-9d43-580a41d3a801",
   "metadata": {},
   "source": [
    "**Constructor & Destructor** are an important concept of oops in Python. \n",
    "\n",
    "`Constructor:`  A constructor in Python is a special type of method which is used to initialize the instance members of the class. The task of constructors is to initialize and assign values to the data members of the class when an object of the class is created. \n",
    "\n",
    "`Destructor:` Destructor in Python is called when an object gets destroyed. In Python, destructors are not needed, because Python has a garbage collector that handles memory management automatically. "
   ]
  },
  {
   "cell_type": "markdown",
   "id": "70ad7753-386e-4a90-87ac-4b61e0d1f9cc",
   "metadata": {},
   "source": [
    "## Constructor:\n",
    "- The `__init__` method is similar to constructors in c++ and Java.\n",
    "- Constructors are used to initialize the object’s state.\n",
    "- The task of constructors is to initialize(assign values) to the data members of the class when an object of class is created. "
   ]
  },
  {
   "cell_type": "code",
   "execution_count": 3,
   "id": "44343742-4bcc-4a95-9c3a-466baf917911",
   "metadata": {
    "tags": []
   },
   "outputs": [],
   "source": [
    "class ClassName:\n",
    "  def __init__( self , variables):\n",
    "    self.variable = variable\n",
    "    ##body"
   ]
  },
  {
   "cell_type": "markdown",
   "id": "ec9f3175-0858-4aa3-9963-f45f515ebd90",
   "metadata": {},
   "source": [
    "## Destructor:\n",
    "- The `__del__` method is similar to destructor in c++ and Java.\n",
    "- Destructors are used to destroying the object’s state."
   ]
  },
  {
   "cell_type": "code",
   "execution_count": 4,
   "id": "fd0cb03b-1ac3-435b-ab38-9e46cd7f0d2c",
   "metadata": {
    "tags": []
   },
   "outputs": [],
   "source": [
    "class ClassName:\n",
    "  def __del__( self , variables):\n",
    "    self.variables = variables\n",
    "    ##body"
   ]
  },
  {
   "cell_type": "markdown",
   "id": "dad80608-9fc0-49df-910a-0fd1cae17d23",
   "metadata": {
    "tags": []
   },
   "source": [
    "#### Example"
   ]
  },
  {
   "cell_type": "code",
   "execution_count": 6,
   "id": "a44de704-b5d0-4268-b0c3-3941571610f1",
   "metadata": {
    "tags": []
   },
   "outputs": [
    {
     "name": "stdout",
     "output_type": "stream",
     "text": [
      "Employee created.\n",
      "Destructor called, Employee deleted.\n"
     ]
    }
   ],
   "source": [
    "class Employee:\n",
    " \n",
    "    # Initializing\n",
    "    def __init__(self):\n",
    "        print('Employee created.')\n",
    " \n",
    "    # Deleting (Calling destructor)\n",
    "    def __del__(self):\n",
    "        print('Destructor called, Employee deleted.')\n",
    " \n",
    "obj = Employee()\n",
    "del obj"
   ]
  },
  {
   "cell_type": "code",
   "execution_count": null,
   "id": "94080d3a-25d2-442d-a87f-ba8b50830fa4",
   "metadata": {},
   "outputs": [],
   "source": []
  }
 ],
 "metadata": {
  "kernelspec": {
   "display_name": "Python 3 (ipykernel)",
   "language": "python",
   "name": "python3"
  },
  "language_info": {
   "codemirror_mode": {
    "name": "ipython",
    "version": 3
   },
   "file_extension": ".py",
   "mimetype": "text/x-python",
   "name": "python",
   "nbconvert_exporter": "python",
   "pygments_lexer": "ipython3",
   "version": "3.11.4"
  }
 },
 "nbformat": 4,
 "nbformat_minor": 5
}
