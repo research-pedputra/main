{
 "cells": [
  {
   "cell_type": "markdown",
   "id": "c7c3fde4-9b26-4b75-a909-f74fe70b6511",
   "metadata": {
    "tags": []
   },
   "source": [
    "## Python Dictionary"
   ]
  },
  {
   "cell_type": "markdown",
   "id": "952efc6b-add6-4640-bf72-bb6f5b2daea8",
   "metadata": {},
   "source": [
    "`Dictionaries` are a fundamental data structure in Python that allow you to store and retrieve data using key-value pairs. Each key in a dictionary maps to a specific value, and you can use the key to access its associated value quickly. Dictionaries are mutable, unordered collections of items. "
   ]
  },
  {
   "cell_type": "markdown",
   "id": "3915a97b-b8c3-46ed-9565-5ae72d325227",
   "metadata": {},
   "source": [
    "#### 1. A Simple Dictionary"
   ]
  },
  {
   "cell_type": "code",
   "execution_count": 2,
   "id": "fdf8d85f-d0e3-4dd3-bb43-ef8a4e7e9756",
   "metadata": {
    "tags": []
   },
   "outputs": [
    {
     "name": "stdout",
     "output_type": "stream",
     "text": [
      "green\n",
      "5\n"
     ]
    }
   ],
   "source": [
    "alien_0 = {'color': 'green', 'points': 5}\n",
    "print(alien_0['color'])\n",
    "print(alien_0['points'])"
   ]
  },
  {
   "cell_type": "markdown",
   "id": "a893cb4e-0b4b-4ccc-8202-dcabf28d04bf",
   "metadata": {},
   "source": [
    "#### 2. Working with Dictionary"
   ]
  },
  {
   "cell_type": "code",
   "execution_count": 8,
   "id": "d2445429-1396-4f4e-abaa-d082c3539458",
   "metadata": {
    "tags": []
   },
   "outputs": [
    {
     "name": "stdout",
     "output_type": "stream",
     "text": [
      "People with name John is 30 years old\n"
     ]
    }
   ],
   "source": [
    "my_dict = {\"name\": \"John\", \"age\": 30, \"city\": \"New York\"}\n",
    "name = my_dict[\"name\"]  # Accessing value using key\n",
    "age = my_dict.get(\"age\")  # Using get() method\n",
    "print(f\"People with name {name} is {age} years old\")"
   ]
  },
  {
   "cell_type": "markdown",
   "id": "924627a9-38f9-4420-b76c-71080f7324f2",
   "metadata": {},
   "source": [
    "#### 3. Checking Existence"
   ]
  },
  {
   "cell_type": "code",
   "execution_count": 17,
   "id": "6c90768d-15b7-4821-8e78-5c9e6cf4d48f",
   "metadata": {
    "tags": []
   },
   "outputs": [
    {
     "name": "stdout",
     "output_type": "stream",
     "text": [
      "John is in the dictionary\n"
     ]
    }
   ],
   "source": [
    "if \"John\" in name:\n",
    "    print(f\"{name} is in the dictionary\")"
   ]
  },
  {
   "cell_type": "markdown",
   "id": "d18f2fbb-00da-4d93-ad95-2333fb25ab01",
   "metadata": {},
   "source": [
    "#### 4. Looping Through All the Keys in a Dictionary"
   ]
  },
  {
   "cell_type": "code",
   "execution_count": 20,
   "id": "e3dc0ecd-ed65-49a4-b5cb-283109464c8a",
   "metadata": {
    "tags": []
   },
   "outputs": [
    {
     "name": "stdout",
     "output_type": "stream",
     "text": [
      "Ayah\n",
      "Ibu\n",
      "Adik\n"
     ]
    }
   ],
   "source": [
    "favorite_languages = {\n",
    " 'Ayah': 'python',\n",
    " 'Ibu': 'c++',\n",
    " 'Adik': 'JAVA',\n",
    " }\n",
    "for name in favorite_languages.keys():\n",
    "    print(name.title())"
   ]
  },
  {
   "cell_type": "markdown",
   "id": "5d2ade75-719b-4949-b6b8-47a2e19ce8d9",
   "metadata": {},
   "source": [
    "#### 5. Advanced Looping within the Dictionary"
   ]
  },
  {
   "cell_type": "code",
   "execution_count": 21,
   "id": "c3651c68-e93d-4746-ae0e-dd24ce36846e",
   "metadata": {
    "tags": []
   },
   "outputs": [
    {
     "name": "stdout",
     "output_type": "stream",
     "text": [
      "Edward, thank you for taking the poll.\n",
      "Jen, thank you for taking the poll.\n",
      "Phil, thank you for taking the poll.\n",
      "Sarah, thank you for taking the poll.\n"
     ]
    }
   ],
   "source": [
    "favorite_languages = {\n",
    " 'jen': 'python',\n",
    " 'sarah': 'c',\n",
    " 'edward': 'rust',\n",
    " 'phil': 'python',\n",
    " }\n",
    "for name in sorted(favorite_languages.keys()):\n",
    "    print(f\"{name.title()}, thank you for taking the poll.\")"
   ]
  },
  {
   "cell_type": "code",
   "execution_count": null,
   "id": "f0055d96-b554-4263-9624-b4c117071b31",
   "metadata": {},
   "outputs": [],
   "source": []
  }
 ],
 "metadata": {
  "kernelspec": {
   "display_name": "Python 3 (ipykernel)",
   "language": "python",
   "name": "python3"
  },
  "language_info": {
   "codemirror_mode": {
    "name": "ipython",
    "version": 3
   },
   "file_extension": ".py",
   "mimetype": "text/x-python",
   "name": "python",
   "nbconvert_exporter": "python",
   "pygments_lexer": "ipython3",
   "version": "3.11.4"
  }
 },
 "nbformat": 4,
 "nbformat_minor": 5
}
