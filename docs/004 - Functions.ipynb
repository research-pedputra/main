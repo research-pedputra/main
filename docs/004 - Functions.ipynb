{
 "cells": [
  {
   "cell_type": "markdown",
   "id": "3c90c59c-29fd-4abc-89a8-e15f9f33e0c2",
   "metadata": {},
   "source": [
    "## Functions"
   ]
  },
  {
   "cell_type": "markdown",
   "id": "e33411b2-53df-4a9c-be58-7726b15b078d",
   "metadata": {},
   "source": [
    "`Functions` are reusable blocks of code in Python that perform a specific task or a set of tasks. They are a fundamental concept in programming that help you organize your code, improve readability, and enable code reuse. In Python, you can define functions using the `def` keyword. "
   ]
  },
  {
   "cell_type": "markdown",
   "id": "8002f71c-4ea4-4342-ab6b-6349cb82ce7b",
   "metadata": {},
   "source": [
    "To define a function in Python, you use the `def` keyword followed by the function name and a pair of parentheses. Any input parameters (arguments) are listed inside the parentheses, and a colon `:` is used to indicate the start of the function block. The function block is indented."
   ]
  },
  {
   "cell_type": "markdown",
   "id": "bd42b333-4ace-4d00-9315-5184a28ee254",
   "metadata": {},
   "source": [
    "Syntax"
   ]
  },
  {
   "cell_type": "code",
   "execution_count": 1,
   "id": "d42f8bc2-721e-499d-845f-a7f2ce08625e",
   "metadata": {
    "tags": []
   },
   "outputs": [],
   "source": [
    "def greet(name):\n",
    "    print(f\"Hello, {name}!\")"
   ]
  },
  {
   "cell_type": "markdown",
   "id": "0c73cc4b-2f4c-4732-b7b0-b8ef8458174e",
   "metadata": {},
   "source": [
    "### Function Argument"
   ]
  },
  {
   "cell_type": "code",
   "execution_count": 2,
   "id": "bbca1bed-7e81-47f7-a815-d9f33347f946",
   "metadata": {
    "tags": []
   },
   "outputs": [],
   "source": [
    "def add(x, y):\n",
    "    result = x + y\n",
    "    return result"
   ]
  },
  {
   "cell_type": "markdown",
   "id": "94fa024f-e280-42b0-9caf-a67deecfc2bf",
   "metadata": {},
   "source": [
    "### Return Values"
   ]
  },
  {
   "cell_type": "code",
   "execution_count": 3,
   "id": "e97fa80d-ba77-445d-b08d-6f4feb2b3a2f",
   "metadata": {
    "tags": []
   },
   "outputs": [
    {
     "name": "stdout",
     "output_type": "stream",
     "text": [
      "8\n"
     ]
    }
   ],
   "source": [
    "sum_result = add(5, 3)\n",
    "print(sum_result) "
   ]
  },
  {
   "cell_type": "markdown",
   "id": "5468e99a-8ce9-4f16-95a7-2a82b183fa02",
   "metadata": {},
   "source": [
    "### Passing Information to a Function"
   ]
  },
  {
   "cell_type": "code",
   "execution_count": 4,
   "id": "3a0e0998-0d1e-41e9-b55f-56cfb6e09c09",
   "metadata": {
    "tags": []
   },
   "outputs": [
    {
     "name": "stdout",
     "output_type": "stream",
     "text": [
      "Hello, Jesse!\n"
     ]
    }
   ],
   "source": [
    "def greet_user(username):\n",
    " \"\"\"Display a simple greeting.\"\"\"\n",
    " print(f\"Hello, {username.title()}!\")\n",
    "greet_user('jesse')\n"
   ]
  },
  {
   "cell_type": "markdown",
   "id": "92a1988b-dce1-490e-aa57-3e17879c20b7",
   "metadata": {},
   "source": [
    "### Math Operations"
   ]
  },
  {
   "cell_type": "code",
   "execution_count": 10,
   "id": "096ce17f-3092-4435-af0d-3942fabfd52a",
   "metadata": {
    "tags": []
   },
   "outputs": [
    {
     "name": "stdout",
     "output_type": "stream",
     "text": [
      "5.521739130434782\n"
     ]
    }
   ],
   "source": [
    "data = ([1,2,4,3,2,4,5,5,6,7,8,7,6,7,6,7,6,7,6,7,6,7,8])\n",
    "\n",
    "def func_ave():\n",
    "    return sum(data)/len(data)\n",
    "\n",
    "print(func_ave())"
   ]
  },
  {
   "cell_type": "markdown",
   "id": "077bce34-564c-4ca7-aa9d-c3be7c1ac7f1",
   "metadata": {},
   "source": [
    "### Deleting element data"
   ]
  },
  {
   "cell_type": "code",
   "execution_count": 11,
   "id": "3aa91c7e-5611-4ac7-9141-d899269e1b1f",
   "metadata": {
    "tags": []
   },
   "outputs": [
    {
     "name": "stdout",
     "output_type": "stream",
     "text": [
      "[1, 2, 3, 4, 5, 6, 7, 8]\n"
     ]
    }
   ],
   "source": [
    "data = ([1,2,3,4,5,6,7,8,9,10])\n",
    "\n",
    "def delete_last(num):\n",
    "    return data[:-num]\n",
    "\n",
    "print(delete_last(2))"
   ]
  },
  {
   "cell_type": "markdown",
   "id": "b8c24933-b39a-4e0d-84f6-d0d7622f5726",
   "metadata": {
    "tags": []
   },
   "source": [
    "### Removing a certain element data"
   ]
  },
  {
   "cell_type": "code",
   "execution_count": 15,
   "id": "495ce274-3e90-4af9-a7c6-8342038b4f61",
   "metadata": {
    "tags": []
   },
   "outputs": [
    {
     "name": "stdout",
     "output_type": "stream",
     "text": [
      "Removed item: 5\n",
      "Updated data: ['a', 'dua']\n"
     ]
    }
   ],
   "source": [
    "data = [\"a\", \"5\", \"dua\"]\n",
    "\n",
    "def remover(data, index):\n",
    "    if index >= 0 and index < len(data):\n",
    "        removed_item = data.pop(index)\n",
    "        return removed_item\n",
    "    else:\n",
    "        return None  # Return None if the index is out of range\n",
    "\n",
    "removed_value = remover(data, 1)\n",
    "\n",
    "if removed_value is not None:\n",
    "    print(f\"Removed item: {removed_value}\")\n",
    "    print(\"Updated data:\", data)\n",
    "else:\n",
    "    print(\"Index is out of range.\")\n"
   ]
  },
  {
   "cell_type": "code",
   "execution_count": null,
   "id": "ee03207a-1ed7-471d-a24a-57dc0a4d1c8e",
   "metadata": {},
   "outputs": [],
   "source": []
  }
 ],
 "metadata": {
  "kernelspec": {
   "display_name": "Python 3 (ipykernel)",
   "language": "python",
   "name": "python3"
  },
  "language_info": {
   "codemirror_mode": {
    "name": "ipython",
    "version": 3
   },
   "file_extension": ".py",
   "mimetype": "text/x-python",
   "name": "python",
   "nbconvert_exporter": "python",
   "pygments_lexer": "ipython3",
   "version": "3.11.4"
  }
 },
 "nbformat": 4,
 "nbformat_minor": 5
}
