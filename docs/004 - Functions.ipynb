{
 "cells": [
  {
   "cell_type": "markdown",
   "id": "3c90c59c-29fd-4abc-89a8-e15f9f33e0c2",
   "metadata": {},
   "source": [
    "# Functions"
   ]
  },
  {
   "cell_type": "markdown",
   "id": "e33411b2-53df-4a9c-be58-7726b15b078d",
   "metadata": {},
   "source": [
    "`Functions` are reusable blocks of code in Python that perform a specific task or a set of tasks. They are a fundamental concept in programming that help you organize your code, improve readability, and enable code reuse. In Python, you can define functions using the `def` keyword. "
   ]
  },
  {
   "cell_type": "markdown",
   "id": "8002f71c-4ea4-4342-ab6b-6349cb82ce7b",
   "metadata": {},
   "source": [
    "To define a function in Python, you use the `def` keyword followed by the function name and a pair of parentheses. Any input parameters (arguments) are listed inside the parentheses, and a colon `:` is used to indicate the start of the function block. The function block is indented."
   ]
  },
  {
   "cell_type": "markdown",
   "id": "0caa8cb7-bc32-4bac-851a-ce5091e0b802",
   "metadata": {},
   "source": [
    "<div class=\"alert alert-success\">\n",
    "A function is a re-usable piece of code that performs operations on a specified set of variables, and returns the result.\n",
    "</div>"
   ]
  },
  {
   "cell_type": "code",
   "execution_count": null,
   "id": "f49de2e7-2564-4a92-bacf-f9b886da4547",
   "metadata": {
    "tags": []
   },
   "outputs": [],
   "source": [
    "# improving that function using return\n",
    "def return_value(num):\n",
    "    \n",
    "    # do some operation\n",
    "    output = num\n",
    "    \n",
    "    # return an answer\n",
    "    return output"
   ]
  },
  {
   "cell_type": "markdown",
   "id": "bd42b333-4ace-4d00-9315-5184a28ee254",
   "metadata": {},
   "source": [
    "Syntax"
   ]
  },
  {
   "cell_type": "code",
   "execution_count": null,
   "id": "d42f8bc2-721e-499d-845f-a7f2ce08625e",
   "metadata": {
    "tags": []
   },
   "outputs": [],
   "source": [
    "def greet(name):\n",
    "    print(f\"Hello, {name}!\")"
   ]
  },
  {
   "cell_type": "markdown",
   "id": "65177e66-79fe-4458-ab1c-e4fe94018a75",
   "metadata": {},
   "source": [
    "### Working with Local Variables"
   ]
  },
  {
   "cell_type": "code",
   "execution_count": null,
   "id": "bbdb5f52-7fc4-4abc-9d85-510d4d8a7036",
   "metadata": {
    "tags": []
   },
   "outputs": [],
   "source": [
    "def Withdrawal():\n",
    "    money = int(input(\"How much money you want to withdraw?\"))\n",
    "    print(f\"IDR {money} has been withdrawn from your account.\")"
   ]
  },
  {
   "cell_type": "code",
   "execution_count": null,
   "id": "c711aa16-054f-4fc9-b1e7-03beb17d2497",
   "metadata": {
    "tags": []
   },
   "outputs": [],
   "source": [
    "Withdrawal()"
   ]
  },
  {
   "cell_type": "code",
   "execution_count": null,
   "id": "e6d4dab1-d87d-48e1-91c3-2250a414e400",
   "metadata": {
    "tags": []
   },
   "outputs": [],
   "source": [
    "def circle_area():\n",
    "    pi = 3.14\n",
    "    radius = int(input(\"What is the radius?\"))\n",
    "    print(f\"The area of the circle is {pi*radius*radius}\")"
   ]
  },
  {
   "cell_type": "code",
   "execution_count": null,
   "id": "bc2f3a16-441d-423a-8a5e-a5f12fa5e9af",
   "metadata": {
    "tags": []
   },
   "outputs": [],
   "source": [
    "circle_area()"
   ]
  },
  {
   "cell_type": "code",
   "execution_count": null,
   "id": "a23b73cb-f733-4dcb-9a4f-a532abfa4477",
   "metadata": {},
   "outputs": [],
   "source": []
  },
  {
   "cell_type": "markdown",
   "id": "5d8e8735-2aa8-411f-a3c1-bbe8c444dc57",
   "metadata": {},
   "source": [
    "### Passing single/multiple argument to a function\n",
    "\n",
    "So far, the functions we've defined have only printed out the input provided to the function. That's not very practical. Typically functions carry out a meaningul operation. To demonstrate this, let's generate a function that takes two values as its input parameters, adds them together, and then returns the sum of the values as its output.\n",
    "\n",
    "We'll call this function `add_two_numbers`:"
   ]
  },
  {
   "cell_type": "code",
   "execution_count": null,
   "id": "62a5372a-5592-4bbc-8d31-88e8d2d1ff53",
   "metadata": {
    "tags": []
   },
   "outputs": [],
   "source": [
    "# define function\n",
    "def add_two_numbers(num1, num2):\n",
    "    \n",
    "    # Do some operations on the input variables\n",
    "    answer = num1 + num2\n",
    "    \n",
    "    # Return the answer\n",
    "    return answer"
   ]
  },
  {
   "cell_type": "code",
   "execution_count": null,
   "id": "5ce291db-6d87-402b-802b-31ee38f0231b",
   "metadata": {
    "tags": []
   },
   "outputs": [],
   "source": [
    "# execute function\n",
    "add_two_numbers(-1, 4)"
   ]
  },
  {
   "cell_type": "code",
   "execution_count": null,
   "id": "a6e62905-3183-4452-95a0-dd2e3751918b",
   "metadata": {
    "tags": []
   },
   "outputs": [],
   "source": [
    "# Execute our function again, on some other inputs\n",
    "output = add_two_numbers(-1, 4)\n",
    "print(output)"
   ]
  },
  {
   "cell_type": "code",
   "execution_count": 1,
   "id": "fda1bde7-f6df-43d2-9930-e0ee12456732",
   "metadata": {
    "tags": []
   },
   "outputs": [],
   "source": [
    "def circle_area(radius):\n",
    "    pi = 3.14\n",
    "    area = pi*radius*radius\n",
    "    print(f\"The area of the circle is {area}\")"
   ]
  },
  {
   "cell_type": "code",
   "execution_count": 2,
   "id": "aa446257-1e26-4bc4-831f-dc2485bf5a31",
   "metadata": {
    "tags": []
   },
   "outputs": [
    {
     "name": "stdout",
     "output_type": "stream",
     "text": [
      "The area of the circle is 12.56\n"
     ]
    }
   ],
   "source": [
    "circle_area(2)"
   ]
  },
  {
   "cell_type": "markdown",
   "id": "10f81e9f-cc8f-45fd-8a90-efd300362e80",
   "metadata": {},
   "source": [
    "### Passing an argument with Multiple Operations\n",
    "\n",
    "Further, we aren't limited to a single operation within a user-defined function. We can use multiple operations and all of the concepts we've used previously (including, for example, loops and conditionals).\n",
    "\n",
    "For example, here we define a function called `even_odd`. It takes a single input parameter `value`.\n",
    "\n",
    "Within the body of the function we use conditionals to determine `if` the input parameter value is even (`value % 2 == 0`). If even, the function stores 'even' in the variable `out`. Otherwise (`else`) it stores 'odd' in the variable `out`.\n",
    "\n",
    "This variable `out` is `return`-ed."
   ]
  },
  {
   "cell_type": "code",
   "execution_count": null,
   "id": "d8ff3e1d-af50-4c8d-aee9-6853257439ab",
   "metadata": {
    "tags": []
   },
   "outputs": [],
   "source": [
    "# determine if a value is even or odd\n",
    "# and return that value\n",
    "def even_odd(value): \n",
    "    if (value % 2 == 0): \n",
    "        out = 'even'\n",
    "    else: \n",
    "        out = 'odd'\n",
    "    \n",
    "    return out"
   ]
  },
  {
   "cell_type": "code",
   "execution_count": null,
   "id": "0a2d9de1-6a1f-4d82-be39-8e1ad27e3d6c",
   "metadata": {
    "tags": []
   },
   "outputs": [],
   "source": [
    "# Execute our function\n",
    "even_odd(-1)"
   ]
  },
  {
   "cell_type": "markdown",
   "id": "0c73cc4b-2f4c-4732-b7b0-b8ef8458174e",
   "metadata": {},
   "source": [
    "### Other Example"
   ]
  },
  {
   "cell_type": "code",
   "execution_count": null,
   "id": "bbca1bed-7e81-47f7-a815-d9f33347f946",
   "metadata": {
    "tags": []
   },
   "outputs": [],
   "source": [
    "def add(x, y):\n",
    "    result = x + y\n",
    "    return result"
   ]
  },
  {
   "cell_type": "code",
   "execution_count": null,
   "id": "e97fa80d-ba77-445d-b08d-6f4feb2b3a2f",
   "metadata": {
    "tags": []
   },
   "outputs": [],
   "source": [
    "sum_result = add(5, 3)\n",
    "print(sum_result) "
   ]
  },
  {
   "cell_type": "code",
   "execution_count": null,
   "id": "3a0e0998-0d1e-41e9-b55f-56cfb6e09c09",
   "metadata": {
    "tags": []
   },
   "outputs": [],
   "source": [
    "def greet_user(username):\n",
    " \"\"\"Display a simple greeting.\"\"\"\n",
    " print(f\"Hello, {username.title()}!\")\n",
    "greet_user('jesse')\n"
   ]
  },
  {
   "cell_type": "code",
   "execution_count": null,
   "id": "096ce17f-3092-4435-af0d-3942fabfd52a",
   "metadata": {
    "tags": []
   },
   "outputs": [],
   "source": [
    "data = ([1,2,4,3,2,4,5,5,6,7,8,7,6,7,6,7,6,7,6,7,6,7,8])\n",
    "\n",
    "def func_ave():\n",
    "    return sum(data)/len(data)\n",
    "\n",
    "print(func_ave())"
   ]
  },
  {
   "cell_type": "code",
   "execution_count": null,
   "id": "3aa91c7e-5611-4ac7-9141-d899269e1b1f",
   "metadata": {
    "tags": []
   },
   "outputs": [],
   "source": [
    "data = ([1,2,3,4,5,6,7,8,9,10])\n",
    "\n",
    "def delete_last(num):\n",
    "    return data[:-num]\n",
    "\n",
    "print(delete_last(2))"
   ]
  },
  {
   "cell_type": "code",
   "execution_count": null,
   "id": "495ce274-3e90-4af9-a7c6-8342038b4f61",
   "metadata": {
    "tags": []
   },
   "outputs": [],
   "source": [
    "data = [\"a\", \"5\", \"dua\"]\n",
    "\n",
    "def remover(data, index):\n",
    "    if index >= 0 and index < len(data):\n",
    "        removed_item = data.pop(index)\n",
    "        return removed_item\n",
    "    else:\n",
    "        return None  # Return None if the index is out of range\n",
    "\n",
    "removed_value = remover(data, 1)\n",
    "\n",
    "if removed_value is not None:\n",
    "    print(f\"Removed item: {removed_value}\")\n",
    "    print(\"Updated data:\", data)\n",
    "else:\n",
    "    print(\"Index is out of range.\")\n"
   ]
  },
  {
   "cell_type": "markdown",
   "id": "8c0d8457-54b1-40fc-9c37-f49f110adfbe",
   "metadata": {},
   "source": [
    "## Exercises\n",
    "\n",
    "Q1. **Given the function here, what would `print(remainder(12, 5) + remainder(2, 2))` return?**\n",
    "\n",
    "```python\n",
    "def remainder(number, divider):\n",
    "    \n",
    "    r = number % divider\n",
    "    \n",
    "    return r\n",
    "```\n",
    "\n",
    "Q2. **Write a function `greet` that takes the parameter `name`. Inside the function, concatenate 'Hello', the person's name, and 'Good morning!\". Assign this to `output` and return `output`.**\n",
    "<br>\n",
    "\n",
    "Q3. **Update your `greet` function to include an informative docstring**.\n",
    "<br>\n",
    "\n",
    "Q4. **Given the following, what would `print_numbers(5, 12.2)` print?**\n",
    "\n",
    "```python\n",
    "an_int = 2\n",
    "a_float = 11.5\n",
    "\n",
    "def print_numbers(an_int, a_float):\n",
    "    print(an_int, ',', a_float)\n",
    "```\n",
    "\n",
    "Q5. **Given the following function, what would `string_manipulator('abcde')` return?**\n",
    "\n",
    "```python\n",
    "def string_manipulator(string):\n",
    "    \n",
    "    output = ''\n",
    "    for char in string:\n",
    "        if char == 'a' or char == 'e':\n",
    "            char = 'z' \n",
    "        output = output + char\n",
    "    \n",
    "    return output\n",
    "```\n",
    "\n",
    "Q6. **Given the following function, what would `exponentiate(exponent = 2, number = 4)` return**?\n",
    "\n",
    "```python\n",
    "def exponentiate(number, exponent = 2):    \n",
    "    return number ** exponent\n",
    "```"
   ]
  },
  {
   "cell_type": "code",
   "execution_count": null,
   "id": "739cb30e-48b5-4147-a114-abcffb90c924",
   "metadata": {},
   "outputs": [],
   "source": []
  }
 ],
 "metadata": {
  "kernelspec": {
   "display_name": "Python 3 (ipykernel)",
   "language": "python",
   "name": "python3"
  },
  "language_info": {
   "codemirror_mode": {
    "name": "ipython",
    "version": 3
   },
   "file_extension": ".py",
   "mimetype": "text/x-python",
   "name": "python",
   "nbconvert_exporter": "python",
   "pygments_lexer": "ipython3",
   "version": "3.11.4"
  }
 },
 "nbformat": 4,
 "nbformat_minor": 5
}
