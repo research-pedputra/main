{
 "cells": [
  {
   "cell_type": "markdown",
   "id": "c7c3fde4-9b26-4b75-a909-f74fe70b6511",
   "metadata": {
    "tags": []
   },
   "source": [
    "# Python Data Structure"
   ]
  },
  {
   "cell_type": "markdown",
   "id": "f0f6ad73-35f4-4156-8c0f-f0e1255fd135",
   "metadata": {
    "tags": []
   },
   "source": [
    "## Data Types"
   ]
  },
  {
   "cell_type": "markdown",
   "id": "1c33b0fc-acfd-457b-980d-080639989fa2",
   "metadata": {},
   "source": [
    "<p> There are many kinds built-in data type can be use in Python programming. </p> \n",
    "\n",
    "1. Numeric Types:\n",
    "   - `int`: Represents integers, such as 5, -3, and 0.\n",
    "   - `float`: Represents floating-point numbers, including decimal values like 3.14.\n",
    "\n",
    "2. Text Type:\n",
    "   - `str`: Represents strings of characters, such as \"Hello, World!\".\n",
    "\n",
    "3. Boolean Type:\n",
    "   - `bool`: Represents boolean values, which can be either `True` or `False`.\n",
    "\n",
    "4. Sequence Types:\n",
    "   - `list`: Represents ordered and mutable (changeable) sequences of elements.\n",
    "   - `tuple`: Represents ordered and immutable (unchangeable) sequences.\n",
    "   - `range`: Represents a sequence of numbers.\n",
    "5. Complex Types:\n",
    "   - `real + imaginary`: Normally starts with cobination of \"int\" and \"str\", where the \"str\" part represent the imaginary while the \"int\" represent the real number..\n",
    "etc.\n",
    "\n",
    "Check for more https://realpython.com/python-data-types/"
   ]
  },
  {
   "cell_type": "markdown",
   "id": "48976422-0d8c-441f-88ed-2dc625af3907",
   "metadata": {},
   "source": [
    "<p> List and tuple may lok the same, but it is totally different. List with starts with [] while tuple starts with (). List has mutability (can be change after created) while tuple does not. </p>"
   ]
  },
  {
   "cell_type": "code",
   "execution_count": null,
   "id": "9ed291f7-2374-4cb7-a278-f45979b0b6cc",
   "metadata": {},
   "outputs": [],
   "source": [
    "# Data type\n",
    "A = 1\n",
    "print(type(A))"
   ]
  },
  {
   "cell_type": "code",
   "execution_count": null,
   "id": "7a893498-081b-4632-85f8-bfb58f0a08c2",
   "metadata": {},
   "outputs": [],
   "source": [
    "# Data type\n",
    "A =1.2\n",
    "print(type(A))"
   ]
  },
  {
   "cell_type": "code",
   "execution_count": null,
   "id": "44240ae4-4ef5-4ded-a6dc-10f24eaff4b3",
   "metadata": {},
   "outputs": [],
   "source": [
    "# Data type\n",
    "A =range(10)\n",
    "print(type(A))\n",
    "print(A)"
   ]
  },
  {
   "cell_type": "code",
   "execution_count": null,
   "id": "caab46f6-622d-4d2a-9f78-3ba297136a57",
   "metadata": {},
   "outputs": [],
   "source": [
    "# Data type\n",
    "A = 3 + 4j\n",
    "print(type(A))"
   ]
  },
  {
   "cell_type": "code",
   "execution_count": null,
   "id": "6af77c11-d7e3-4e76-94a8-04cdfacc0d5c",
   "metadata": {},
   "outputs": [],
   "source": [
    "# Data type\n",
    "A = \"Hallo Sayang\"\n",
    "print(type(A))"
   ]
  },
  {
   "cell_type": "code",
   "execution_count": null,
   "id": "76d31c0b-7c1a-4e37-ba14-ea1a2a529ad3",
   "metadata": {},
   "outputs": [],
   "source": [
    "# Data type\n",
    "A = True\n",
    "print(type(A))"
   ]
  },
  {
   "cell_type": "code",
   "execution_count": null,
   "id": "d9ca234a-fbfa-4677-91c3-4a93fe8bfad5",
   "metadata": {},
   "outputs": [],
   "source": [
    "# Data type\n",
    "A = [\"Andi\", \"Cinta\", \"Jessica\"]\n",
    "print(type(A))"
   ]
  },
  {
   "cell_type": "code",
   "execution_count": null,
   "id": "6f0d6164-5108-45de-a9f4-754e2ba26459",
   "metadata": {},
   "outputs": [],
   "source": [
    "# Data type\n",
    "A = (\"Andi\", \"Cinta\", \"Jessica\")\n",
    "print(type(A))"
   ]
  },
  {
   "cell_type": "markdown",
   "id": "e29d89bd-5fcb-40b5-80ad-a33b019e23aa",
   "metadata": {},
   "source": [
    "## List"
   ]
  },
  {
   "cell_type": "code",
   "execution_count": null,
   "id": "eddbf02e-fe2c-41cd-aa0e-7e591dcee73b",
   "metadata": {
    "tags": []
   },
   "outputs": [],
   "source": [
    "number = ([1,2,3,4,5,6])"
   ]
  },
  {
   "cell_type": "markdown",
   "id": "f02d5b2f-ad78-4e81-9f16-34a80324ba2d",
   "metadata": {},
   "source": [
    "Measuring the length of the data, uses the len(number)."
   ]
  },
  {
   "cell_type": "code",
   "execution_count": null,
   "id": "3013778a-701a-4213-bed6-19e9c8f7f584",
   "metadata": {
    "tags": []
   },
   "outputs": [],
   "source": [
    "print(len(number))"
   ]
  },
  {
   "cell_type": "markdown",
   "id": "2b37af4c-fe67-4818-bd2f-0b14d561151b",
   "metadata": {},
   "source": [
    "Indexing on the data can be done by "
   ]
  },
  {
   "cell_type": "code",
   "execution_count": null,
   "id": "0e556767-d688-4d3f-afed-54c93847709d",
   "metadata": {
    "tags": []
   },
   "outputs": [],
   "source": [
    "number[0]"
   ]
  },
  {
   "cell_type": "markdown",
   "id": "28817cb7-b64d-4474-a477-050c349b53ca",
   "metadata": {},
   "source": [
    "<img src=\"img/List-slicing_data.jpg\" alt=\"\" width=\"800\">"
   ]
  },
  {
   "cell_type": "code",
   "execution_count": null,
   "id": "70314b3d-b118-4f68-b0c3-4f1626cd921d",
   "metadata": {
    "tags": []
   },
   "outputs": [],
   "source": [
    "List = [\"Alfa\", \"Prima\", \"Students\"]\n",
    "print(\"List containing multiple values: \")\n",
    "print(List)"
   ]
  },
  {
   "cell_type": "code",
   "execution_count": null,
   "id": "2aaa24b4-8ae0-4923-8b6a-960838f7b013",
   "metadata": {},
   "outputs": [],
   "source": []
  },
  {
   "cell_type": "markdown",
   "id": "593639d1-b314-4ee5-be5f-727ec810d14f",
   "metadata": {},
   "source": [
    "Data can be multi-dimension. "
   ]
  },
  {
   "cell_type": "code",
   "execution_count": null,
   "id": "90c584a3-0ae4-476d-9892-9e3dacb13ca2",
   "metadata": {
    "tags": []
   },
   "outputs": [],
   "source": [
    "Brand = [['Yamaha', 'Honda'], ['Suzuki'], ['Tesla'], ['Toyota']]\n",
    "print(\"Multi-Dimensional List: \")\n",
    "print(Brand)"
   ]
  },
  {
   "cell_type": "markdown",
   "id": "5c2b7b29-50e7-44cc-9e3a-91d413ea49b0",
   "metadata": {
    "tags": []
   },
   "source": [
    "accessing a element from the list using index number"
   ]
  },
  {
   "cell_type": "code",
   "execution_count": null,
   "id": "403382a8-7b96-4d89-af13-1847e448594e",
   "metadata": {
    "tags": []
   },
   "outputs": [],
   "source": [
    "print(\"Accessing element from the list\")\n",
    "print(List[0])\n",
    "print(Brand[0])"
   ]
  },
  {
   "cell_type": "markdown",
   "id": "9d0711ad-5956-4c15-953a-b504ebcbbc4f",
   "metadata": {},
   "source": [
    "Accessing element using negative indexing"
   ]
  },
  {
   "cell_type": "code",
   "execution_count": null,
   "id": "5bcec332-9cd4-432f-ac20-7af50330eab6",
   "metadata": {
    "tags": []
   },
   "outputs": [],
   "source": [
    "# print the last element of list\n",
    "print(List[-1])\n",
    "\t\n",
    "# print the third last element of list\n",
    "print(List[-3])"
   ]
  },
  {
   "cell_type": "markdown",
   "id": "8c5fa134-58ac-48a4-ba52-b30952ddb491",
   "metadata": {},
   "source": [
    "How we count the data. "
   ]
  },
  {
   "cell_type": "code",
   "execution_count": 16,
   "id": "3340dbad-91df-4244-a180-d19baade107e",
   "metadata": {
    "tags": []
   },
   "outputs": [
    {
     "data": {
      "text/plain": [
       "2"
      ]
     },
     "execution_count": 16,
     "metadata": {},
     "output_type": "execute_result"
    }
   ],
   "source": [
    "fruits = ['orange', 'apple', 'pear', 'banana', 'kiwi', 'apple', 'banana']\n",
    "\n",
    "fruits.count('banana')"
   ]
  },
  {
   "cell_type": "markdown",
   "id": "750a5e3f-37ef-48ca-afb6-81585dfc2e11",
   "metadata": {},
   "source": [
    "Finding the index/location."
   ]
  },
  {
   "cell_type": "code",
   "execution_count": 17,
   "id": "bd053445-0f8a-4d0a-8269-c0321f97ddfd",
   "metadata": {
    "tags": []
   },
   "outputs": [
    {
     "data": {
      "text/plain": [
       "3"
      ]
     },
     "execution_count": 17,
     "metadata": {},
     "output_type": "execute_result"
    }
   ],
   "source": [
    "fruits.index('banana')"
   ]
  },
  {
   "cell_type": "markdown",
   "id": "3c88821b-0d24-4048-97f5-b9d6ac77b763",
   "metadata": {},
   "source": [
    "How can we updating the list."
   ]
  },
  {
   "cell_type": "code",
   "execution_count": 18,
   "id": "b339da68-11c2-4a00-a304-1800849471d5",
   "metadata": {
    "tags": []
   },
   "outputs": [
    {
     "data": {
      "text/plain": [
       "['orange', 'apple', 'pear', 'banana', 'kiwi', 'apple', 'banana', 'grape']"
      ]
     },
     "execution_count": 18,
     "metadata": {},
     "output_type": "execute_result"
    }
   ],
   "source": [
    "fruits.append('grape')\n",
    "fruits"
   ]
  },
  {
   "cell_type": "markdown",
   "id": "6819a2d7-6177-40f1-9438-236dd55523ac",
   "metadata": {},
   "source": [
    "## Tuple"
   ]
  },
  {
   "cell_type": "code",
   "execution_count": null,
   "id": "f3b8fca3-6dc8-4a25-91ef-d9da4f102842",
   "metadata": {
    "tags": []
   },
   "outputs": [],
   "source": [
    "my_list = [1, 2, 3, 4, 5]\n",
    "my_tuple = (1, 2, 3, 4, 5)"
   ]
  },
  {
   "cell_type": "code",
   "execution_count": null,
   "id": "3eff7d69-2bf7-4f14-b7a9-afa34b64b1b1",
   "metadata": {
    "tags": []
   },
   "outputs": [],
   "source": [
    "type(my_list)"
   ]
  },
  {
   "cell_type": "code",
   "execution_count": null,
   "id": "f804634d-4d5b-4185-b346-a1de5e6c1d19",
   "metadata": {
    "tags": []
   },
   "outputs": [],
   "source": [
    "type(my_tuple)"
   ]
  },
  {
   "cell_type": "markdown",
   "id": "6d08e90f-41ae-40da-8385-650e98de0bcf",
   "metadata": {},
   "source": [
    "Tuple is `immutable` data types. "
   ]
  },
  {
   "cell_type": "code",
   "execution_count": null,
   "id": "944e0640-329e-4353-a3a0-f47f7300034c",
   "metadata": {
    "tags": []
   },
   "outputs": [],
   "source": [
    "my_tuple[1] = 4"
   ]
  },
  {
   "cell_type": "code",
   "execution_count": null,
   "id": "de1b1ba3-3a0b-45be-9860-f0fd6bd359f9",
   "metadata": {
    "tags": []
   },
   "outputs": [],
   "source": [
    "my_list[1] = 4"
   ]
  },
  {
   "cell_type": "code",
   "execution_count": null,
   "id": "28a557d0-9c94-40ac-a0f4-2d680433cf27",
   "metadata": {},
   "outputs": [],
   "source": []
  },
  {
   "cell_type": "markdown",
   "id": "3915a97b-b8c3-46ed-9565-5ae72d325227",
   "metadata": {},
   "source": [
    "## Dictionary"
   ]
  },
  {
   "cell_type": "markdown",
   "id": "952efc6b-add6-4640-bf72-bb6f5b2daea8",
   "metadata": {},
   "source": [
    "`Dictionaries` are a fundamental data structure in Python that allow you to store and retrieve data using key-value pairs. Each key in a dictionary maps to a specific value, and you can use the key to access its associated value quickly. Dictionaries are mutable, unordered collections of items. "
   ]
  },
  {
   "cell_type": "code",
   "execution_count": 4,
   "id": "fdf8d85f-d0e3-4dd3-bb43-ef8a4e7e9756",
   "metadata": {
    "tags": []
   },
   "outputs": [
    {
     "name": "stdout",
     "output_type": "stream",
     "text": [
      "green\n",
      "5\n"
     ]
    }
   ],
   "source": [
    "alien_0 = {'color': 'green', 'points': 5}\n",
    "print(alien_0['color'])\n",
    "print(alien_0['points'])"
   ]
  },
  {
   "cell_type": "code",
   "execution_count": 5,
   "id": "d76ccaa0-5821-4f40-b279-0d666590872b",
   "metadata": {
    "tags": []
   },
   "outputs": [
    {
     "ename": "KeyError",
     "evalue": "0",
     "output_type": "error",
     "traceback": [
      "\u001b[1;31m---------------------------------------------------------------------------\u001b[0m",
      "\u001b[1;31mKeyError\u001b[0m                                  Traceback (most recent call last)",
      "Cell \u001b[1;32mIn[5], line 1\u001b[0m\n\u001b[1;32m----> 1\u001b[0m alien_0[\u001b[38;5;241m0\u001b[39m]\n",
      "\u001b[1;31mKeyError\u001b[0m: 0"
     ]
    }
   ],
   "source": [
    "alien_0[0]"
   ]
  },
  {
   "cell_type": "markdown",
   "id": "a893cb4e-0b4b-4ccc-8202-dcabf28d04bf",
   "metadata": {},
   "source": [
    "Working with Dictionary"
   ]
  },
  {
   "cell_type": "code",
   "execution_count": 1,
   "id": "d2445429-1396-4f4e-abaa-d082c3539458",
   "metadata": {
    "tags": []
   },
   "outputs": [
    {
     "name": "stdout",
     "output_type": "stream",
     "text": [
      "People with name John is 30 years old\n"
     ]
    }
   ],
   "source": [
    "my_dict = {\"name\": \"John\", \"age\": 30, \"city\": \"New York\"}\n",
    "name = my_dict[\"name\"]  # Accessing value using key\n",
    "age = my_dict.get(\"age\")  # Using get() method\n",
    "print(f\"People with name {name} is {age} years old\")"
   ]
  },
  {
   "cell_type": "markdown",
   "id": "924627a9-38f9-4420-b76c-71080f7324f2",
   "metadata": {
    "jp-MarkdownHeadingCollapsed": true,
    "tags": []
   },
   "source": [
    "Checking Existence"
   ]
  },
  {
   "cell_type": "code",
   "execution_count": 2,
   "id": "6c90768d-15b7-4821-8e78-5c9e6cf4d48f",
   "metadata": {
    "tags": []
   },
   "outputs": [
    {
     "name": "stdout",
     "output_type": "stream",
     "text": [
      "John is in the dictionary\n"
     ]
    }
   ],
   "source": [
    "print(f\"{name} is in the dictionary\")"
   ]
  },
  {
   "cell_type": "code",
   "execution_count": 7,
   "id": "f0055d96-b554-4263-9624-b4c117071b31",
   "metadata": {},
   "outputs": [
    {
     "name": "stdout",
     "output_type": "stream",
     "text": [
      "30\n"
     ]
    }
   ],
   "source": [
    "print(my_dict[\"age\"])"
   ]
  },
  {
   "cell_type": "code",
   "execution_count": 8,
   "id": "ba4fea36-b91b-4e3d-b809-bc6400c1c106",
   "metadata": {
    "tags": []
   },
   "outputs": [
    {
     "name": "stdout",
     "output_type": "stream",
     "text": [
      "30\n"
     ]
    }
   ],
   "source": [
    "print(my_dict.get(\"age\"))"
   ]
  },
  {
   "cell_type": "code",
   "execution_count": 9,
   "id": "c5ecc74f-8ad9-440e-890c-26ac95a95a54",
   "metadata": {
    "tags": []
   },
   "outputs": [
    {
     "data": {
      "text/plain": [
       "30"
      ]
     },
     "execution_count": 9,
     "metadata": {},
     "output_type": "execute_result"
    }
   ],
   "source": [
    "my_dict.get(\"age\")"
   ]
  },
  {
   "cell_type": "markdown",
   "id": "f408798a-0654-40df-9013-3d0ea99e4dc5",
   "metadata": {},
   "source": [
    "## String"
   ]
  },
  {
   "cell_type": "markdown",
   "id": "edebc1fe-e307-4b6f-9ee8-9ba80de23f92",
   "metadata": {},
   "source": [
    "<p>Strings are immutable, modifying a string will result in creating a new copy.</p>"
   ]
  },
  {
   "cell_type": "code",
   "execution_count": 11,
   "id": "5df1b0ac-54aa-4b28-873b-635d1c6786fc",
   "metadata": {
    "tags": []
   },
   "outputs": [
    {
     "name": "stdout",
     "output_type": "stream",
     "text": [
      "Creating String: \n",
      "Welcome to Alfa Prima\n"
     ]
    }
   ],
   "source": [
    "String = \"Welcome to Alfa Prima\"\n",
    "print(\"Creating String: \")\n",
    "print(String)"
   ]
  },
  {
   "cell_type": "code",
   "execution_count": 12,
   "id": "4013e58e-157f-4791-9d90-2bbcbab53947",
   "metadata": {
    "tags": []
   },
   "outputs": [
    {
     "name": "stdout",
     "output_type": "stream",
     "text": [
      "First character of String is: \n",
      "W\n"
     ]
    }
   ],
   "source": [
    "# Printing First character\n",
    "print(\"First character of String is: \")\n",
    "print(String[0])"
   ]
  },
  {
   "cell_type": "code",
   "execution_count": 13,
   "id": "3c3491cc-7594-486f-a616-bc77d1387b44",
   "metadata": {
    "tags": []
   },
   "outputs": [
    {
     "name": "stdout",
     "output_type": "stream",
     "text": [
      "Last character of String is: \n",
      "a\n"
     ]
    }
   ],
   "source": [
    "# Printing Last character\n",
    "print(\"Last character of String is: \")\n",
    "print(String[-1])"
   ]
  },
  {
   "cell_type": "code",
   "execution_count": 14,
   "id": "f381ee75-4df1-4902-8b14-1770475b2a42",
   "metadata": {
    "tags": []
   },
   "outputs": [
    {
     "ename": "TypeError",
     "evalue": "'str' object does not support item assignment",
     "output_type": "error",
     "traceback": [
      "\u001b[1;31m---------------------------------------------------------------------------\u001b[0m",
      "\u001b[1;31mTypeError\u001b[0m                                 Traceback (most recent call last)",
      "Cell \u001b[1;32mIn[14], line 1\u001b[0m\n\u001b[1;32m----> 1\u001b[0m String[\u001b[38;5;241m0\u001b[39m] \u001b[38;5;241m=\u001b[39m \u001b[38;5;241m1\u001b[39m\n",
      "\u001b[1;31mTypeError\u001b[0m: 'str' object does not support item assignment"
     ]
    }
   ],
   "source": [
    "String[0] = 1"
   ]
  },
  {
   "cell_type": "code",
   "execution_count": null,
   "id": "f473d609-cca4-443b-bd2b-549feef854c7",
   "metadata": {},
   "outputs": [],
   "source": []
  }
 ],
 "metadata": {
  "kernelspec": {
   "display_name": "Python 3 (ipykernel)",
   "language": "python",
   "name": "python3"
  },
  "language_info": {
   "codemirror_mode": {
    "name": "ipython",
    "version": 3
   },
   "file_extension": ".py",
   "mimetype": "text/x-python",
   "name": "python",
   "nbconvert_exporter": "python",
   "pygments_lexer": "ipython3",
   "version": "3.11.4"
  }
 },
 "nbformat": 4,
 "nbformat_minor": 5
}
