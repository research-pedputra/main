{
 "cells": [
  {
   "cell_type": "markdown",
   "id": "7fa516df-72b7-47b4-8007-25d92f38a0e9",
   "metadata": {
    "tags": []
   },
   "source": [
    "# **Object, Class, Attribute, and Method**"
   ]
  },
  {
   "cell_type": "markdown",
   "id": "f08735d1-8635-4c0a-aea4-28403184dc23",
   "metadata": {
    "tags": []
   },
   "source": [
    "## **Object**\n",
    "   - Object is a collection of data (identifiable, measurable) and associated behaviors.\n",
    "   - It is a fundamental concept and a concrete instance of a class. \n",
    "   - Created based on the blueprint defined by a class.\n",
    "   - Each object has its own data (attributes) and can perform actions (methods) defined by the class."
   ]
  },
  {
   "cell_type": "markdown",
   "id": "91fbb666-5c9d-4f1e-a8d9-b10dde6a5114",
   "metadata": {
    "tags": []
   },
   "source": [
    "<div style=\"display: flex; justify-content: space-around; align-items: center;\">\n",
    "    <div style=\"flex: 0 0 20%;\">\n",
    "        <p></p>\n",
    "        <a href=\"\" target = \"blank\">\n",
    "            <img src=\"img/Object.png\" alt=\"Visual Studio Code Logo\" width=\"500\">\n",
    "        </a>\n",
    "    </div>"
   ]
  },
  {
   "cell_type": "markdown",
   "id": "b4d8c90d-f559-4ff5-9f35-2cbdc3bcaf1d",
   "metadata": {},
   "source": [
    "- Python supports many kinds of data \n",
    "- Each of it is an object, and every object has:\n",
    "    - Type\n",
    "    - Data representation\n",
    "    - A set of procedure for interaction with the object\n",
    "- An object is an instance of a type \n",
    "    - 1234 is an instance of an int (integer) \n",
    "    - “Hello\" is an instance of a string \n"
   ]
  },
  {
   "cell_type": "markdown",
   "id": "3654ff4e-a11e-4884-bcb8-aed798a4d18c",
   "metadata": {
    "tags": []
   },
   "source": [
    "## **Classes**"
   ]
  },
  {
   "cell_type": "markdown",
   "id": "db40ee8d-f7a8-45ef-9288-e825e92912c8",
   "metadata": {},
   "source": [
    "   - A blueprint or template for creating objects. \n",
    "   - Serves as a fundamental concept for defining the structure and behavior of objects. \n",
    "   - A class defines the attributes (data) and methods (functions) that objects of that class will have."
   ]
  },
  {
   "cell_type": "markdown",
   "id": "420b909a-a97c-4e0e-a7af-6f21d4ba9b5f",
   "metadata": {
    "tags": []
   },
   "source": [
    "There is a differences between creating a `class` and using an `instance` of the class\n",
    "- creating the `class` involves \n",
    "    - defining the class name\n",
    "    - defining class attributes \n",
    "- using the `class` involves\n",
    "    - creating new `instances` of objects \n",
    "    - doing operations on the instances, for example, L=[1,2] and len(L) \n"
   ]
  },
  {
   "cell_type": "markdown",
   "id": "ddd4f85b-258a-4c0e-bbae-8cd8a39fcfcf",
   "metadata": {},
   "source": [
    "## **Attribute:**\n",
    "   - A data member associated with a class. \n",
    "   - Attributes define the characteristics or state of objects created from that class. \n",
    "   - They represent the data that an object of the class can hold. Attributes are used to store information about the object's state."
   ]
  },
  {
   "cell_type": "markdown",
   "id": "b2fbe1ed-194b-4067-b958-aed0811a1c7b",
   "metadata": {},
   "source": [
    "##  **Method:**\n",
    "   - Function or behavior, associated with a class. \n",
    "   - Methods define the actions or behaviors that objects created from that class can perform. \n",
    "   - Methods operate on the data (attributes) of the class and allow objects to exhibit specific functionality."
   ]
  },
  {
   "cell_type": "markdown",
   "id": "f86ab8ed-f56d-4a5e-a8e8-28c0a18cf773",
   "metadata": {},
   "source": [
    "<div style=\"display: flex; justify-content: space-around; align-items: center;\">\n",
    "    <div style=\"flex: 0 0 20%;\">\n",
    "        <p></p>\n",
    "        <a href=\"\" target = \"blank\">\n",
    "            <img src=\"class.png\" alt=\"Visual Studio Code Logo\" width=\"500\">\n",
    "        </a>\n",
    "    </div>"
   ]
  },
  {
   "cell_type": "markdown",
   "id": "cf04a651-d821-4208-9c0e-a676a145b368",
   "metadata": {},
   "source": [
    "#### Example 1"
   ]
  },
  {
   "cell_type": "code",
   "execution_count": 16,
   "id": "c080a1ac-9250-4143-b976-4b3a711c8ff4",
   "metadata": {
    "tags": []
   },
   "outputs": [],
   "source": [
    "class A:\n",
    "    z = 1\n",
    "    def __init__(self, x, y):\n",
    "        self.x = x\n",
    "        self.y = y"
   ]
  },
  {
   "cell_type": "markdown",
   "id": "2a6d4b11-346e-4229-92ac-e7e0b5da0be6",
   "metadata": {},
   "source": [
    "- `z` is a `class attribute`, which means it belongs to the class itself, not to `instances` of the class. All `instances` of the class share the same z attribute.\n",
    "\n",
    "- The `__init__` method is the `constructor` for instances of the class. When you create a new `instance` of the class, this method is automatically called with the self parameter representing the newly created instance, and any additional arguments you pass when creating the instance (in this case, x and y).\n",
    "\n",
    "- Inside the `__init__` method, the `self.x` and `self.y` `instance` `attributes` are assigned the values of the x and y arguments, respectively. These `attributes` will be specific to each instance of the class."
   ]
  },
  {
   "cell_type": "markdown",
   "id": "7ddc37e8-13c7-460c-9dd1-12d6df2d31cf",
   "metadata": {},
   "source": [
    "#### Example 2"
   ]
  },
  {
   "cell_type": "code",
   "execution_count": 17,
   "id": "e12b406c-2a6c-4299-8786-ced4397f45bc",
   "metadata": {
    "tags": []
   },
   "outputs": [],
   "source": [
    "class Student:\n",
    "\n",
    "    def __init__(self, name, age):\n",
    "        self.name = name\n",
    "        self.age = age\n",
    "\n",
    "    def __repr__(self):\n",
    "        return f'name={self.name}, age={self.age}'\n",
    "name, age = \"Larry\", 10\n",
    "s1 = Student(name, age)"
   ]
  },
  {
   "cell_type": "markdown",
   "id": "76fdeb55-b292-46cf-8e20-cb73bdba4701",
   "metadata": {},
   "source": [
    "#### Example 3"
   ]
  },
  {
   "cell_type": "code",
   "execution_count": 18,
   "id": "c795e7da-f90c-4509-8e3d-af07c646bdc8",
   "metadata": {
    "tags": []
   },
   "outputs": [
    {
     "name": "stdout",
     "output_type": "stream",
     "text": [
      "False\n",
      "True\n"
     ]
    }
   ],
   "source": [
    "class Account:\n",
    "\n",
    "    def __init__(self, name, amount=0):\n",
    "        self.name = name\n",
    "        self.amount = amount\n",
    "        self._transaction = []\n",
    "    \n",
    "    @property\n",
    "    def balance(self):\n",
    "        return self.amount + sum(self._transaction)\n",
    "\n",
    "    def __len__(self):\n",
    "        return len(self._transaction)\n",
    "\n",
    "    def __repr__(self):\n",
    "        return f'Account({self.name}, {self.amount})'\n",
    "\n",
    "    def __str__(self):\n",
    "        return f'name={self.name}, amount={self.amount}'\n",
    "\n",
    "    def add_transaction(self, amount):\n",
    "        self._transaction.append(amount)\n",
    "\n",
    "    def __eq__(self, other):\n",
    "        return self.balance == other.balance\n",
    "    \n",
    "    def __lt__(self, other):\n",
    "        return self.balance < other.balance\n",
    "\n",
    "\n",
    "a1 = Account('Jack', 10)\n",
    "a1.add_transaction(100)\n",
    "a1.add_transaction(-20)\n",
    "\n",
    "a2 = Account('Mark', 10)\n",
    "a2.add_transaction(200)\n",
    "a2.add_transaction(-50)\n",
    "a2.add_transaction(10)\n",
    "\n",
    "print(a1==a2)\n",
    "print(a1<a2)"
   ]
  },
  {
   "cell_type": "markdown",
   "id": "ffbc2806-d81b-4177-9072-319ac37adcff",
   "metadata": {},
   "source": [
    "#### Example 4"
   ]
  },
  {
   "cell_type": "code",
   "execution_count": 19,
   "id": "b4204295-5c23-4103-bcff-1c95361250a8",
   "metadata": {
    "tags": []
   },
   "outputs": [],
   "source": [
    "class Dog:\n",
    "    def __init__(self, name, age):\n",
    "        self.name = name\n",
    "        self.age = age\n",
    "    def sit(self):\n",
    "        print(f\"{self.name} is now sitting.\")\n",
    "    def roll_over(self):\n",
    "        print(f\"{self.name} rolled over!\")"
   ]
  },
  {
   "cell_type": "code",
   "execution_count": 20,
   "id": "674a1476-8fd3-4296-a76a-aea3912712ce",
   "metadata": {
    "tags": []
   },
   "outputs": [
    {
     "name": "stdout",
     "output_type": "stream",
     "text": [
      "My dog's name is Willie.\n",
      "My dog is 6 years old.\n"
     ]
    }
   ],
   "source": [
    "my_dog = Dog('Willie', 6)\n",
    "print(f\"My dog's name is {my_dog.name}.\")\n",
    "print(f\"My dog is {my_dog.age} years old.\")"
   ]
  },
  {
   "cell_type": "markdown",
   "id": "32189ec2-a2b1-48dd-9c84-d6aaff3b5048",
   "metadata": {},
   "source": [
    "#### Example 5"
   ]
  },
  {
   "cell_type": "code",
   "execution_count": 21,
   "id": "9bf558e4-d860-4b9e-b54c-737dbfaff75d",
   "metadata": {
    "tags": []
   },
   "outputs": [
    {
     "name": "stdout",
     "output_type": "stream",
     "text": [
      "Eka is eating pizza\n"
     ]
    }
   ],
   "source": [
    "Employee = \"Eka\"\n",
    "def eat():\n",
    "    print(\"{} is eating pizza\".format(Employee))\n",
    "eat()"
   ]
  },
  {
   "cell_type": "markdown",
   "id": "6e7dc15f-5632-4a6d-a453-6cb609b1296c",
   "metadata": {},
   "source": [
    "#### Example 6"
   ]
  },
  {
   "cell_type": "code",
   "execution_count": 22,
   "id": "0b28eae0-773c-4b18-960e-698aeca1f2c6",
   "metadata": {},
   "outputs": [
    {
     "name": "stdout",
     "output_type": "stream",
     "text": [
      "Eka is eating pizza\n",
      "Putu is eating pizza\n",
      "Satya is eating pizza\n"
     ]
    }
   ],
   "source": [
    "Employees_name = ['Eka', 'Putu', 'Satya']\n",
    "class Employee:\n",
    "    def __init__ (self, name):\n",
    "        self.name = name\n",
    "    def eat(self):\n",
    "        print('{} is eating pizza'.format(self.name))\n",
    "\n",
    "Employees = [Employee(name) for name in Employees_name]\n",
    "\n",
    "for Employee in Employees:\n",
    "    Employee.eat()"
   ]
  },
  {
   "cell_type": "markdown",
   "id": "32e70819-421d-47eb-959b-ec8f86c551e3",
   "metadata": {},
   "source": [
    "#### Example 7"
   ]
  },
  {
   "cell_type": "code",
   "execution_count": 23,
   "id": "cadfc56f-4066-4139-a043-bfde79cd9f63",
   "metadata": {
    "tags": []
   },
   "outputs": [
    {
     "name": "stdout",
     "output_type": "stream",
     "text": [
      "5.0\n"
     ]
    }
   ],
   "source": [
    "class Coordinate(object):\n",
    "    def __init__(self, x, y): \n",
    "        self.x = x \n",
    "        self.y = y\n",
    "    def distance(self, other):\n",
    "        x_diff = (self.x-other.x)**2\n",
    "        y_diff = (self.y-other.y)**2\n",
    "        return (x_diff + y_diff )**0.5\n",
    "c = Coordinate(3,4) \n",
    "zero = Coordinate(0,0) \n",
    "print(c.distance(zero))"
   ]
  },
  {
   "cell_type": "markdown",
   "id": "14de79f1-0cf0-425a-857e-f4b5493658e4",
   "metadata": {},
   "source": [
    "#### Example 8"
   ]
  },
  {
   "cell_type": "code",
   "execution_count": 24,
   "id": "9c543c91-e6c7-47a7-8ae8-39b7511b1078",
   "metadata": {
    "tags": []
   },
   "outputs": [
    {
     "name": "stdout",
     "output_type": "stream",
     "text": [
      " The perimeter is 12\n"
     ]
    }
   ],
   "source": [
    "class Triangle:\n",
    "    def __init__(self, a, b, c):\n",
    "        self.a = a\n",
    "        self.b = b\n",
    "        self.c = c\n",
    "        pass\n",
    "    \n",
    "    def get_perimeter(self):\n",
    "        perimeter = self.a + self.b + self.c\n",
    "        return perimeter\n",
    "    \n",
    "t1 = Triangle(3, 4, 5)\n",
    "# write code here\n",
    "perimeter = t1.get_perimeter()\n",
    "print(\" The perimeter is\", perimeter)"
   ]
  },
  {
   "cell_type": "code",
   "execution_count": null,
   "id": "f422e255-2ac9-4722-bf78-dc7e835e96c4",
   "metadata": {},
   "outputs": [],
   "source": []
  },
  {
   "cell_type": "code",
   "execution_count": null,
   "id": "ff7ff61e-4544-49b7-8d29-cf16b52de0a6",
   "metadata": {},
   "outputs": [],
   "source": []
  }
 ],
 "metadata": {
  "kernelspec": {
   "display_name": "Python 3 (ipykernel)",
   "language": "python",
   "name": "python3"
  },
  "language_info": {
   "codemirror_mode": {
    "name": "ipython",
    "version": 3
   },
   "file_extension": ".py",
   "mimetype": "text/x-python",
   "name": "python",
   "nbconvert_exporter": "python",
   "pygments_lexer": "ipython3",
   "version": "3.11.4"
  }
 },
 "nbformat": 4,
 "nbformat_minor": 5
}
