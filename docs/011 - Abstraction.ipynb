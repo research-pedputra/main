{
 "cells": [
  {
   "cell_type": "markdown",
   "id": "3eeb385f-6eec-4878-a66c-e26fa114cf5f",
   "metadata": {},
   "source": [
    "# Abstraction in Python OOP's"
   ]
  },
  {
   "cell_type": "markdown",
   "id": "def95e05-eeed-40e6-b36c-fbb0287d26b9",
   "metadata": {},
   "source": [
    "In Object-Oriented Programming (OOP), `abstraction` simplifies complex reality by modeling classes based on the essential properties and behaviors an object should possess. It involves hiding complex implementation details while exposing only the necessary and relevant features."
   ]
  },
  {
   "cell_type": "code",
   "execution_count": 1,
   "id": "b6bbe135-98b5-4095-a4af-ffab5d27b3bd",
   "metadata": {
    "tags": []
   },
   "outputs": [
    {
     "name": "stdout",
     "output_type": "stream",
     "text": [
      "We are inside test_class task\n",
      "Passed value:  100\n",
      "We are inside example_class task\n",
      "Passed value:  200\n",
      "test_obj is instance of Absclass?  True\n",
      "example_obj is instance of Absclass?  True\n"
     ]
    }
   ],
   "source": [
    "from abc import ABC, abstractmethod\n",
    "class Absclass(ABC):\n",
    "    def print(self,x):\n",
    "        print(\"Passed value: \", x)\n",
    "    @abstractmethod\n",
    "    def task(self):\n",
    "        print(\"We are inside Absclass task\")\n",
    " \n",
    "class test_class(Absclass):\n",
    "    def task(self):\n",
    "        print(\"We are inside test_class task\")\n",
    " \n",
    "class example_class(Absclass):\n",
    "    def task(self):\n",
    "        print(\"We are inside example_class task\")\n",
    " \n",
    "#object of test_class created\n",
    "test_obj = test_class()\n",
    "test_obj.task()\n",
    "test_obj.print(100)\n",
    " \n",
    "#object of example_class created\n",
    "example_obj = example_class()\n",
    "example_obj.task()\n",
    "example_obj.print(200)\n",
    " \n",
    "print(\"test_obj is instance of Absclass? \", isinstance(test_obj, Absclass))\n",
    "print(\"example_obj is instance of Absclass? \", isinstance(example_obj, Absclass))\n"
   ]
  },
  {
   "cell_type": "markdown",
   "id": "4b2ccb09-8483-4761-96f2-16d595801998",
   "metadata": {},
   "source": [
    "`Absclass` is the abstract class that inherits from the `ABC` class from the `abc` module. It contains an abstract method `task()` and a `print()` method which are visible by the user. Two other classes inheriting from this abstract class are test_class and `example_class`. Both of them have their own `task()` method (extension of the abstract method).\n",
    "\n",
    "After the user creates objects from both the `test_class` and `example_class` classes and invoke the `task()` method for both of them, the hidden definitions for `task()` methods inside both the classes come into play. These definitions are hidden from the user. The abstract method `task()` from the abstract class Absclass is actually never invoked.\n",
    "\n",
    "But when the `print()` method is called for both the `test_obj` and `example_obj`, the Absclass’s `print()` method is invoked since it is not an abstract method."
   ]
  },
  {
   "cell_type": "code",
   "execution_count": 2,
   "id": "fe087454-1edb-4c1c-b969-06380769beff",
   "metadata": {
    "tags": []
   },
   "outputs": [
    {
     "name": "stdout",
     "output_type": "stream",
     "text": [
      "push button click\n",
      "radio button click\n"
     ]
    }
   ],
   "source": [
    "# membuat class abstract\n",
    "# abc = abstract base class\n",
    "from abc import ABC,abstractmethod\n",
    "\n",
    "class Button(ABC):\n",
    "\n",
    "\t@abstractmethod\n",
    "\tdef click(self):\n",
    "\t\tpass\n",
    "\n",
    "class PushButton(Button):\n",
    "\t\n",
    "\tdef click(self):\n",
    "\t\tprint(\"push button click\")\n",
    "\n",
    "class RadioButton(Button):\n",
    "\n",
    "\tdef click(self):\n",
    "\t\tprint(\"radio button click\")\n",
    "\t\n",
    "\n",
    "tombol1 = PushButton()\n",
    "tombol2 = RadioButton()\n",
    "\n",
    "tombol1.click()\n",
    "tombol2.click()\n"
   ]
  },
  {
   "cell_type": "code",
   "execution_count": 3,
   "id": "4d8294b4-f54f-4291-b12a-06af23f409b9",
   "metadata": {
    "tags": []
   },
   "outputs": [
    {
     "name": "stdout",
     "output_type": "stream",
     "text": [
      "Go To: www.kelasterbuka.id\n"
     ]
    }
   ],
   "source": [
    "from abc import ABC,abstractmethod\n",
    "\n",
    "class Button(ABC):\n",
    "\n",
    "\tdef __init__(self,set_link):\n",
    "\t\tself.link = set_link\n",
    "\n",
    "\t@abstractmethod\n",
    "\tdef click(self):\n",
    "\t\tpass\n",
    "\n",
    "\t@property\n",
    "\t@abstractmethod\n",
    "\tdef link(self):\n",
    "\t\tpass\n",
    "\n",
    "\n",
    "class PushButton(Button):\n",
    "\t\n",
    "\tdef click(self):\n",
    "\t\tprint(\"Go To: {}\".format(self.link))\n",
    "\n",
    "\t@Button.link.setter\n",
    "\tdef link(self,input):\n",
    "\t\tself.__link = input\n",
    "\n",
    "\t@link.getter\n",
    "\tdef link(self):\n",
    "\t\treturn self.__link\t\n",
    "\n",
    "\n",
    "\n",
    "tombol1 = PushButton(\"www.kelasterbuka.id\")\n",
    "tombol1.click()\t\n",
    "\n",
    "\n",
    "\n",
    "\n",
    "\n",
    "\n",
    "\n",
    "\n",
    "\n",
    "\n",
    "\n",
    "\n",
    "\n"
   ]
  },
  {
   "cell_type": "code",
   "execution_count": null,
   "id": "683756e8-bc7a-4f2c-bddc-c3d4c1bd1e4d",
   "metadata": {},
   "outputs": [],
   "source": [
    "fg"
   ]
  }
 ],
 "metadata": {
  "kernelspec": {
   "display_name": "Python 3 (ipykernel)",
   "language": "python",
   "name": "python3"
  },
  "language_info": {
   "codemirror_mode": {
    "name": "ipython",
    "version": 3
   },
   "file_extension": ".py",
   "mimetype": "text/x-python",
   "name": "python",
   "nbconvert_exporter": "python",
   "pygments_lexer": "ipython3",
   "version": "3.11.4"
  }
 },
 "nbformat": 4,
 "nbformat_minor": 5
}
