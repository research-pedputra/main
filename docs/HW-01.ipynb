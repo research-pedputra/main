{
 "cells": [
  {
   "cell_type": "markdown",
   "id": "7d686525-836c-4ba3-ba36-a833a94d5320",
   "metadata": {},
   "source": [
    "# Complete and Fix the codes below!"
   ]
  },
  {
   "cell_type": "markdown",
   "id": "5320c976-4117-424b-b9c8-c36197be0de1",
   "metadata": {},
   "source": [
    "### Problem 1"
   ]
  },
  {
   "cell_type": "code",
   "execution_count": null,
   "id": "b95df507-a490-41a0-a3f6-9643f7cbbd20",
   "metadata": {},
   "outputs": [],
   "source": [
    "Data = ([1,2,3,6,7,4,5,6,3,4,])\n",
    "\n",
    "print(data[0])"
   ]
  },
  {
   "cell_type": "markdown",
   "id": "713c4f6a-53af-44b2-b536-19c95c253170",
   "metadata": {},
   "source": [
    "### Problem 2 "
   ]
  },
  {
   "cell_type": "code",
   "execution_count": null,
   "id": "3c35f287-98e9-4619-bed5-70768b30dbc6",
   "metadata": {
    "tags": []
   },
   "outputs": [],
   "source": [
    "number = ([1,2,9,6,7,0,5,6,3,4,])\n",
    "\n",
    "number[0]*number(5)"
   ]
  },
  {
   "cell_type": "markdown",
   "id": "2f16e42c-86d4-4614-a1e4-3df8217142a2",
   "metadata": {},
   "source": [
    "### Problem 3"
   ]
  },
  {
   "cell_type": "code",
   "execution_count": null,
   "id": "de49fcf1-e6bf-42b4-935a-d6df620cbd79",
   "metadata": {
    "tags": []
   },
   "outputs": [],
   "source": [
    "Attendees = [\"Lisa\", \"Jisoo\", \"Rose\", \"Jennie\"]\n",
    "Country = [\"South Korea\", \"Thailand\", \"New Zealand\" ]\n",
    "print(f\"{Attendees[ ]} is a member of BLACKPINK from {Country[1]}.\")"
   ]
  }
 ],
 "metadata": {
  "kernelspec": {
   "display_name": "Python 3 (ipykernel)",
   "language": "python",
   "name": "python3"
  },
  "language_info": {
   "codemirror_mode": {
    "name": "ipython",
    "version": 3
   },
   "file_extension": ".py",
   "mimetype": "text/x-python",
   "name": "python",
   "nbconvert_exporter": "python",
   "pygments_lexer": "ipython3",
   "version": "3.11.4"
  }
 },
 "nbformat": 4,
 "nbformat_minor": 5
}
