{
 "cells": [
  {
   "cell_type": "markdown",
   "id": "329b5b91",
   "metadata": {},
   "source": [
    "# Introduction to Python"
   ]
  },
  {
   "cell_type": "markdown",
   "id": "704c94ab",
   "metadata": {},
   "source": [
    "## Resources"
   ]
  },
  {
   "cell_type": "markdown",
   "id": "d9f6add7",
   "metadata": {},
   "source": [
    "<p> Some e-book can be download for free. </p>\n",
    "<p>\n",
    "    1. Phillips, Dusty. <em> Python 3 Object-oriented Programming: Building Robust and Maintainable Software with Object-oriented Design Patterns in Python. </em> Packt Publishing Ltd, 2015.\n",
    "</p>  \n",
    "<p>  \n",
    "    2. Craig, Iain D. <em> Object-Oriented Programming Languages: Interpretation. </em> Springer. 2007\n",
    "\n",
    "</p>\n",
    "<p> 3. Matthes, Eric. <em> Python Crash Course, 3rd Edition </em>. No Starch Press, 2023.\n",
    "</p>"
   ]
  },
  {
   "cell_type": "markdown",
   "id": "a0327cc8",
   "metadata": {},
   "source": [
    "## Software Interfaces"
   ]
  },
  {
   "cell_type": "markdown",
   "id": "cf0bc89e",
   "metadata": {},
   "source": [
    "<div style=\"display: flex; justify-content: space-around; align-items: center;\">\n",
    "    <div style=\"flex: 0 0 20%;\">\n",
    "        <p>Visual Studio Code</p>\n",
    "        <a href=\"https://code.visualstudio.com/Download\">\n",
    "            <img src=\"img/visual-studio-code.png\" alt=\"Visual Studio Code Logo\" width=\"100\">\n",
    "        </a>\n",
    "    </div>\n",
    "    <div style=\"flex: 0 0 20%;\">\n",
    "    <p>  </p>\n",
    "        <a href=\"https://github.com/spyder-ide/spyder/releases/latest/download/Spyder_64bit_full.exe\">\n",
    "            <img src=\"img/spyder-logo.png\" alt=\"Visual Studio Code Logo\" width=\"100\">\n",
    "        </a>\n",
    "    </div>\n",
    "    <div style=\"flex: 0 0 20%;\">\n",
    "    <p>  </p>\n",
    "        <a href=\"https://jupyter.org/install\">\n",
    "            <img src=\"img/1_FogMIj4gYwp3fTHLZuwavQ.png\" alt=\"Visual Studio Code Logo\" width=\"100\">\n",
    "        </a>\n",
    "    </div>\n",
    "        <div style=\"flex: 0 0 20%;\">\n",
    "    <p>  </p>\n",
    "        <a href=\"https://www.anaconda.com/download\">\n",
    "            <img src=\"img/180-1800785_anaconda-python-logo-clipart.png\" alt=\"Visual Studio Code Logo\" width=\"200\">\n",
    "        </a>\n",
    "    </div>\n",
    "</div>\n"
   ]
  },
  {
   "cell_type": "markdown",
   "id": "988ec5cf-2aa5-4ca0-b693-73580759e015",
   "metadata": {},
   "source": [
    "## History"
   ]
  },
  {
   "cell_type": "markdown",
   "id": "893fbfe4-d8ce-4353-8c96-9bfea690d2e0",
   "metadata": {},
   "source": [
    "<div style=\"display: flex; justify-content: space-around; align-items: center;\">\n",
    "    <div style=\"flex: 0 0 80%;\">\n",
    "        <p></p>\n",
    "        <a>\n",
    "            <img src=\"img/history.jpg\" alt=\"Visual Studio Code Logo\" width=\"800\">\n",
    "        </a>\n",
    "    </div>"
   ]
  },
  {
   "cell_type": "markdown",
   "id": "687bd19a-1fc8-4ffe-aa7b-410cc9b7d2ed",
   "metadata": {},
   "source": [
    "## Installing Anaconda"
   ]
  },
  {
   "cell_type": "markdown",
   "id": "79c6c7d7-ec9d-4e93-9fee-77ec4879a48b",
   "metadata": {
    "tags": []
   },
   "source": [
    "<div style=\"display: flex; justify-content: space-around; align-items: center;\">\n",
    "    <div style=\"flex: 0 0 80%;\">\n",
    "        <p>Download the software for free</p>\n",
    "        <a href=\"https://www.anaconda.com/download\">\n",
    "            <img src=\"img/Website_anaconda_download.png\" alt=\"Visual Studio Code Logo\" width=\"800\">\n",
    "        </a>\n",
    "    </div>"
   ]
  },
  {
   "cell_type": "markdown",
   "id": "dd080925-d7ac-4a4a-a9a2-f3786bfb5bac",
   "metadata": {},
   "source": [
    "<div style=\"display: flex; justify-content: space-around; align-items: center;\">\n",
    "    <div style=\"flex: 0 0 80%;\">\n",
    "        <p>Getting Started:</p>\n",
    "        <a href=\"https://www.anaconda.com/download\" target=\"blank\">\n",
    "            <img src=\"img/Ananconda-installation-windows-01.jpg\" alt=\"Visual Studio Code Logo\" width=\"500\">\n",
    "        </a>\n",
    "    </div>"
   ]
  },
  {
   "cell_type": "markdown",
   "id": "343793ba-8557-4a73-889d-f848b830434c",
   "metadata": {},
   "source": [
    "<div style=\"display: flex; justify-content: space-around; align-items: center;\">\n",
    "    <div style=\"flex: 0 0 80%;\">\n",
    "        <p>Getting through the License Agreement:</p>\n",
    "        <a href=\"https://www.anaconda.com/download\" target=\"blank\">\n",
    "            <img src=\"img/Ananconda-installation-windows-02.jpg\" alt=\"Visual Studio Code Logo\" width=\"500\">\n",
    "        </a>\n",
    "    </div>"
   ]
  },
  {
   "cell_type": "markdown",
   "id": "4940ad60-8f95-4fbc-a7bb-4fd602865ff5",
   "metadata": {},
   "source": [
    "<div style=\"display: flex; justify-content: space-around; align-items: center;\">\n",
    "    <div style=\"flex: 0 0 80%;\">\n",
    "        <p>Select Installation Type: Select Just Me if you want the software to be used by a single User</p>\n",
    "        <a href=\"https://www.anaconda.com/download\" target=\"blank\">\n",
    "            <img src=\"img/Ananconda-installation-windows-03.jpg\" alt=\"\" width=\"500\">\n",
    "        </a>\n",
    "    </div>"
   ]
  },
  {
   "cell_type": "markdown",
   "id": "cc556761-cb40-43f0-91da-0fbf570c435b",
   "metadata": {},
   "source": [
    "<div style=\"display: flex; justify-content: space-around; align-items: center;\">\n",
    "    <div style=\"flex: 0 0 80%;\">\n",
    "        <p>Choose Installation Location:</p>\n",
    "        <a href=\"https://www.anaconda.com/download\" target=\"blank\">\n",
    "            <img src=\"img/Ananconda-installation-windows-04.jpg\" alt=\"\" width=\"500\">\n",
    "        </a>\n",
    "    </div>"
   ]
  },
  {
   "cell_type": "markdown",
   "id": "b147656c-d4e2-4df7-b937-fe7343ed0c99",
   "metadata": {},
   "source": [
    "<div style=\"display: flex; justify-content: space-around; align-items: center;\">\n",
    "    <div style=\"flex: 0 0 80%;\">\n",
    "        <p>Advanced Installation Option:</p>\n",
    "        <a href=\"https://www.anaconda.com/download\" target=\"blank\">\n",
    "            <img src=\"img/Ananconda-installation-windows-05.jpg\" alt=\"\" width=\"500\">\n",
    "        </a>\n",
    "    </div>"
   ]
  },
  {
   "cell_type": "markdown",
   "id": "de7a0a07-7563-47ba-a373-8a6037c1589b",
   "metadata": {
    "tags": []
   },
   "source": [
    "<div style=\"display: flex; justify-content: space-around; align-items: center;\">\n",
    "    <div style=\"flex: 0 0 80%;\">\n",
    "        <p>Advanced Installation Option:</p>\n",
    "        <a href=\"https://www.anaconda.com/download\" target=\"blank\">\n",
    "            <img src=\"img/Ananconda-installation-windows-06.jpg\" alt=\"\" width=\"500\">\n",
    "        </a>\n",
    "    </div>"
   ]
  },
  {
   "cell_type": "markdown",
   "id": "7fcdccee-258c-4d56-a51f-973e418c2469",
   "metadata": {},
   "source": [
    "<div style=\"display: flex; justify-content: space-around; align-items: center;\">\n",
    "    <div style=\"flex: 0 0 80%;\">\n",
    "        <p>Getting through the Installation Process:</p>\n",
    "        <a href=\"https://www.anaconda.com/download\" target=\"blank\">\n",
    "            <img src=\"img/Ananconda-installation-windows-07.jpg\" alt=\"\" width=\"500\">\n",
    "        </a>\n",
    "    </div>"
   ]
  },
  {
   "cell_type": "markdown",
   "id": "63a0362b-c562-460f-b416-870465e90bb7",
   "metadata": {},
   "source": [
    "<div style=\"display: flex; justify-content: space-around; align-items: center;\">\n",
    "    <div style=\"flex: 0 0 80%;\">\n",
    "        <p>Finishing up the Installation:</p>\n",
    "        <a href=\"https://www.anaconda.com/download\" target=\"blank\">\n",
    "            <img src=\"img/Ananconda-installation-windows-08.jpg\" alt=\"\" width=\"500\">\n",
    "        </a>\n",
    "    </div>"
   ]
  },
  {
   "cell_type": "markdown",
   "id": "8a606703-efb3-4fa9-a1d8-52462859ac45",
   "metadata": {},
   "source": [
    "## Getting started with Jupyter"
   ]
  },
  {
   "cell_type": "markdown",
   "id": "467c7746-33cb-4994-b4bc-3a4d9c388321",
   "metadata": {},
   "source": [
    "<p> You can open or start the Apps via "
   ]
  },
  {
   "cell_type": "markdown",
   "id": "305ad2b7-22dd-452d-b0bd-241aa98671b1",
   "metadata": {},
   "source": [
    "<img src=\"img/open.png\" alt=\"\" width=\"500\">"
   ]
  },
  {
   "cell_type": "markdown",
   "id": "9e5c242e-078a-4af9-9ee6-e8fec4567856",
   "metadata": {},
   "source": [
    "<p> Soon, thi is what you see. </p>"
   ]
  },
  {
   "cell_type": "markdown",
   "id": "d5190267-b2d4-49cf-8f4e-48e74436283f",
   "metadata": {
    "tags": []
   },
   "source": [
    "<img src=\"img/landing_page.png\" alt=\"\" width=\"800\">"
   ]
  },
  {
   "cell_type": "markdown",
   "id": "8993c230-5b7a-46bd-8a7c-807023e090b4",
   "metadata": {},
   "source": [
    "<p> And this is the Jupyter-Lab Interfaces</p"
   ]
  },
  {
   "cell_type": "markdown",
   "id": "ab8dd856-d05f-4bb7-9e31-9071024ecb3c",
   "metadata": {},
   "source": [
    "<img src=\"img/jupyter_landing_page.png\" alt=\"\" width=\"800\">"
   ]
  },
  {
   "cell_type": "markdown",
   "id": "9399f65b-4733-4409-8289-3d11077a0731",
   "metadata": {},
   "source": [
    "<p> My favorite, fast, and simple.</p>"
   ]
  },
  {
   "cell_type": "markdown",
   "id": "5d6868de-7590-440c-bcad-d212f4f71848",
   "metadata": {},
   "source": [
    "<img src=\"img/anaconda_prompt.png\" alt=\"\" width=\"800\">"
   ]
  },
  {
   "cell_type": "markdown",
   "id": "6717c578-aed3-4139-ab51-8190637068d9",
   "metadata": {},
   "source": [
    "## Google Collaboratory (google-collab)"
   ]
  },
  {
   "cell_type": "markdown",
   "id": "980493b8-cb8e-4a9c-b86a-f41d4aa57ddf",
   "metadata": {},
   "source": [
    "A free jupyter-notebook interface, online.\n",
    "Colab, or \"Colaboratory\", allows you to write and execute Python in your browser, with\\\n",
    "- `Zero` configuration required, linux OS. \n",
    "- `Python 3` Google Compute Engine backend\n",
    "- Free access `12 Gb RAM`\n",
    "- 8 h `runtime` (free)\n",
    "- Access to `GPUs` free of charge\n",
    "- Easy sharing"
   ]
  },
  {
   "cell_type": "markdown",
   "id": "1a1d55aa-7fa0-40d5-af1b-b7b810ea148a",
   "metadata": {
    "tags": []
   },
   "source": [
    "<img src=\"img/google_collabs_interfaces.png\" alt=\"\" width=\"800\">"
   ]
  },
  {
   "cell_type": "code",
   "execution_count": null,
   "id": "63358370-d193-4167-8989-fff87c91f3fa",
   "metadata": {},
   "outputs": [],
   "source": []
  },
  {
   "cell_type": "markdown",
   "id": "307fb6ca-d95b-41e5-a03c-479cd5db60ef",
   "metadata": {},
   "source": [
    "## Getting started with Python"
   ]
  },
  {
   "cell_type": "markdown",
   "id": "b23bf606-ff2f-4fd2-9462-ae702d5a0e1a",
   "metadata": {},
   "source": [
    "See the following example,"
   ]
  },
  {
   "cell_type": "code",
   "execution_count": 10,
   "id": "096651ac-0d9e-476c-9805-5a0848fd83b3",
   "metadata": {
    "tags": []
   },
   "outputs": [
    {
     "name": "stdout",
     "output_type": "stream",
     "text": [
      "Hello Python world!\n"
     ]
    }
   ],
   "source": [
    "message = \"Hello Python world!\"\n",
    "print(message)"
   ]
  },
  {
   "cell_type": "markdown",
   "id": "8d0880cd-4af6-453d-82a8-ea0dcb79a729",
   "metadata": {},
   "source": [
    "We’ve added a `variable` named message. Every `variable` is connected to a \n",
    "value, which is the information associated with that `variable`. In this case \n",
    "the value is the \"Hello Python world!\" text."
   ]
  },
  {
   "cell_type": "markdown",
   "id": "eb35eeb9-df49-472f-97d9-6dd1bd9c2731",
   "metadata": {},
   "source": [
    "When you’re using variables in Python, consider these:\n",
    "- `Variable` names can contain only letters, numbers, and underscores. \n",
    "- `Spaces` are not allowed in variable names, but `underscores` can be used \n",
    "- Avoid using Python `keywords` and `function` names as `variable names`. \n",
    "- `Variable` names should be `short` but `descriptive`. \n",
    "- Be careful when using the `lowercase` letter l and the `uppercase` letter O\n",
    "because they could be confused with the numbers 1 and 0."
   ]
  },
  {
   "cell_type": "code",
   "execution_count": 4,
   "id": "b70cd8ad-0584-45a7-b0a2-badbd52fc339",
   "metadata": {
    "tags": []
   },
   "outputs": [
    {
     "data": {
      "text/plain": [
       "4"
      ]
     },
     "execution_count": 4,
     "metadata": {},
     "output_type": "execute_result"
    }
   ],
   "source": [
    "2 + 2"
   ]
  },
  {
   "cell_type": "code",
   "execution_count": 5,
   "id": "d3cf0ac8-7ab3-4594-aa1c-345763b1fb40",
   "metadata": {
    "tags": []
   },
   "outputs": [
    {
     "data": {
      "text/plain": [
       "4"
      ]
     },
     "execution_count": 5,
     "metadata": {},
     "output_type": "execute_result"
    }
   ],
   "source": [
    "2 * 2"
   ]
  },
  {
   "cell_type": "code",
   "execution_count": 6,
   "id": "bd9f0b62-8edf-4bad-8c5d-41d461616ab5",
   "metadata": {
    "tags": []
   },
   "outputs": [
    {
     "data": {
      "text/plain": [
       "12.5625"
      ]
     },
     "execution_count": 6,
     "metadata": {},
     "output_type": "execute_result"
    }
   ],
   "source": [
    "tax = 12.5 / 100\n",
    "price = 100.50\n",
    "price * tax"
   ]
  },
  {
   "cell_type": "code",
   "execution_count": null,
   "id": "c578b938-84d3-4862-b859-48c0ba516eee",
   "metadata": {},
   "outputs": [],
   "source": []
  },
  {
   "cell_type": "code",
   "execution_count": null,
   "id": "420846c1-5e3c-4769-8259-c4ae6ef1e10a",
   "metadata": {},
   "outputs": [],
   "source": []
  }
 ],
 "metadata": {
  "kernelspec": {
   "display_name": "Python 3 (ipykernel)",
   "language": "python",
   "name": "python3"
  },
  "language_info": {
   "codemirror_mode": {
    "name": "ipython",
    "version": 3
   },
   "file_extension": ".py",
   "mimetype": "text/x-python",
   "name": "python",
   "nbconvert_exporter": "python",
   "pygments_lexer": "ipython3",
   "version": "3.11.4"
  }
 },
 "nbformat": 4,
 "nbformat_minor": 5
}
