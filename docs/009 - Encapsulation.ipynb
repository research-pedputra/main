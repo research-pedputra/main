{
 "cells": [
  {
   "cell_type": "markdown",
   "id": "9264e2d1-2570-4890-b9f6-e4baf3778231",
   "metadata": {},
   "source": [
    "# Python Encapsultation"
   ]
  },
  {
   "cell_type": "markdown",
   "id": "dcb553ad-1f9f-443c-ac19-198aff27ab85",
   "metadata": {},
   "source": [
    "`Encapsulation` is one of the fundamental principles of object-oriented design, and it involves bundling data (attributes or properties) and the methods (functions) that operate on that data into a single unit, which is typically referred to as a class."
   ]
  },
  {
   "cell_type": "markdown",
   "id": "69d87965-a696-43a6-8b44-cc26f79ffd73",
   "metadata": {},
   "source": [
    "<div style=\"display: flex; justify-content: space-around; align-items: center;\">\n",
    "    <div style=\"flex: 0 0 0%;\">\n",
    "        <p></p>\n",
    "        <a href=\"\" target=\"blank\">\n",
    "            <img src=\"img/Encapsulation.png\" alt=\"\" width=\"500\">\n",
    "        </a>\n",
    "    </div>"
   ]
  },
  {
   "cell_type": "markdown",
   "id": "365e3a46-a988-4e3d-be65-2ee5724a6fdf",
   "metadata": {},
   "source": [
    "**Some key points about encapsulation:**\n",
    "\n",
    "- `Bundling Data and Methods:` In encapsulation, you group together the data (state) and the methods (behavior) that manipulate that data within a class. This allows you to create self-contained and organized units of code.\n",
    "\n",
    "- `Information Hiding:` Encapsulation helps in hiding the internal details of an object's implementation from the outside world. The internal state of an object is typically kept private, and access to it is controlled through methods (often referred to as getters and setters).\n",
    "\n",
    "- `Data Integrity:` By controlling access to the internal data through methods, you can enforce rules and constraints, ensuring that data remains consistent and follows the desired behavior.\n",
    "\n",
    "- `Getter and Setter Methods:` Getter methods are used to retrieve the value of an objects attributes, and setter methods are used to modify the value of attributes. This allows you to provide controlled access to the object's state.\n",
    "\n",
    "- `Encapsulation Enhances Modularity:` Encapsulated classes can be treated as black boxes, making it easier to modify or extend the implementation without affecting other parts of the code.\n"
   ]
  },
  {
   "cell_type": "markdown",
   "id": "f95decc1-af82-4994-b512-f7caf1d6450b",
   "metadata": {},
   "source": [
    "<div style=\"display: flex; justify-content: space-around; align-items: center;\">\n",
    "    <div style=\"flex: 0 0 0%;\">\n",
    "        <p></p>\n",
    "        <a href=\"\" target=\"blank\">\n",
    "            <img src=\"img/encapsulation_python_class.jpg\" alt=\"\" width=\"500\">\n",
    "        </a>\n",
    "    </div>"
   ]
  },
  {
   "cell_type": "markdown",
   "id": "b6daa4f8-cdca-4940-91b2-9e773a474329",
   "metadata": {},
   "source": [
    "#### Example 1"
   ]
  },
  {
   "cell_type": "code",
   "execution_count": 3,
   "id": "303e4355-732b-4808-a130-1bbb84e4c4fd",
   "metadata": {
    "tags": []
   },
   "outputs": [
    {
     "name": "stdout",
     "output_type": "stream",
     "text": [
      "Current balance in your ATM is: 500\n"
     ]
    }
   ],
   "source": [
    "class atm:\n",
    "    def __init__(self, balance=0):\n",
    "        self._balance = balance  # Private attribute with a single underscore\n",
    "\n",
    "    def deposit(self, amount):\n",
    "        if amount > 0:\n",
    "            self._balance += amount\n",
    "\n",
    "    def withdraw(self, amount):\n",
    "        if 0 < amount <= self._balance:\n",
    "            self._balance -= amount\n",
    "\n",
    "    def get_balance(self):\n",
    "        return self._balance\n",
    "\n",
    "# Creating a BankAccount object\n",
    "account = atm()\n",
    "\n",
    "# Depositing and withdrawing money\n",
    "account.deposit(1000)\n",
    "account.withdraw(500)\n",
    "\n",
    "# Accessing the balance through a getter method\n",
    "balance = account.get_balance()\n",
    "print(\"Current balance in your ATM is:\", balance)\n"
   ]
  },
  {
   "cell_type": "markdown",
   "id": "d0b74db1-9ce8-4395-9b1c-8581444e115f",
   "metadata": {},
   "source": [
    "In this program, the `_balance` attribute is encapsulated within the `atm` class, and access to it is controlled through the `deposit`, `withdraw`, and `get_balance` methods, demonstrating encapsulation principles."
   ]
  },
  {
   "cell_type": "code",
   "execution_count": 4,
   "id": "b50808d6-15a1-4de2-862a-4bc0bf981cdb",
   "metadata": {
    "tags": []
   },
   "outputs": [
    {
     "name": "stdout",
     "output_type": "stream",
     "text": [
      "Name:  Jessa Salary: 8000\n",
      "Jessa is working on NLP\n"
     ]
    }
   ],
   "source": [
    "class Employee:\n",
    "    # constructor\n",
    "    def __init__(self, name, salary, project):\n",
    "        # data members\n",
    "        self.name = name\n",
    "        self.salary = salary\n",
    "        self.project = project\n",
    "\n",
    "    # method\n",
    "    # to display employee's details\n",
    "    def show(self):\n",
    "        # accessing public data member\n",
    "        print(\"Name: \", self.name, 'Salary:', self.salary)\n",
    "\n",
    "    # method\n",
    "    def work(self):\n",
    "        print(self.name, 'is working on', self.project)\n",
    "\n",
    "# creating object of a class\n",
    "emp = Employee('Jessa', 8000, 'NLP')\n",
    "\n",
    "# calling public method of the class\n",
    "emp.show()\n",
    "emp.work()"
   ]
  },
  {
   "cell_type": "markdown",
   "id": "5bb59006-69b4-4805-ad96-a5ee1a622ea0",
   "metadata": {},
   "source": [
    "\n",
    "Note that, \n",
    "\n",
    "`class Employee:` \n",
    "This line defines a Python class named Employee. Classes are used to define blueprints for creating objects (instances).\n",
    "\n",
    "`def __init__(self, name, salary, project):`\n",
    "This line defines a special method called the constructor, denoted by __init__. It is automatically called when an object of the class is created. The constructor initializes the object's attributes or data members. In this case, it takes three parameters: name, salary, and project.\n",
    "\n",
    "`self.name = name:`\n",
    "Inside the constructor, this line assigns the name parameter to the name attribute of the object (self). This initializes the object's name attribute with the provided value.\n",
    "\n",
    "`self.salary = salary:`\n",
    "Similar to the previous line, this assigns the salary parameter to the salary attribute of the object.\n",
    "\n",
    "`self.project = project:`\n",
    "Likewise, this assigns the project parameter to the project attribute of the object.\n",
    "\n",
    "`def show(self):`\n",
    "This line defines a method named show within the class. Methods are functions associated with the class, and they can perform actions or provide information about the object's state. This method takes self as a parameter, which represents the instance of the class calling the method.\n",
    "\n",
    "`print(\"Name: \", self.name, 'Salary:', self.salary):`\n",
    "Inside the show method, this line prints the name and salary of the employee. It accesses the name and salary attributes of the object (self) to display the information.\n",
    "\n",
    "`def work(self):`: This line defines another method named work within the class. This method takes self as a parameter, just like the show method.\n",
    "\n",
    "`print(self.name, 'is working on', self.project):`\n",
    "Inside the work method, this line prints a message indicating that the employee is working on a specific project. It accesses the name and project attributes of the object (self) to construct the message.\n",
    "\n",
    "`emp = Employee('Jessa', 8000, 'NLP'):`\n",
    "This line creates an instance (object) of the Employee class named emp. It calls the class's constructor (__init__) with the values 'Jessa', 8000, and 'NLP' for the name, salary, and project parameters, respectively, to initialize the object's attributes.\n",
    "\n",
    "`emp.show():` \n",
    "This line calls the show method on the emp object, which displays the employee's name and salary.\n",
    "\n",
    "`emp.work():` \n",
    "Similarly, this line calls the work method on the emp object, which prints the message about the employee working on a project."
   ]
  },
  {
   "cell_type": "code",
   "execution_count": 1,
   "id": "c6644cc3-c61f-48e9-8f21-6eb7dc59ae5b",
   "metadata": {},
   "outputs": [
    {
     "name": "stdout",
     "output_type": "stream",
     "text": [
      "Selling Price: 900\n",
      "Selling Price: 900\n",
      "Selling Price: 1000\n"
     ]
    }
   ],
   "source": [
    "class Computer:\n",
    "\n",
    "    def __init__(self):\n",
    "        self.__maxprice = 900\n",
    "\n",
    "    def sell(self):\n",
    "        print(\"Selling Price: {}\".format(self.__maxprice))\n",
    "\n",
    "    def setMaxPrice(self, price):\n",
    "        self.__maxprice = price\n",
    "\n",
    "c = Computer()\n",
    "c.sell()\n",
    "\n",
    "# change the price\n",
    "c.__maxprice = 1000\n",
    "c.sell()\n",
    "\n",
    "# using setter function\n",
    "c.setMaxPrice(1000)\n",
    "c.sell()"
   ]
  },
  {
   "cell_type": "code",
   "execution_count": 3,
   "id": "008d54e4-55bc-49a3-9217-ce4309130162",
   "metadata": {
    "tags": []
   },
   "outputs": [
    {
     "name": "stdout",
     "output_type": "stream",
     "text": [
      "earthshaker\n",
      "50\n",
      "45\n"
     ]
    }
   ],
   "source": [
    "class Hero:\n",
    "    def __init__(self,name,health,attackPower):\n",
    "        self.__name = name\n",
    "        self.__health = health\n",
    "        self.__attPower = attackPower\n",
    "\n",
    "    def getName(self):\n",
    "        return self.__name\n",
    "    \n",
    "    def getHealth(self):\n",
    "        return self.__health\n",
    "\n",
    "    def diserang(self,serangPower):\n",
    "        self.__health -= serangPower\n",
    "    \n",
    "    def setAttPower(self,nilaibaru):\n",
    "        self.__attPower = nilaibaru\n",
    "\n",
    "# awal dari game\n",
    "earthshaker = Hero(\"earthshaker\",50, 5)\n",
    "\n",
    "# game berjalan\n",
    "\n",
    "print(earthshaker.getName())\n",
    "print(earthshaker.getHealth())\n",
    "earthshaker.diserang(5)\n",
    "print(earthshaker.getHealth())\n"
   ]
  },
  {
   "cell_type": "code",
   "execution_count": 4,
   "id": "6d618738-66ce-4e1a-9fa1-f5652d4dc320",
   "metadata": {
    "tags": []
   },
   "outputs": [
    {
     "name": "stdout",
     "output_type": "stream",
     "text": [
      "merubah info\n",
      "name sniper : \n",
      "\thealth: 100\n",
      "name dadang : \n",
      "\thealth: 100\n",
      "getter dan setter untuk __armor:\n",
      "10\n",
      "50\n",
      "delete armor\n",
      "armor di delet\n",
      "{'name': 'dadang', '_Hero__health': 100, '_Hero__armor': None}\n"
     ]
    }
   ],
   "source": [
    "class Hero:\n",
    "    def __init__(self, name, health, armor):\n",
    "        self.name = name\n",
    "        self.__health = health\n",
    "        self.__armor = armor\n",
    "        #self.info = \"name {} : \\n\\thealth: {}\".format(self.name,self.__health)\n",
    "\n",
    "    @property\n",
    "    def info(self):\n",
    "        return \"name {} : \\n\\thealth: {}\".format(self.name,self.__health)\n",
    "\n",
    "    @property\n",
    "    def armor(self):\n",
    "        pass\n",
    "\n",
    "    @armor.getter\n",
    "    def armor(self):\n",
    "        return self.__armor\n",
    "\n",
    "    @armor.setter\n",
    "    def armor(self, input):\n",
    "        self.__armor = input\n",
    "\n",
    "    @armor.deleter\n",
    "    def armor(self):\n",
    "        print('armor di delet')\n",
    "        self.__armor = None\n",
    "\n",
    "sniper = Hero('sniper',100,10)\n",
    "\n",
    "print('merubah info')\n",
    "print(sniper.info)\n",
    "sniper.name = 'dadang'\n",
    "print(sniper.info)\n",
    "\n",
    "print('getter dan setter untuk __armor:')\n",
    "print(sniper.armor)\n",
    "sniper.armor = 50\n",
    "print(sniper.armor)\n",
    "\n",
    "print('delete armor')\n",
    "del sniper.armor\n",
    "print(sniper.__dict__)"
   ]
  },
  {
   "cell_type": "code",
   "execution_count": null,
   "id": "ae99fc9c-7fd4-412e-b3f9-fb2af701a11b",
   "metadata": {},
   "outputs": [],
   "source": []
  }
 ],
 "metadata": {
  "kernelspec": {
   "display_name": "Python 3 (ipykernel)",
   "language": "python",
   "name": "python3"
  },
  "language_info": {
   "codemirror_mode": {
    "name": "ipython",
    "version": 3
   },
   "file_extension": ".py",
   "mimetype": "text/x-python",
   "name": "python",
   "nbconvert_exporter": "python",
   "pygments_lexer": "ipython3",
   "version": "3.11.4"
  }
 },
 "nbformat": 4,
 "nbformat_minor": 5
}
