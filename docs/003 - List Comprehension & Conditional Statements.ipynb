{
 "cells": [
  {
   "cell_type": "markdown",
   "id": "34fe5903",
   "metadata": {},
   "source": [
    "## List Comprehension"
   ]
  },
  {
   "cell_type": "markdown",
   "id": "59b29b06-48dc-4daf-b5e8-7621494f8ae1",
   "metadata": {},
   "source": [
    "In Python, list comprehensions provide a concise way to create lists based on existing sequences (lists, tuples, or other iterable objects) or perform operations on elements. List comprehensions are often used for filtering and transforming data. The basic syntax of a list comprehension is as follows:"
   ]
  },
  {
   "cell_type": "markdown",
   "id": "3cabe11b-03c2-4d5a-82d4-3342c7292209",
   "metadata": {},
   "source": [
    "Syntax"
   ]
  },
  {
   "cell_type": "code",
   "execution_count": null,
   "id": "a993f3a4-b132-42ac-a4c0-be09792eefbb",
   "metadata": {
    "tags": []
   },
   "outputs": [],
   "source": [
    "new_list = [expression for element in iterable if condition]"
   ]
  },
  {
   "cell_type": "markdown",
   "id": "7b76fb68-253c-4727-bec5-f8b10bd5fd88",
   "metadata": {},
   "source": [
    "- `expression` : The operation or expression to be applied to each element.\n",
    "- `element` : A variable representing an element in the iterable.\n",
    "- `iterable` : The source of data, such as a list, tuple, or any iterable.\n",
    "- `condition` (optional): An optional filter that allows you to include elements in the new list based on a condition."
   ]
  },
  {
   "cell_type": "markdown",
   "id": "0edb2e67-813a-4951-9c94-ddefd7268479",
   "metadata": {},
   "source": [
    "#### 1. Creating a squared list number"
   ]
  },
  {
   "cell_type": "code",
   "execution_count": 2,
   "id": "c7086dc5-1b49-4993-9319-f3cfa63272f6",
   "metadata": {
    "tags": []
   },
   "outputs": [
    {
     "name": "stdout",
     "output_type": "stream",
     "text": [
      "[1, 4, 9, 16, 25]\n"
     ]
    }
   ],
   "source": [
    "squared_numbers = [x**2 for x in range(1, 6)]\n",
    "# Result: [1, 4, 9, 16, 25]\n",
    "print(squared_numbers)"
   ]
  },
  {
   "cell_type": "markdown",
   "id": "a65d0a55-11fc-47c1-9ef3-be35d9105c3f",
   "metadata": {},
   "source": [
    "#### 2. Filtering list of numbers"
   ]
  },
  {
   "cell_type": "code",
   "execution_count": 11,
   "id": "589e186c-a0cf-4ba8-96a0-785f940c5501",
   "metadata": {
    "tags": []
   },
   "outputs": [],
   "source": [
    "numbers = [1, 2, 3, 4, 5, 6, 7, 8, 9]\n",
    "even_numbers = [x for x in numbers if x % 2 == 0]\n",
    "# Result: [2, 4, 6, 8]\n",
    "odd_numbers = [x for x in numbers if x % 2 == 1]"
   ]
  },
  {
   "cell_type": "markdown",
   "id": "57ab608b-82ac-44ed-9a31-4c1931137885",
   "metadata": {},
   "source": [
    "#### 3. List a number in between"
   ]
  },
  {
   "cell_type": "code",
   "execution_count": null,
   "id": "c5ea945d-59ba-4cf1-90b5-26c495224744",
   "metadata": {},
   "outputs": [],
   "source": [
    "for item in range(1, 20):\n",
    "    print(item)"
   ]
  },
  {
   "cell_type": "markdown",
   "id": "2c420c17-6966-445d-ac15-5861b2d99e80",
   "metadata": {},
   "source": [
    "#### 4. Slicing list data"
   ]
  },
  {
   "cell_type": "code",
   "execution_count": null,
   "id": "17126fa5-6c02-4481-a98c-bd704cf63970",
   "metadata": {},
   "outputs": [],
   "source": [
    "players = ['charles', 'martina', 'michael', 'florence', 'eli']\n",
    "print(players[0:1])"
   ]
  },
  {
   "cell_type": "code",
   "execution_count": null,
   "id": "2b992c39-12fa-4f67-8639-72997e280721",
   "metadata": {},
   "outputs": [],
   "source": [
    "players = ['charles', 'martina', 'michael', 'florence', 'eli']\n",
    "print(players[1:4])"
   ]
  },
  {
   "cell_type": "code",
   "execution_count": null,
   "id": "aa9f82d4-4933-45ea-8202-c51f6a26a8f7",
   "metadata": {},
   "outputs": [],
   "source": [
    "players = ['charles', 'martina', 'michael', 'florence', 'eli']\n",
    "print(players[:4])"
   ]
  },
  {
   "cell_type": "markdown",
   "id": "6f2a134e-6242-4fe6-bcc6-b6d3cc9dd57b",
   "metadata": {},
   "source": [
    "#### 5. Looping through a Slice"
   ]
  },
  {
   "cell_type": "code",
   "execution_count": null,
   "id": "16411966-01b6-4cbc-9ad7-a3db1676fbcc",
   "metadata": {},
   "outputs": [],
   "source": [
    "players = ['charles', 'martina', 'michael', 'florence', 'eli']\n",
    "print(\"Here are the first three players on my team:\")\n",
    "for player in players[:3]:\n",
    "    print(player.title())"
   ]
  },
  {
   "cell_type": "markdown",
   "id": "961e1b0b-8a4d-4a15-9b92-e8ea38be6052",
   "metadata": {},
   "source": [
    "#### 6. Print the Tuples"
   ]
  },
  {
   "cell_type": "code",
   "execution_count": 6,
   "id": "e8457bac-91fe-4c36-92b1-c3299a1430af",
   "metadata": {
    "tags": []
   },
   "outputs": [
    {
     "name": "stdout",
     "output_type": "stream",
     "text": [
      "200\n",
      "50\n"
     ]
    }
   ],
   "source": [
    "dimensions = (200, 50)\n",
    "print(dimensions[0])\n",
    "print(dimensions[1])"
   ]
  },
  {
   "cell_type": "code",
   "execution_count": null,
   "id": "5e51f7ea-bdf8-4c97-bcc5-d0a0851c110e",
   "metadata": {},
   "outputs": [],
   "source": []
  },
  {
   "cell_type": "markdown",
   "id": "ee5ce594-7e1e-4c87-a9b2-be76cb800da4",
   "metadata": {},
   "source": [
    "## Conditional Statement (If, Else, Elif, while)"
   ]
  },
  {
   "cell_type": "markdown",
   "id": "a9555669-5474-4e87-a6fb-732d540e53da",
   "metadata": {},
   "source": [
    "In Python, we can use __if__, __else__, and __elif__ (short for \"else if\") statements to perform conditional branching. These statements are used to execute different blocks of code depending on whether certain conditions are met. You can use if, elif, and else statements in various contexts, including within functions, loops, and more."
   ]
  },
  {
   "cell_type": "markdown",
   "id": "c286350b-19b7-49a6-8a80-2edd81500feb",
   "metadata": {},
   "source": [
    "Syntax"
   ]
  },
  {
   "cell_type": "code",
   "execution_count": null,
   "id": "4ad9c370-e275-49ce-a943-4eeb63de66f5",
   "metadata": {},
   "outputs": [],
   "source": [
    "if condition1:\n",
    "    # Code to execute if condition1 is True\n",
    "elif condition2:\n",
    "    # Code to execute if condition2 is True\n",
    "else:\n",
    "    # Code to execute if none of the conditions are True"
   ]
  },
  {
   "cell_type": "markdown",
   "id": "ebe493ea-44f5-47a5-869b-8e22cbb97c1f",
   "metadata": {},
   "source": [
    "#### 1. Filtering using conditional statements"
   ]
  },
  {
   "cell_type": "code",
   "execution_count": 13,
   "id": "b58a083c-7530-4705-9b21-44e050cc7052",
   "metadata": {
    "tags": []
   },
   "outputs": [
    {
     "name": "stdout",
     "output_type": "stream",
     "text": [
      "x is equal to 10\n"
     ]
    }
   ],
   "source": [
    "x = 10\n",
    "\n",
    "if x > 10:\n",
    "    print(\"x is greater than 10\")\n",
    "elif x < 10:\n",
    "    print(\"x is less than 10\")\n",
    "else:\n",
    "    print(\"x is equal to 10\")\n"
   ]
  },
  {
   "cell_type": "markdown",
   "id": "eb99451a-c9e0-429d-955f-b8622a423643",
   "metadata": {},
   "source": [
    "#### 2. Iteration with conditional statements"
   ]
  },
  {
   "cell_type": "code",
   "execution_count": null,
   "id": "7315bbb5-c8b6-4517-9bfd-0392d2071c07",
   "metadata": {},
   "outputs": [],
   "source": [
    "import numpy as np\n",
    "\n",
    "# Create a sample NumPy array\n",
    "arr = np.array([1, 2, 3, 4, 5])\n",
    "\n",
    "# Iterate through the elements and print if greater than 1\n",
    "for i in arr:\n",
    "    if i > 2:\n",
    "        print(i)"
   ]
  },
  {
   "cell_type": "code",
   "execution_count": null,
   "id": "831c40c3-b890-499e-9354-f7b4cc6ec032",
   "metadata": {
    "tags": []
   },
   "outputs": [],
   "source": [
    "import numpy as np\n",
    "\n",
    "# Create a sample NumPy array\n",
    "arr = np.array([1, 2, 3, 4, 5])\n",
    "\n",
    "# Create an empty list to store the filtered elements\n",
    "filtered = []\n",
    "\n",
    "# Iterate through the elements and add to the list if greater than 1\n",
    "for element in arr:\n",
    "    if element > 1:\n",
    "        filtered.append(element)\n",
    "\n",
    "# Convert the list to a NumPy array\n",
    "new_array = np.array(filtered)\n",
    "\n",
    "# Print the new array\n",
    "print(new_array)\n"
   ]
  },
  {
   "cell_type": "code",
   "execution_count": null,
   "id": "3a213b34-7ce6-47b1-908a-08b6c0c6c861",
   "metadata": {
    "tags": []
   },
   "outputs": [],
   "source": [
    "data = np.linspace(5,-5,5)\n",
    "\n",
    "def funct(n):\n",
    "    negative_sum = 0\n",
    "    for n in data:\n",
    "        if n < 0:\n",
    "            negative_sum += n\n",
    "    return negative_sum\n",
    "\n",
    "print(funct(data))"
   ]
  },
  {
   "cell_type": "code",
   "execution_count": null,
   "id": "cce3c1a9-43fc-43fe-b057-9a9b0ed16598",
   "metadata": {
    "tags": []
   },
   "outputs": [],
   "source": [
    "data = np.linspace(5,-5,5)\n",
    "\n",
    "def funct(n):\n",
    "    negative_sum = 0\n",
    "    for n in data:\n",
    "        if n > 0:\n",
    "            negative_sum += n\n",
    "    return negative_sum\n",
    "\n",
    "print(funct(data))"
   ]
  },
  {
   "cell_type": "code",
   "execution_count": null,
   "id": "3b703b02-446a-4541-90c2-084d3e083514",
   "metadata": {
    "tags": []
   },
   "outputs": [],
   "source": [
    "this_value = 10\n",
    "if this_value == 9:\n",
    "    print('the value is 9')\n",
    "else:\n",
    "    print('the value is not 9')"
   ]
  },
  {
   "cell_type": "code",
   "execution_count": null,
   "id": "6df74970-f062-4574-a555-e48085ca8614",
   "metadata": {
    "tags": []
   },
   "outputs": [],
   "source": [
    "def search_string(string, substring):\n",
    "    if substring in string:\n",
    "        return True\n",
    "    else:\n",
    "        return False\n",
    "string = \"This is a test string\"\n",
    "substring1 = \"test\"\n",
    "substring2 = \"hello\"\n",
    "\n",
    "print(search_string(string, substring1)) # Output: True\n",
    "print(search_string(string, substring2)) # Output: False"
   ]
  },
  {
   "cell_type": "code",
   "execution_count": 16,
   "id": "c92e729b-2db4-49a0-a596-2ab1c74b7e95",
   "metadata": {},
   "outputs": [
    {
     "name": "stdout",
     "output_type": "stream",
     "text": [
      "2\n"
     ]
    }
   ],
   "source": [
    "def test(a, b=False):\n",
    "    if b:\n",
    "        return a\n",
    "    else:\n",
    "        return a * a\n",
    "\n",
    "\n",
    "print(test(a=2, b=True))"
   ]
  },
  {
   "cell_type": "code",
   "execution_count": 17,
   "id": "3ed5c74b-678a-4fba-b455-a0e2ac8a29e9",
   "metadata": {
    "tags": []
   },
   "outputs": [
    {
     "name": "stdout",
     "output_type": "stream",
     "text": [
      "10\n"
     ]
    }
   ],
   "source": [
    "def my_max(a):\n",
    "    if not a:\n",
    "        return None\n",
    "    max_value = a[0]\n",
    "    for item in a:\n",
    "        if item > max_value:\n",
    "            max_value = item\n",
    "    return max_value\n",
    "\n",
    "a = [1, 4, 5, 2,3,8,10]\n",
    "\n",
    "print(my_max(a))\n"
   ]
  },
  {
   "cell_type": "code",
   "execution_count": 18,
   "id": "8e6e5f8b-fce5-410e-b5e9-6c45ea1f2533",
   "metadata": {
    "tags": []
   },
   "outputs": [
    {
     "name": "stdout",
     "output_type": "stream",
     "text": [
      "6\n"
     ]
    }
   ],
   "source": [
    "def test(n):\n",
    "    if n == 1:\n",
    "        return n\n",
    "    return n * test(n-1)\n",
    "\n",
    "\n",
    "print(test(3))"
   ]
  },
  {
   "cell_type": "markdown",
   "id": "c8d00861-bd2e-4898-9853-c7983a28a8d0",
   "metadata": {},
   "source": [
    "#### Dont try this"
   ]
  },
  {
   "cell_type": "code",
   "execution_count": null,
   "id": "84c0e864-4f22-47ad-961d-9d92b2585a2e",
   "metadata": {
    "tags": []
   },
   "outputs": [],
   "source": [
    "a = 10\n",
    "\n",
    "while a > 0:\n",
    "    print(a)\n",
    "\n",
    "print('Tewas')\n"
   ]
  },
  {
   "cell_type": "markdown",
   "id": "66171903-df3b-4f90-8cc5-3dce2b02c0f8",
   "metadata": {
    "tags": []
   },
   "source": [
    "#### 3. Break and Continue"
   ]
  },
  {
   "cell_type": "code",
   "execution_count": 24,
   "id": "da5ad9ac-024f-468a-9684-70a249823abe",
   "metadata": {
    "tags": []
   },
   "outputs": [
    {
     "name": "stdout",
     "output_type": "stream",
     "text": [
      "0\n",
      "1\n",
      "1\n",
      "3\n",
      "5\n",
      "7\n",
      "9\n"
     ]
    }
   ],
   "source": [
    "# break\n",
    "\n",
    "\n",
    "for i in range(10):\n",
    "    print(i)\n",
    "    if i % 2 != 0:\n",
    "        break\n",
    "\n",
    "\n",
    "# continue\n",
    "\n",
    "for i in range(10):\n",
    "    if i % 2 == 0:\n",
    "        continue\n",
    "    print(i)"
   ]
  },
  {
   "cell_type": "markdown",
   "id": "6b877f00-7243-4e8f-aa4a-3f584b4460f1",
   "metadata": {},
   "source": [
    "#### 4. Checking Conditions"
   ]
  },
  {
   "cell_type": "code",
   "execution_count": 14,
   "id": "5f9d5e71-65c4-4f50-93b2-cb3c2fc99e78",
   "metadata": {
    "tags": []
   },
   "outputs": [
    {
     "name": "stdout",
     "output_type": "stream",
     "text": [
      "Go home kid!\n"
     ]
    }
   ],
   "source": [
    "age = 12\n",
    "if age >= 18:\n",
    "    print(\"You are good enough to vote!\")\n",
    "else:\n",
    "    print(\"Go home kid!\")"
   ]
  },
  {
   "cell_type": "markdown",
   "id": "c226154d-728b-40a5-9c84-d3a22e100b47",
   "metadata": {},
   "source": [
    "#### 5. Checking a Multiple Conditions"
   ]
  },
  {
   "cell_type": "code",
   "execution_count": 15,
   "id": "1f1082aa-c089-434d-8614-4ac1d4403c26",
   "metadata": {
    "tags": []
   },
   "outputs": [
    {
     "name": "stdout",
     "output_type": "stream",
     "text": [
      "Your admission cost is $25.\n"
     ]
    }
   ],
   "source": [
    "age = 12\n",
    "if age < 4:\n",
    "    print(\"Your admission cost is $0.\")\n",
    "elif age < 18:\n",
    "    print(\"Your admission cost is $25.\")\n",
    "else:\n",
    "    print(\"Your admission cost is $40.\")"
   ]
  },
  {
   "cell_type": "code",
   "execution_count": null,
   "id": "2c4c2110-569b-49ba-9b24-caf2064eade8",
   "metadata": {},
   "outputs": [],
   "source": []
  }
 ],
 "metadata": {
  "kernelspec": {
   "display_name": "Python 3 (ipykernel)",
   "language": "python",
   "name": "python3"
  },
  "language_info": {
   "codemirror_mode": {
    "name": "ipython",
    "version": 3
   },
   "file_extension": ".py",
   "mimetype": "text/x-python",
   "name": "python",
   "nbconvert_exporter": "python",
   "pygments_lexer": "ipython3",
   "version": "3.11.4"
  },
  "toc-showtags": false
 },
 "nbformat": 4,
 "nbformat_minor": 5
}
