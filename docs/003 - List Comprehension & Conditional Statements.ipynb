{
 "cells": [
  {
   "cell_type": "markdown",
   "id": "34fe5903",
   "metadata": {},
   "source": [
    "## List Comprehension"
   ]
  },
  {
   "cell_type": "markdown",
   "id": "59b29b06-48dc-4daf-b5e8-7621494f8ae1",
   "metadata": {},
   "source": [
    "In Python, list comprehensions provide a concise way to create lists based on existing sequences (lists, tuples, or other iterable objects) or perform operations on elements. List comprehensions are often used for filtering and transforming data. The basic syntax of a list comprehension is as follows:"
   ]
  },
  {
   "cell_type": "markdown",
   "id": "3cabe11b-03c2-4d5a-82d4-3342c7292209",
   "metadata": {},
   "source": [
    "Syntax"
   ]
  },
  {
   "cell_type": "code",
   "execution_count": null,
   "id": "a993f3a4-b132-42ac-a4c0-be09792eefbb",
   "metadata": {
    "tags": []
   },
   "outputs": [],
   "source": [
    "new_list = [expression for element in iterable if condition]"
   ]
  },
  {
   "cell_type": "markdown",
   "id": "7b76fb68-253c-4727-bec5-f8b10bd5fd88",
   "metadata": {},
   "source": [
    "- `expression` : The operation or expression to be applied to each element.\n",
    "- `element` : A variable representing an element in the iterable.\n",
    "- `iterable` : The source of data, such as a list, tuple, or any iterable.\n",
    "- `condition` (optional): An optional filter that allows you to include elements in the new list based on a condition."
   ]
  },
  {
   "cell_type": "markdown",
   "id": "0edb2e67-813a-4951-9c94-ddefd7268479",
   "metadata": {},
   "source": [
    "#### 1. Creating a squared list number"
   ]
  },
  {
   "cell_type": "code",
<<<<<<< HEAD
   "execution_count": null,
=======
   "execution_count": 2,
>>>>>>> f8bb515b82b1cdde9a44ee8aafe86a5090be125a
   "id": "c7086dc5-1b49-4993-9319-f3cfa63272f6",
   "metadata": {
    "tags": []
   },
<<<<<<< HEAD
   "outputs": [],
   "source": [
    "squared_numbers = [x**2 for x in range(1, 6)]\n",
=======
   "outputs": [
    {
     "name": "stdout",
     "output_type": "stream",
     "text": [
      "[1, 4, 9, 16, 25]\n"
     ]
    }
   ],
   "source": [
    "squared_numbers = [x**2 for x in range(1, 6)]\n",
    "# Result: [1, 4, 9, 16, 25]\n",
>>>>>>> f8bb515b82b1cdde9a44ee8aafe86a5090be125a
    "print(squared_numbers)"
   ]
  },
  {
   "cell_type": "markdown",
   "id": "a65d0a55-11fc-47c1-9ef3-be35d9105c3f",
   "metadata": {},
   "source": [
    "#### 2. Filtering list of numbers"
   ]
  },
  {
   "cell_type": "code",
<<<<<<< HEAD
   "execution_count": null,
=======
   "execution_count": 11,
>>>>>>> f8bb515b82b1cdde9a44ee8aafe86a5090be125a
   "id": "589e186c-a0cf-4ba8-96a0-785f940c5501",
   "metadata": {
    "tags": []
   },
   "outputs": [],
   "source": [
<<<<<<< HEAD
    "numbers = [1, 5, 10, 15, 20, 25, 30]\n",
    "filtered_numbers = []\n",
    "\n",
    "for number in numbers:\n",
    "    if number % 2 == 0:\n",
    "        filtered_numbers.append(number)\n",
    "print(filtered_numbers)"
=======
    "numbers = [1, 2, 3, 4, 5, 6, 7, 8, 9]\n",
    "even_numbers = [x for x in numbers if x % 2 == 0]\n",
    "# Result: [2, 4, 6, 8]\n",
    "odd_numbers = [x for x in numbers if x % 2 == 1]"
>>>>>>> f8bb515b82b1cdde9a44ee8aafe86a5090be125a
   ]
  },
  {
   "cell_type": "markdown",
   "id": "57ab608b-82ac-44ed-9a31-4c1931137885",
   "metadata": {},
   "source": [
    "#### 3. List a number in between"
   ]
  },
  {
   "cell_type": "code",
   "execution_count": null,
   "id": "c5ea945d-59ba-4cf1-90b5-26c495224744",
   "metadata": {},
   "outputs": [],
   "source": [
    "for item in range(1, 20):\n",
    "    print(item)"
   ]
  },
  {
   "cell_type": "markdown",
   "id": "2c420c17-6966-445d-ac15-5861b2d99e80",
   "metadata": {},
   "source": [
<<<<<<< HEAD
    "#### 4. Listing an odd/even number"
=======
    "#### 4. Slicing list data"
>>>>>>> f8bb515b82b1cdde9a44ee8aafe86a5090be125a
   ]
  },
  {
   "cell_type": "code",
   "execution_count": null,
   "id": "17126fa5-6c02-4481-a98c-bd704cf63970",
   "metadata": {},
   "outputs": [],
   "source": [
<<<<<<< HEAD
    "data = [2*i+1 for i in range(10)]\n",
    "print(data)"
=======
    "players = ['charles', 'martina', 'michael', 'florence', 'eli']\n",
    "print(players[0:1])"
   ]
  },
  {
   "cell_type": "code",
   "execution_count": null,
   "id": "2b992c39-12fa-4f67-8639-72997e280721",
   "metadata": {},
   "outputs": [],
   "source": [
    "players = ['charles', 'martina', 'michael', 'florence', 'eli']\n",
    "print(players[1:4])"
>>>>>>> f8bb515b82b1cdde9a44ee8aafe86a5090be125a
   ]
  },
  {
   "cell_type": "code",
   "execution_count": null,
   "id": "aa9f82d4-4933-45ea-8202-c51f6a26a8f7",
   "metadata": {},
   "outputs": [],
   "source": [
<<<<<<< HEAD
    "data = [2*i+2 for i in range(10)]\n",
    "print(data)"
=======
    "players = ['charles', 'martina', 'michael', 'florence', 'eli']\n",
    "print(players[:4])"
>>>>>>> f8bb515b82b1cdde9a44ee8aafe86a5090be125a
   ]
  },
  {
   "cell_type": "markdown",
   "id": "6f2a134e-6242-4fe6-bcc6-b6d3cc9dd57b",
   "metadata": {},
   "source": [
    "#### 5. Looping through a Slice"
   ]
  },
  {
   "cell_type": "code",
   "execution_count": null,
   "id": "16411966-01b6-4cbc-9ad7-a3db1676fbcc",
   "metadata": {},
   "outputs": [],
   "source": [
    "players = ['charles', 'martina', 'michael', 'florence', 'eli']\n",
    "print(\"Here are the first three players on my team:\")\n",
    "for player in players[:3]:\n",
    "    print(player.title())"
   ]
  },
  {
   "cell_type": "markdown",
   "id": "961e1b0b-8a4d-4a15-9b92-e8ea38be6052",
   "metadata": {},
   "source": [
<<<<<<< HEAD
    "#### 6. Updating element in the list"
=======
    "#### 6. Print the Tuples"
>>>>>>> f8bb515b82b1cdde9a44ee8aafe86a5090be125a
   ]
  },
  {
   "cell_type": "code",
<<<<<<< HEAD
   "execution_count": null,
=======
   "execution_count": 6,
>>>>>>> f8bb515b82b1cdde9a44ee8aafe86a5090be125a
   "id": "e8457bac-91fe-4c36-92b1-c3299a1430af",
   "metadata": {
    "tags": []
   },
<<<<<<< HEAD
   "outputs": [],
   "source": [
    "colleague = ['charles', 'martina', 'michael', 'florence', 'eli']\n",
    "Full_name = []\n",
    "for i in colleague:\n",
    "    Full_name.append(i + \" darwin\")\n",
    "print(Full_name)"
   ]
  },
  {
   "cell_type": "markdown",
   "id": "64c3314e-68e8-4c9c-9e16-4a2f7a8d0dcb",
   "metadata": {},
   "source": [
    "#### 7. Iterating through the string"
=======
   "outputs": [
    {
     "name": "stdout",
     "output_type": "stream",
     "text": [
      "200\n",
      "50\n"
     ]
    }
   ],
   "source": [
    "dimensions = (200, 50)\n",
    "print(dimensions[0])\n",
    "print(dimensions[1])"
>>>>>>> f8bb515b82b1cdde9a44ee8aafe86a5090be125a
   ]
  },
  {
   "cell_type": "code",
   "execution_count": null,
<<<<<<< HEAD
   "id": "c4ce85a3-61d1-45e0-afa4-b2ebd42d4633",
   "metadata": {
    "tags": []
   },
   "outputs": [],
   "source": [
    "campus = [ letter for letter in 'AlfaPrima' ]\n",
    "print(campus)"
   ]
  },
  {
   "cell_type": "markdown",
   "id": "158182a5-4b9c-460e-81a4-cebb852c6f23",
   "metadata": {},
   "source": [
    "#### 8. Iterating Using Nested List Comprehensions"
   ]
  },
  {
   "cell_type": "code",
   "execution_count": null,
   "id": "7bf710ed-ce32-4fdf-9972-ed61d6585939",
   "metadata": {
    "tags": []
   },
   "outputs": [],
   "source": [
    "data = [2,5,3,4,6,7,2,4,3]\n",
    "new_data = [i**2 for i in [i+1 for i in data]]\n",
    "print(new_data)"
   ]
  },
  {
   "cell_type": "markdown",
   "id": "ffaf6ca6-e72c-437a-ba86-a61a892ef3c3",
   "metadata": {},
   "source": [
    "#### 9. Making 5x5 matrix"
   ]
  },
  {
   "cell_type": "code",
   "execution_count": null,
   "id": "325f3aa5-07d5-4657-acac-848e91b20aae",
   "metadata": {
    "tags": []
   },
   "outputs": [],
   "source": [
    "matrix = [] \n",
    "for i in range(5):\n",
    "    row = [] \n",
    "    for j in range(5):\n",
    "        row.append(i+j)\n",
    "    matrix.append(row)"
   ]
  },
  {
   "cell_type": "markdown",
   "id": "08f65114-75bb-449c-a104-715d89ec3aba",
   "metadata": {},
   "source": [
    "#### 10. Rolling 2 dices"
   ]
  },
  {
   "cell_type": "code",
   "execution_count": null,
   "id": "3daa7b8e-31e7-43b5-9d24-c716260c6905",
   "metadata": {
    "tags": []
   },
   "outputs": [],
   "source": [
    "rolls = [ (r1,r2) for r1 in range(1,7) \n",
    " for r2 in range(1,7)]\n",
    "print(rolls)"
   ]
  },
  {
   "cell_type": "markdown",
   "id": "504b8714-9d3d-4652-bae5-ff185dbab432",
   "metadata": {},
   "source": [
    "## Excercise "
   ]
  },
  {
   "cell_type": "markdown",
   "id": "8e5a4845-de59-4a1a-bf8c-e2cc0f46cfc0",
   "metadata": {},
   "source": [
    "#### 1. Fix the missing code"
   ]
  },
  {
   "cell_type": "code",
   "execution_count": null,
   "id": "4d9e022b-e71a-4f27-81b3-a6340a8eb9b5",
   "metadata": {
    "tags": []
   },
   "outputs": [],
   "source": [
    "cube_numbers = [x*2 for x in range(1, 6)]\n",
    "print(cube_numbers)"
   ]
  },
  {
   "cell_type": "markdown",
   "id": "acaa2599-9e71-4e35-8bd8-c1ed7a27d97e",
   "metadata": {},
   "source": [
    "Answer:\n",
    "[1, 8, 27, 64, 125]"
   ]
  },
  {
   "cell_type": "markdown",
   "id": "9c3f05d5-b989-4f31-9d8e-3bc7da749be2",
   "metadata": {},
   "source": [
    "#### 2. Complete the code below"
   ]
  },
  {
   "cell_type": "code",
   "execution_count": null,
   "id": "38a3022f-8f7b-4230-9930-291add2f40eb",
   "metadata": {
    "tags": []
   },
   "outputs": [],
   "source": [
    "doublet_numbers = [x*2 for x in range(,6)]\n",
    "print(doublet_numbers)"
   ]
  },
  {
   "cell_type": "markdown",
   "id": "82c5edb7-9a09-4f47-ba7f-3c942e280c3a",
   "metadata": {
    "tags": []
   },
   "source": [
    "Answer: [0, 2, 4, 6, 8, 10]"
   ]
  },
  {
   "cell_type": "markdown",
   "id": "a9238ba0-1edc-48c6-a7c4-d7c4b4a74f8d",
   "metadata": {},
   "source": [
    "#### 3. Fix the following code"
   ]
  },
  {
   "cell_type": "code",
   "execution_count": null,
   "id": "f40cedfe-4b16-4df9-af3a-edcc0d9b6eab",
   "metadata": {
    "tags": []
   },
   "outputs": [],
   "source": [
    "numbers = [1, 5, 10, 15, 20, 25, 30]\n",
    "new_numbers = []\n",
    "for number in numbers:\n",
    "    if number % 2 == 0:\n",
    "        new_numbers.append(number)\n",
    "print(new_numbers)"
   ]
  },
  {
   "cell_type": "markdown",
   "id": "35006d8d-582e-4099-8ee8-d7802ac91391",
   "metadata": {},
   "source": [
    "Answer: [1, 5, 15, 25]"
   ]
  },
  {
   "cell_type": "markdown",
   "id": "7ca9482b-d54a-4faf-b2e6-03542a887e65",
   "metadata": {},
   "source": [
    "#### 4. Fix the missing code"
   ]
  },
  {
   "cell_type": "code",
   "execution_count": null,
   "id": "218e5844-e83e-474e-8500-ec1fb19b11e9",
   "metadata": {
    "tags": []
   },
   "outputs": [],
   "source": [
    "data = [('o' , 5), ('p', 6), ('q', 7)] \n",
    "new_data = [ n *  for (x, n) in data]\n",
    "print(new_data)"
   ]
  },
  {
   "cell_type": "markdown",
   "id": "2f236a82-3946-4b9a-9654-530447580a06",
   "metadata": {},
   "source": [
    "Answer: [15, 18, 21]"
   ]
  },
  {
   "cell_type": "markdown",
   "id": "7d665676-8c10-4621-8bcf-571d28bfe0ae",
   "metadata": {},
   "source": [
    "#### 5. Fix the following code"
   ]
  },
  {
   "cell_type": "code",
   "execution_count": null,
   "id": "e5e4876d-e38b-41ea-b72a-f7962b9550bf",
   "metadata": {
    "tags": []
   },
   "outputs": [],
   "source": [
    "data = [2*i+1 for i in range(10)]\n",
    "print(f\"The even numbers are {data}\")"
   ]
  },
  {
   "cell_type": "markdown",
   "id": "47c3aee0-8f11-47d3-bcba-2087fba2f7d8",
   "metadata": {},
   "source": [
    "Answer: The even numbers are [4, 6, 8, 10, 12, 14, 16, 18, 20, 22]"
   ]
=======
   "id": "5e51f7ea-bdf8-4c97-bcc5-d0a0851c110e",
   "metadata": {},
   "outputs": [],
   "source": []
>>>>>>> f8bb515b82b1cdde9a44ee8aafe86a5090be125a
  },
  {
   "cell_type": "markdown",
   "id": "ee5ce594-7e1e-4c87-a9b2-be76cb800da4",
   "metadata": {},
   "source": [
    "## Conditional Statement (If, Else, Elif, while)"
   ]
  },
  {
   "cell_type": "markdown",
   "id": "a9555669-5474-4e87-a6fb-732d540e53da",
   "metadata": {},
   "source": [
    "In Python, we can use __if__, __else__, and __elif__ (short for \"else if\") statements to perform conditional branching. These statements are used to execute different blocks of code depending on whether certain conditions are met. You can use if, elif, and else statements in various contexts, including within functions, loops, and more."
   ]
  },
  {
   "cell_type": "markdown",
   "id": "c286350b-19b7-49a6-8a80-2edd81500feb",
   "metadata": {},
   "source": [
    "Syntax"
   ]
  },
  {
   "cell_type": "code",
   "execution_count": null,
   "id": "4ad9c370-e275-49ce-a943-4eeb63de66f5",
   "metadata": {},
   "outputs": [],
   "source": [
    "if condition1:\n",
    "    # Code to execute if condition1 is True\n",
    "elif condition2:\n",
    "    # Code to execute if condition2 is True\n",
    "else:\n",
    "    # Code to execute if none of the conditions are True"
   ]
  },
  {
   "cell_type": "markdown",
<<<<<<< HEAD
   "id": "6f60fe3c-36ba-4092-b584-3c66902f93f1",
   "metadata": {},
   "source": [
    "##  `if` statements\n",
    "\n",
    "Conditional statements begin with an `if` statement. They can optionall have `elif` and `else`, which we'll get to in just a second, but they *must* have an `if` statement and that `if` statement must come first. The code within an `if` statement will execute if the condition following `if` evaluates as True."
   ]
  },
  {
   "cell_type": "markdown",
   "id": "f116b55a-5afc-4bf7-981d-20ea9cde55fc",
   "metadata": {},
   "source": [
    "<div class=\"alert alert-success\">\n",
    "Conditionals are statements that check for a condition, using the <code>if</code> statement, and then only execute a set of code if the condition evaluates as <code>True</code>.\n",
    "</div>"
   ]
  },
  {
   "cell_type": "markdown",
   "id": "c52b2a26-1c19-4986-8862-4f1b22c874e2",
   "metadata": {},
   "source": [
    "The general syntax for a conditional `if` statments requires an `if` followed by a condition and a `:`. Subsequent lines that you want to execute if the condition are true go on indented lines beneath the `if` conditional statement:\n",
    "\n",
    "```python\n",
    "if condition:\n",
    "    # execute this code\n",
    "```"
   ]
  },
  {
   "cell_type": "markdown",
   "id": "27d2e91d-a22e-4cc6-aa9a-57c5601ed7c5",
   "metadata": {},
   "source": [
    "For example, if we define `condition` to store the boolean `True`, the conditional `if` statement, will then execute the `print()` statement within the condition."
   ]
  },
  {
   "cell_type": "code",
   "execution_count": 14,
   "id": "4228610f-382a-4865-a193-f293d06220af",
   "metadata": {
    "tags": []
   },
   "outputs": [
    {
     "name": "stdout",
     "output_type": "stream",
     "text": [
      "This code executes if the condition evaluates as True.\n"
     ]
    }
   ],
   "source": [
    "condition = True\n",
    "\n",
    "if condition:\n",
    "    print('This code executes if the condition evaluates as True.')"
   ]
  },
  {
   "cell_type": "code",
   "execution_count": 15,
   "id": "2874990b-bb52-4621-990b-87f2f4a21db1",
   "metadata": {
    "tags": []
   },
   "outputs": [],
   "source": [
    "condition = False\n",
    "\n",
    "if condition:\n",
    "    print('This code executes if the condition evaluates as True.')"
   ]
  },
  {
   "cell_type": "markdown",
   "id": "7af85b00-924e-4f86-8a51-b85b73d153f0",
   "metadata": {},
   "source": [
    "## `else` statements\n",
    "\n",
    "After an `if` statement you can add an optional `else` statement. The code within this conditional will execute if the `if` conditional statement did *not* evaluate as `True`."
   ]
  },
  {
   "cell_type": "markdown",
   "id": "46f2943c-800f-497f-a186-22e79636fdce",
   "metadata": {},
   "source": [
    "<div class=\"alert alert-success\">\n",
    "After an <code>if</code>, you can use an <code>else</code> that will run if the conditional(s) above have not run.\n",
    "</div>"
   ]
  },
  {
   "cell_type": "markdown",
   "id": "5c16b80c-70af-4a29-9965-ca9fdf4216c4",
   "metadata": {},
   "source": [
    "For example, below we see that condition is defined as `False`. Therefore, the `if` condtional statement evaluates as False. The code within the `if` conditional is ignored, moving onto the `else` statement. The code within that statement is evaluated, printing the code within the `else` statement."
   ]
  },
  {
   "cell_type": "code",
   "execution_count": 16,
   "id": "5eef63ce-2e42-4564-83a3-17571f5e03c3",
   "metadata": {
    "tags": []
   },
   "outputs": [
    {
     "name": "stdout",
     "output_type": "stream",
     "text": [
      "This code executes if the condition evaluates as False\n"
     ]
    }
   ],
   "source": [
    "condition = False\n",
    "\n",
    "if condition:\n",
    "    print('This code executes if the condition evaluates as True.')\n",
    "else: \n",
    "    print('This code executes if the condition evaluates as False')"
   ]
  },
  {
   "cell_type": "markdown",
   "id": "3c8a4ab1-dc50-4cd6-bebe-d912f6778791",
   "metadata": {},
   "source": [
    "## `elif` statements\n",
    "\n",
    "The final type of conditional statement is the `elif` statement. These too are optional, and are read as \"else if\". After an `if` statment, an `elif` statement can be used to check additional conditions. As with `if` statements, the code within an `elif` statement will only execute if the condition specified evaluates as `True`."
   ]
  },
  {
   "cell_type": "markdown",
   "id": "7c55e7c6-88cb-4cb2-9b84-508b93564f5a",
   "metadata": {},
   "source": [
    "<div class=\"alert alert-success\">\n",
    "After an <code>if</code> statement, you can have any number of <code>elif</code>`s (meaning 'else if') to check other conditions.\n",
    "</div>"
   ]
  },
  {
   "cell_type": "markdown",
   "id": "53336df4-8ec4-47fa-95f6-b6b65c42a4cc",
   "metadata": {},
   "source": [
    "Here, we have two variables `condition_1` storing `False` and `condition_2` storing `True`. We then see an `if`, `elif` and `else` statement. As before, the code for only one of these conditions will execute. If the `if` condition evaluates as `True`, the code within that statement will execute. Else, if (`elif`) the condition in the `elif` statement evaluates as `True`, the code within the `elif` statement will execute. Finally, if neither the `if` or `elif` evaluate as `True`, the code within the `else` statment will execute."
   ]
  },
  {
   "cell_type": "code",
   "execution_count": 17,
   "id": "2ccf0e58-5fbc-46de-ac12-898aebea75b2",
   "metadata": {
    "tags": []
   },
   "outputs": [
    {
     "name": "stdout",
     "output_type": "stream",
     "text": [
      "This code executes if condition_1 did not evaluate as True, but condition_2 does.\n"
     ]
    }
   ],
   "source": [
    "condition_1 = False\n",
    "condition_2 = True\n",
    "\n",
    "if condition_1:\n",
    "    print('This code executes if condition_1 evaluates as True.')\n",
    "elif condition_2:\n",
    "    print('This code executes if condition_1 did not evaluate as True, but condition_2 does.')\n",
    "else: \n",
    "    print('This code executes if both condition_1 and condition_2 evaluate as False')"
   ]
  },
  {
   "cell_type": "markdown",
   "id": "9e8cc35e-1ab3-415e-8730-7569bc6ba982",
   "metadata": {},
   "source": [
    "In the example above, as `condition_1` is `False`, the code beneath the `if` statement does not execute. However, the `elif` condition (`condition_2`) evaluates as `True`, printing the string within the `elif` statement. In the example above, as `condition_1` is `False`, the code beneath the `if` statement does not execute. However, the `elif` condition (`condition_2`) evaluates as `True`, printing the string within the `elif` statement. "
   ]
  },
  {
   "cell_type": "markdown",
   "id": "b959f0cf-b4f2-4b09-97c8-0759dcb60b19",
   "metadata": {},
   "source": [
    "#### See the following conditional \"if\""
   ]
  },
  {
   "cell_type": "code",
   "execution_count": null,
   "id": "5e3fe3c9-6e37-471c-abd9-ba9ed0c0b97c",
   "metadata": {},
   "outputs": [],
   "source": [
    "numbers = [1, 2, 3, 4, 5, 6, 7, 8, 9]\n",
    "even_numbers = [x for x in numbers if x % 2 == 0]\n",
    "# Result: [2, 4, 6, 8]\n",
    "odd_numbers = [x for x in numbers if x % 2 == 1]"
   ]
  },
  {
   "cell_type": "markdown",
   "id": "0dc28074-e1fa-4ed2-a5fa-224c5a18eea4",
   "metadata": {},
   "source": [
    "#### Other examples"
   ]
  },
  {
   "cell_type": "markdown",
=======
>>>>>>> f8bb515b82b1cdde9a44ee8aafe86a5090be125a
   "id": "ebe493ea-44f5-47a5-869b-8e22cbb97c1f",
   "metadata": {},
   "source": [
    "#### 1. Filtering using conditional statements"
   ]
  },
  {
   "cell_type": "code",
<<<<<<< HEAD
   "execution_count": null,
=======
   "execution_count": 13,
>>>>>>> f8bb515b82b1cdde9a44ee8aafe86a5090be125a
   "id": "b58a083c-7530-4705-9b21-44e050cc7052",
   "metadata": {
    "tags": []
   },
<<<<<<< HEAD
   "outputs": [],
=======
   "outputs": [
    {
     "name": "stdout",
     "output_type": "stream",
     "text": [
      "x is equal to 10\n"
     ]
    }
   ],
>>>>>>> f8bb515b82b1cdde9a44ee8aafe86a5090be125a
   "source": [
    "x = 10\n",
    "\n",
    "if x > 10:\n",
    "    print(\"x is greater than 10\")\n",
    "elif x < 10:\n",
    "    print(\"x is less than 10\")\n",
    "else:\n",
    "    print(\"x is equal to 10\")\n"
   ]
  },
  {
   "cell_type": "markdown",
   "id": "eb99451a-c9e0-429d-955f-b8622a423643",
   "metadata": {},
   "source": [
    "#### 2. Iteration with conditional statements"
   ]
  },
  {
   "cell_type": "code",
   "execution_count": null,
   "id": "7315bbb5-c8b6-4517-9bfd-0392d2071c07",
   "metadata": {},
   "outputs": [],
   "source": [
    "import numpy as np\n",
    "\n",
    "# Create a sample NumPy array\n",
    "arr = np.array([1, 2, 3, 4, 5])\n",
    "\n",
    "# Iterate through the elements and print if greater than 1\n",
    "for i in arr:\n",
    "    if i > 2:\n",
    "        print(i)"
   ]
  },
  {
   "cell_type": "code",
   "execution_count": null,
   "id": "831c40c3-b890-499e-9354-f7b4cc6ec032",
   "metadata": {
    "tags": []
   },
   "outputs": [],
   "source": [
    "import numpy as np\n",
    "\n",
    "# Create a sample NumPy array\n",
    "arr = np.array([1, 2, 3, 4, 5])\n",
    "\n",
    "# Create an empty list to store the filtered elements\n",
    "filtered = []\n",
    "\n",
    "# Iterate through the elements and add to the list if greater than 1\n",
    "for element in arr:\n",
    "    if element > 1:\n",
    "        filtered.append(element)\n",
    "\n",
    "# Convert the list to a NumPy array\n",
    "new_array = np.array(filtered)\n",
    "\n",
    "# Print the new array\n",
    "print(new_array)\n"
   ]
  },
  {
   "cell_type": "code",
   "execution_count": null,
   "id": "3a213b34-7ce6-47b1-908a-08b6c0c6c861",
   "metadata": {
    "tags": []
   },
   "outputs": [],
   "source": [
    "data = np.linspace(5,-5,5)\n",
    "\n",
    "def funct(n):\n",
    "    negative_sum = 0\n",
    "    for n in data:\n",
    "        if n < 0:\n",
    "            negative_sum += n\n",
    "    return negative_sum\n",
    "\n",
    "print(funct(data))"
   ]
  },
  {
   "cell_type": "code",
   "execution_count": null,
   "id": "cce3c1a9-43fc-43fe-b057-9a9b0ed16598",
   "metadata": {
    "tags": []
   },
   "outputs": [],
   "source": [
    "data = np.linspace(5,-5,5)\n",
    "\n",
    "def funct(n):\n",
    "    negative_sum = 0\n",
    "    for n in data:\n",
    "        if n > 0:\n",
    "            negative_sum += n\n",
    "    return negative_sum\n",
    "\n",
    "print(funct(data))"
   ]
  },
  {
   "cell_type": "code",
   "execution_count": null,
   "id": "3b703b02-446a-4541-90c2-084d3e083514",
   "metadata": {
    "tags": []
   },
   "outputs": [],
   "source": [
    "this_value = 10\n",
    "if this_value == 9:\n",
    "    print('the value is 9')\n",
    "else:\n",
    "    print('the value is not 9')"
   ]
  },
  {
   "cell_type": "code",
   "execution_count": null,
   "id": "6df74970-f062-4574-a555-e48085ca8614",
   "metadata": {
    "tags": []
   },
   "outputs": [],
   "source": [
    "def search_string(string, substring):\n",
    "    if substring in string:\n",
    "        return True\n",
    "    else:\n",
    "        return False\n",
    "string = \"This is a test string\"\n",
    "substring1 = \"test\"\n",
    "substring2 = \"hello\"\n",
    "\n",
    "print(search_string(string, substring1)) # Output: True\n",
    "print(search_string(string, substring2)) # Output: False"
   ]
  },
  {
   "cell_type": "code",
<<<<<<< HEAD
   "execution_count": null,
   "id": "c92e729b-2db4-49a0-a596-2ab1c74b7e95",
   "metadata": {},
   "outputs": [],
=======
   "execution_count": 16,
   "id": "c92e729b-2db4-49a0-a596-2ab1c74b7e95",
   "metadata": {},
   "outputs": [
    {
     "name": "stdout",
     "output_type": "stream",
     "text": [
      "2\n"
     ]
    }
   ],
>>>>>>> f8bb515b82b1cdde9a44ee8aafe86a5090be125a
   "source": [
    "def test(a, b=False):\n",
    "    if b:\n",
    "        return a\n",
    "    else:\n",
    "        return a * a\n",
    "\n",
    "\n",
    "print(test(a=2, b=True))"
   ]
  },
  {
   "cell_type": "code",
<<<<<<< HEAD
   "execution_count": null,
=======
   "execution_count": 17,
>>>>>>> f8bb515b82b1cdde9a44ee8aafe86a5090be125a
   "id": "3ed5c74b-678a-4fba-b455-a0e2ac8a29e9",
   "metadata": {
    "tags": []
   },
<<<<<<< HEAD
   "outputs": [],
=======
   "outputs": [
    {
     "name": "stdout",
     "output_type": "stream",
     "text": [
      "10\n"
     ]
    }
   ],
>>>>>>> f8bb515b82b1cdde9a44ee8aafe86a5090be125a
   "source": [
    "def my_max(a):\n",
    "    if not a:\n",
    "        return None\n",
    "    max_value = a[0]\n",
    "    for item in a:\n",
    "        if item > max_value:\n",
    "            max_value = item\n",
    "    return max_value\n",
    "\n",
    "a = [1, 4, 5, 2,3,8,10]\n",
    "\n",
    "print(my_max(a))\n"
   ]
  },
  {
   "cell_type": "code",
<<<<<<< HEAD
   "execution_count": null,
=======
   "execution_count": 18,
>>>>>>> f8bb515b82b1cdde9a44ee8aafe86a5090be125a
   "id": "8e6e5f8b-fce5-410e-b5e9-6c45ea1f2533",
   "metadata": {
    "tags": []
   },
<<<<<<< HEAD
   "outputs": [],
=======
   "outputs": [
    {
     "name": "stdout",
     "output_type": "stream",
     "text": [
      "6\n"
     ]
    }
   ],
>>>>>>> f8bb515b82b1cdde9a44ee8aafe86a5090be125a
   "source": [
    "def test(n):\n",
    "    if n == 1:\n",
    "        return n\n",
    "    return n * test(n-1)\n",
    "\n",
    "\n",
    "print(test(3))"
   ]
  },
  {
   "cell_type": "markdown",
   "id": "c8d00861-bd2e-4898-9853-c7983a28a8d0",
   "metadata": {},
   "source": [
    "#### Dont try this"
   ]
  },
  {
   "cell_type": "code",
   "execution_count": null,
   "id": "84c0e864-4f22-47ad-961d-9d92b2585a2e",
   "metadata": {
    "tags": []
   },
   "outputs": [],
   "source": [
    "a = 10\n",
    "\n",
    "while a > 0:\n",
    "    print(a)\n",
    "\n",
    "print('Tewas')\n"
   ]
  },
  {
   "cell_type": "markdown",
   "id": "66171903-df3b-4f90-8cc5-3dce2b02c0f8",
   "metadata": {
    "tags": []
   },
   "source": [
    "#### 3. Break and Continue"
   ]
  },
  {
   "cell_type": "code",
<<<<<<< HEAD
   "execution_count": null,
=======
   "execution_count": 24,
>>>>>>> f8bb515b82b1cdde9a44ee8aafe86a5090be125a
   "id": "da5ad9ac-024f-468a-9684-70a249823abe",
   "metadata": {
    "tags": []
   },
<<<<<<< HEAD
   "outputs": [],
=======
   "outputs": [
    {
     "name": "stdout",
     "output_type": "stream",
     "text": [
      "0\n",
      "1\n",
      "1\n",
      "3\n",
      "5\n",
      "7\n",
      "9\n"
     ]
    }
   ],
>>>>>>> f8bb515b82b1cdde9a44ee8aafe86a5090be125a
   "source": [
    "# break\n",
    "\n",
    "\n",
    "for i in range(10):\n",
    "    print(i)\n",
    "    if i % 2 != 0:\n",
    "        break\n",
    "\n",
    "\n",
    "# continue\n",
    "\n",
    "for i in range(10):\n",
    "    if i % 2 == 0:\n",
    "        continue\n",
    "    print(i)"
   ]
  },
  {
   "cell_type": "markdown",
   "id": "6b877f00-7243-4e8f-aa4a-3f584b4460f1",
   "metadata": {},
   "source": [
    "#### 4. Checking Conditions"
   ]
  },
  {
   "cell_type": "code",
<<<<<<< HEAD
   "execution_count": null,
=======
   "execution_count": 14,
>>>>>>> f8bb515b82b1cdde9a44ee8aafe86a5090be125a
   "id": "5f9d5e71-65c4-4f50-93b2-cb3c2fc99e78",
   "metadata": {
    "tags": []
   },
<<<<<<< HEAD
   "outputs": [],
   "source": [
    "age = 12\n",
    "if age >= 18:\n",
    "    print(\"You are good enough to vote!\")\n",
    "else:\n",
    "    print(\"Go home kid!\")"
   ]
  },
  {
   "cell_type": "code",
   "execution_count": 19,
   "id": "d649e1b0-7144-4cea-8835-1c12db5f0123",
   "metadata": {
    "tags": []
   },
=======
>>>>>>> f8bb515b82b1cdde9a44ee8aafe86a5090be125a
   "outputs": [
    {
     "name": "stdout",
     "output_type": "stream",
     "text": [
<<<<<<< HEAD
      "if statement execution\n"
=======
      "Go home kid!\n"
>>>>>>> f8bb515b82b1cdde9a44ee8aafe86a5090be125a
     ]
    }
   ],
   "source": [
<<<<<<< HEAD
    "number = 4\n",
    " \n",
    "if number < 5:\n",
    "    print('if statement execution')\n",
    "elif number > 5:\n",
    "    print('elif statement execution')\n"
=======
    "age = 12\n",
    "if age >= 18:\n",
    "    print(\"You are good enough to vote!\")\n",
    "else:\n",
    "    print(\"Go home kid!\")"
>>>>>>> f8bb515b82b1cdde9a44ee8aafe86a5090be125a
   ]
  },
  {
   "cell_type": "markdown",
   "id": "c226154d-728b-40a5-9c84-d3a22e100b47",
   "metadata": {},
   "source": [
    "#### 5. Checking a Multiple Conditions"
   ]
  },
  {
   "cell_type": "code",
<<<<<<< HEAD
   "execution_count": null,
=======
   "execution_count": 15,
>>>>>>> f8bb515b82b1cdde9a44ee8aafe86a5090be125a
   "id": "1f1082aa-c089-434d-8614-4ac1d4403c26",
   "metadata": {
    "tags": []
   },
<<<<<<< HEAD
   "outputs": [],
=======
   "outputs": [
    {
     "name": "stdout",
     "output_type": "stream",
     "text": [
      "Your admission cost is $25.\n"
     ]
    }
   ],
>>>>>>> f8bb515b82b1cdde9a44ee8aafe86a5090be125a
   "source": [
    "age = 12\n",
    "if age < 4:\n",
    "    print(\"Your admission cost is $0.\")\n",
    "elif age < 18:\n",
    "    print(\"Your admission cost is $25.\")\n",
    "else:\n",
    "    print(\"Your admission cost is $40.\")"
   ]
  },
  {
   "cell_type": "code",
<<<<<<< HEAD
   "execution_count": 18,
   "id": "e91750d7-0666-4d23-97dd-b922298c87d5",
   "metadata": {
    "tags": []
   },
   "outputs": [
    {
     "name": "stdout",
     "output_type": "stream",
     "text": [
      "Yay!\n"
     ]
    }
   ],
   "source": [
    "language = \"Python\"\n",
    "\n",
    "if language == \"Python\":\n",
    "    print(\"Yay!\")\n",
    "elif language == \"English\":\n",
    "    print(\"Not a programming language.\")\n",
    "else:\n",
    "    print(\"Get yourself a programming language!\")"
   ]
  },
  {
   "cell_type": "markdown",
   "id": "8feef9a1-02ca-499a-8f96-e1f5b2ac246b",
   "metadata": {
    "tags": []
   },
   "source": [
    "## Exercises\n",
    "\n",
    "Q1. **Replace `---` below with something that will print 'True'**\n",
    "\n",
    "```python\n",
    "math = ---\n",
    "\n",
    "if math:\n",
    "    print('True')\n",
    "```\n",
    "\n",
    "Q2. **Replace `---` below with something that will print 'False'.**\n",
    "\n",
    "```python\n",
    "my_value = ---\n",
    "\n",
    "if my_value:\n",
    "    print('True')\n",
    "else: \n",
    "    print('False')\n",
    "```\n",
    "\n",
    "Q3. **What will the following code snippet print out?**\n",
    "\n",
    "```python\n",
    "if False:\n",
    "    print(\"John\")\n",
    "elif True:\n",
    "    print(\"Paul\")\n",
    "elif True:\n",
    "    print(\"George\")\n",
    "else:\n",
    "    print(\"Ringo\")\n",
    "```\n",
    "\n",
    "A) John  \n",
    "B) Paul, George, Ringo  \n",
    "C) Paul  \n",
    "D) Paul, George  \n",
    "E) Ringo \n",
    "\n",
    "Q4. **What will the following code snippet print out?**\n",
    "\n",
    "```python\n",
    "if 1 + 1 == 2:\n",
    "    print(\"I did Math\")\n",
    "elif 1/0:\n",
    "    print(\"I broke Math\")\n",
    "else:\n",
    "    print(\"I didn't do math\")\n",
    "```\n",
    "\n",
    "A) I did Math   \n",
    "B) I broke Math  \n",
    "C) I didn't do math  \n",
    "D) This code won't execute. \n",
    "\n",
    "Q5. **What will the following code snippet print out?**\n",
    "\n",
    "```python\n",
    "conditional = False\n",
    "python = \"great\"\n",
    "\n",
    "if conditional:\n",
    "    if python == \"great\":\n",
    "        print(\"Yay Python!\")\n",
    "    else:\n",
    "        print(\"Oh no.\")\n",
    "else:\n",
    "    print(\"I'm here.\")\n",
    "```\n",
    "\n",
    "A) Yay Python!  \n",
    "B) Oh no.  \n",
    "C) I'm here.  \n",
    "D) This code won't execute.  \n",
    "\n",
    "Q6. **What would be the output of running the following code?**\n",
    "\n",
    "```python\n",
    "condition = 5 < 7\n",
    "\n",
    "if condition: \n",
    "    print('SO GOOD!')\n",
    "else:\n",
    "    print('NOT SO GOOD.')\n",
    "```\n",
    "\n",
    "A) SO GOOD!  \n",
    "B) NOT SO GOOD.  \n",
    "C) True  \n",
    "D) False  \n",
    "E) SyntaxError  "
   ]
=======
   "execution_count": null,
   "id": "2c4c2110-569b-49ba-9b24-caf2064eade8",
   "metadata": {},
   "outputs": [],
   "source": []
>>>>>>> f8bb515b82b1cdde9a44ee8aafe86a5090be125a
  }
 ],
 "metadata": {
  "kernelspec": {
   "display_name": "Python 3 (ipykernel)",
   "language": "python",
   "name": "python3"
  },
  "language_info": {
   "codemirror_mode": {
    "name": "ipython",
    "version": 3
   },
   "file_extension": ".py",
   "mimetype": "text/x-python",
   "name": "python",
   "nbconvert_exporter": "python",
   "pygments_lexer": "ipython3",
   "version": "3.11.4"
  },
  "toc-showtags": false
 },
 "nbformat": 4,
 "nbformat_minor": 5
}
