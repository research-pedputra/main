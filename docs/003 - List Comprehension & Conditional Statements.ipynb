{
 "cells": [
  {
   "cell_type": "markdown",
   "id": "34fe5903",
   "metadata": {},
   "source": [
    "## List Comprehension"
   ]
  },
  {
   "cell_type": "markdown",
   "id": "59b29b06-48dc-4daf-b5e8-7621494f8ae1",
   "metadata": {},
   "source": [
    "In Python, list comprehensions provide a concise way to create lists based on existing sequences (lists, tuples, or other iterable objects) or perform operations on elements. List comprehensions are often used for filtering and transforming data. The basic syntax of a list comprehension is as follows:"
   ]
  },
  {
   "cell_type": "markdown",
   "id": "3cabe11b-03c2-4d5a-82d4-3342c7292209",
   "metadata": {},
   "source": [
    "Syntax"
   ]
  },
  {
   "cell_type": "code",
   "execution_count": null,
   "id": "a993f3a4-b132-42ac-a4c0-be09792eefbb",
   "metadata": {
    "tags": []
   },
   "outputs": [],
   "source": [
    "new_list = [expression for element in list]"
   ]
  },
  {
   "cell_type": "code",
   "execution_count": null,
   "id": "9d99160d-56c9-435e-b975-d9958c25a16b",
   "metadata": {
    "tags": []
   },
   "outputs": [],
   "source": []
  },
  {
   "cell_type": "markdown",
   "id": "0edb2e67-813a-4951-9c94-ddefd7268479",
   "metadata": {},
   "source": [
    "#### 1. Creating a squared list number"
   ]
  },
  {
   "cell_type": "code",
   "execution_count": null,
   "id": "c7086dc5-1b49-4993-9319-f3cfa63272f6",
   "metadata": {
    "tags": []
   },
   "outputs": [],
   "source": [
    "squared_numbers = [x**2 for x in range(1, 6)]\n",
    "# Result: [1, 4, 9, 16, 25]\n",
    "print(squared_numbers)"
   ]
  },
  {
   "cell_type": "code",
   "execution_count": null,
   "id": "331b5fda-83e6-4c41-995e-896bdccb52dc",
   "metadata": {
    "tags": []
   },
   "outputs": [],
   "source": [
    "for i in range(6):\n",
    "    print(i**2)"
   ]
  },
  {
   "cell_type": "markdown",
   "id": "629cc1f3-7b64-42b8-b309-4ac9c7af8907",
   "metadata": {},
   "source": [
    "#### 2. Working with different element"
   ]
  },
  {
   "cell_type": "code",
   "execution_count": null,
   "id": "991dee7c-7b0a-4bfe-9027-71641d11c85f",
   "metadata": {
    "tags": []
   },
   "outputs": [],
   "source": [
    "data = [(\"aku\",1), (\"dia\", 2), (\"kamu\",3)]\n",
    "## (i,j)\n",
    "\n",
    "new_data = [j**2 for (i,j) in data]\n",
    "print(new_data)\n",
    "string = [i for (i,j) in data]\n",
    "print(string)"
   ]
  },
  {
   "cell_type": "markdown",
   "id": "554fc364-98b0-4db9-b429-5e89490ce076",
   "metadata": {},
   "source": [
    "#### 3. Creating a list of Odd and even numbers"
   ]
  },
  {
   "cell_type": "code",
   "execution_count": null,
   "id": "3c306e78-0e76-43e2-9d48-910ce9217491",
   "metadata": {
    "tags": []
   },
   "outputs": [],
   "source": [
    "odd = [2*i+1 for i in range(10)]\n",
    "print(odd)"
   ]
  },
  {
   "cell_type": "code",
   "execution_count": null,
   "id": "b11264e9-7efe-47d1-8ab6-5139feeaf23b",
   "metadata": {
    "tags": []
   },
   "outputs": [],
   "source": []
  },
  {
   "cell_type": "code",
   "execution_count": null,
   "id": "c5ea945d-59ba-4cf1-90b5-26c495224744",
   "metadata": {},
   "outputs": [],
   "source": [
    "for item in range(1, 20):\n",
    "    print(item)"
   ]
  },
  {
   "cell_type": "markdown",
   "id": "2c420c17-6966-445d-ac15-5861b2d99e80",
   "metadata": {},
   "source": [
    "#### 4. Slicing list data and Modifying"
   ]
  },
  {
   "cell_type": "code",
   "execution_count": null,
   "id": "17126fa5-6c02-4481-a98c-bd704cf63970",
   "metadata": {},
   "outputs": [],
   "source": [
    "players = ['charles', 'martina', 'michael', 'florence', 'eli']"
   ]
  },
  {
   "cell_type": "code",
   "execution_count": null,
   "id": "3a7288ad-8112-451f-8e69-ec84898f9827",
   "metadata": {
    "tags": []
   },
   "outputs": [],
   "source": [
    "type(players)"
   ]
  },
  {
   "cell_type": "code",
   "execution_count": null,
   "id": "908f7e1a-a235-4a09-bc96-624777a4cea1",
   "metadata": {
    "tags": []
   },
   "outputs": [],
   "source": [
    "len(players)"
   ]
  },
  {
   "cell_type": "code",
   "execution_count": null,
   "id": "c5dfe89b-bf55-4c88-a309-aee5206f86a5",
   "metadata": {
    "tags": []
   },
   "outputs": [],
   "source": [
    "#slicing must refers to the index position, srart with 0 to target positions\n",
    "\n",
    "players[0:1]"
   ]
  },
  {
   "cell_type": "code",
   "execution_count": null,
   "id": "12298cb0-ec70-427f-8ac5-be23bc52bcee",
   "metadata": {
    "tags": []
   },
   "outputs": [],
   "source": [
    "full_name = []\n",
    "for i in players:\n",
    "    full_name.append(i+\" Jonas\")\n",
    "print(full_name)"
   ]
  },
  {
   "cell_type": "code",
   "execution_count": null,
   "id": "d4603c36-00dd-42cd-a15b-651133cbc254",
   "metadata": {
    "tags": []
   },
   "outputs": [],
   "source": [
    "students = []\n",
    "for i in players:\n",
    "    students = i + \" is Alpha Prima Students\"\n",
    "    print(students)"
   ]
  },
  {
   "cell_type": "code",
   "execution_count": null,
   "id": "4ffe0ed4-97d9-4eb1-91f3-d5e8182aa2b2",
   "metadata": {
    "tags": []
   },
   "outputs": [],
   "source": [
    "mahasiswa = []\n",
    "\n",
    "for i in players:\n",
    "    mahasiswa = i + \" sedang kuliah\"\n",
    "    print(mahasiswa)"
   ]
  },
  {
   "cell_type": "markdown",
   "id": "6f2a134e-6242-4fe6-bcc6-b6d3cc9dd57b",
   "metadata": {},
   "source": [
    "#### 5. Looping through a Slice"
   ]
  },
  {
   "cell_type": "code",
   "execution_count": null,
   "id": "16411966-01b6-4cbc-9ad7-a3db1676fbcc",
   "metadata": {},
   "outputs": [],
   "source": [
    "players = ['charles', 'martina', 'michael', 'florence', 'eli']\n",
    "print(\"Here are the first three players on my team:\")\n",
    "for player in players[:3]:\n",
    "    print(player.title())"
   ]
  },
  {
   "cell_type": "markdown",
   "id": "961e1b0b-8a4d-4a15-9b92-e8ea38be6052",
   "metadata": {},
   "source": [
    "#### 6. Working with nested list comprehensions"
   ]
  },
  {
   "cell_type": "code",
   "execution_count": null,
   "id": "e8457bac-91fe-4c36-92b1-c3299a1430af",
   "metadata": {
    "tags": []
   },
   "outputs": [],
   "source": [
    "data = [1,2,3,4,5,6,7,8,9,10]\n",
    "\n",
    "new_data = [i**2 for i in [i+1 for i in data]]\n",
    "print(new_data)"
   ]
  },
  {
   "cell_type": "code",
   "execution_count": null,
   "id": "5e51f7ea-bdf8-4c97-bcc5-d0a0851c110e",
   "metadata": {},
   "outputs": [],
   "source": [
    "data2 = [i**2 for i in [i*2 for i in data]]\n",
    "print(data2)"
   ]
  },
  {
   "cell_type": "markdown",
   "id": "ee5ce594-7e1e-4c87-a9b2-be76cb800da4",
   "metadata": {},
   "source": [
    "## Conditional Statement (If, Else, Elif, while)"
   ]
  },
  {
   "cell_type": "markdown",
   "id": "a9555669-5474-4e87-a6fb-732d540e53da",
   "metadata": {},
   "source": [
    "In Python, we can use __if__, __else__, and __elif__ (short for \"else if\") statements to perform conditional branching. These statements are used to execute different blocks of code depending on whether certain conditions are met. You can use if, elif, and else statements in various contexts, including within functions, loops, and more."
   ]
  },
  {
   "cell_type": "markdown",
   "id": "c286350b-19b7-49a6-8a80-2edd81500feb",
   "metadata": {},
   "source": [
    "Syntax"
   ]
  },
  {
   "cell_type": "code",
   "execution_count": null,
   "id": "4ad9c370-e275-49ce-a943-4eeb63de66f5",
   "metadata": {},
   "outputs": [],
   "source": [
    "if condition1:\n",
    "    # Code to execute if condition1 is True\n",
    "elif condition2:\n",
    "    # Code to execute if condition2 is True\n",
    "else:\n",
    "    # Code to execute if none of the conditions are True"
   ]
  },
  {
   "cell_type": "markdown",
   "id": "9a2e83d9-0ada-4560-9a3d-5a4e8b1f760b",
   "metadata": {},
   "source": [
    "#### 1. Working with True and False Statements"
   ]
  },
  {
   "cell_type": "code",
   "execution_count": 5,
   "id": "8f4d1ee4-fc4e-4e72-a9fb-af91ae11e2c2",
   "metadata": {
    "tags": []
   },
   "outputs": [
    {
     "name": "stdout",
     "output_type": "stream",
     "text": [
      "This code is true\n"
     ]
    }
   ],
   "source": [
    "condition = True\n",
    "\n",
    "if condition:\n",
    "    print(\"This code is true\")"
   ]
  },
  {
   "cell_type": "code",
   "execution_count": 7,
   "id": "308262da-5dc5-4a10-9739-73171f1f0ef1",
   "metadata": {
    "tags": []
   },
   "outputs": [],
   "source": [
    "condition = False\n",
    "data1 = [1,2,3]\n",
    "data2 = [4,5,6]\n",
    "if condition:\n",
    "    print(data2)"
   ]
  },
  {
   "cell_type": "markdown",
   "id": "7392dc35-5012-4fef-9fce-6f5284ffd66c",
   "metadata": {},
   "source": [
    "#### 2. Working with if - else"
   ]
  },
  {
   "cell_type": "code",
   "execution_count": 8,
   "id": "a4086b0a-f435-40e3-a5fb-ea0747733a30",
   "metadata": {
    "tags": []
   },
   "outputs": [
    {
     "name": "stdout",
     "output_type": "stream",
     "text": [
      "[4, 5, 6]\n"
     ]
    }
   ],
   "source": [
    "if condition:\n",
    "    print(data1)\n",
    "else:\n",
    "    print(data2)"
   ]
  },
  {
   "cell_type": "markdown",
   "id": "eb99451a-c9e0-429d-955f-b8622a423643",
   "metadata": {},
   "source": [
    "#### 3. Iteration with conditional statements"
   ]
  },
  {
   "cell_type": "code",
   "execution_count": null,
   "id": "7315bbb5-c8b6-4517-9bfd-0392d2071c07",
   "metadata": {},
   "outputs": [],
   "source": [
    "import numpy as np\n",
    "\n",
    "# Create a sample NumPy array\n",
    "arr = np.array([1, 2, 3, 4, 5])\n",
    "\n",
    "# Iterate through the elements and print if greater than 1\n",
    "for i in arr:\n",
    "    if i > 2:\n",
    "        print(i)"
   ]
  },
  {
   "cell_type": "code",
   "execution_count": 1,
   "id": "f49ef2f2-1ddb-42ef-83c9-5b58f11bace3",
   "metadata": {
    "tags": []
   },
   "outputs": [
    {
     "name": "stdout",
     "output_type": "stream",
     "text": [
      "The string 'dara' appears 3 times in the list.\n"
     ]
    }
   ],
   "source": [
    "data = [\"dara\", \"putri\", \"jessica\", \"dara\", \"dara\", \"putri\"]\n",
    "\n",
    "count_dara = 0  # Initialize a count variable\n",
    "\n",
    "for i in data:\n",
    "    if i == \"dara\":\n",
    "        count_dara += 1  # Increment the count variable for each occurrence\n",
    "\n",
    "print(f\"The string 'dara' appears {count_dara} times in the list.\")\n"
   ]
  },
  {
   "cell_type": "code",
   "execution_count": 4,
   "id": "0810608a-6596-4a40-b061-65ed221c94c4",
   "metadata": {
    "tags": []
   },
   "outputs": [
    {
     "name": "stdout",
     "output_type": "stream",
     "text": [
      "The string 'dara' appears 3 times in the list.\n"
     ]
    }
   ],
   "source": [
    "count = data.count(\"dara\")\n",
    "print(f\"The string 'dara' appears {count} times in the list.\")"
   ]
  },
  {
   "cell_type": "markdown",
   "id": "ebe493ea-44f5-47a5-869b-8e22cbb97c1f",
   "metadata": {},
   "source": [
    "#### 4. Filtering using conditional statements"
   ]
  },
  {
   "cell_type": "code",
   "execution_count": 5,
   "id": "b58a083c-7530-4705-9b21-44e050cc7052",
   "metadata": {
    "tags": []
   },
   "outputs": [
    {
     "name": "stdout",
     "output_type": "stream",
     "text": [
      "x is equal to 10\n"
     ]
    }
   ],
   "source": [
    "x = 10\n",
    "\n",
    "if x > 10:\n",
    "    print(\"x is greater than 10\")\n",
    "elif x < 10:\n",
    "    print(\"x is less than 10\")\n",
    "else:\n",
    "    print(\"x is equal to 10\")\n"
   ]
  },
  {
   "cell_type": "code",
   "execution_count": 9,
   "id": "d9e10a38-650e-4c0c-9fb5-77654390e7dc",
   "metadata": {
    "tags": []
   },
   "outputs": [
    {
     "name": "stdout",
     "output_type": "stream",
     "text": [
      "Yes 1 is an odd numbers\n",
      "Yes 3 is an odd numbers\n",
      "Yes 5 is an odd numbers\n"
     ]
    }
   ],
   "source": [
    "x = [1, 2, 3, 4, 5, 6]\n",
    "for i in x:\n",
    "    if i % 2 != 0:\n",
    "        print(f\"Yes {i} is an odd numbers\")\n"
   ]
  },
  {
   "cell_type": "code",
   "execution_count": null,
   "id": "5aa006fc-57f4-4179-8966-3adf1e03bafa",
   "metadata": {
    "tags": []
   },
   "outputs": [],
   "source": [
    "data = [2,4,6]\n",
    "\n",
    "for i in data:\n",
    "    if i % 2 !=0:\n",
    "        print(f\"{i} is odd numbers\")\n",
    "    else:\n",
    "        print(f\"{i} is even numbers\")"
   ]
  },
  {
   "cell_type": "code",
   "execution_count": null,
   "id": "831c40c3-b890-499e-9354-f7b4cc6ec032",
   "metadata": {
    "tags": []
   },
   "outputs": [],
   "source": [
    "import numpy as np\n",
    "\n",
    "# Create a sample NumPy array\n",
    "arr = np.array([1, 2, 3, 4, 5])\n",
    "\n",
    "# Create an empty list to store the filtered elements\n",
    "filtered = []\n",
    "\n",
    "# Iterate through the elements and add to the list if greater than 1\n",
    "for element in arr:\n",
    "    if element > 1:\n",
    "        filtered.append(element)\n",
    "\n",
    "# Convert the list to a NumPy array\n",
    "new_array = np.array(filtered)\n",
    "\n",
    "# Print the new array\n",
    "print(new_array)\n"
   ]
  },
  {
   "cell_type": "code",
   "execution_count": null,
   "id": "3b703b02-446a-4541-90c2-084d3e083514",
   "metadata": {
    "tags": []
   },
   "outputs": [],
   "source": [
    "this_value = 10\n",
    "if this_value == 9:\n",
    "    print('the value is 9')\n",
    "else:\n",
    "    print('the value is not 9')"
   ]
  },
  {
   "cell_type": "markdown",
   "id": "c8d00861-bd2e-4898-9853-c7983a28a8d0",
   "metadata": {},
   "source": [
    "#### Dont try this"
   ]
  },
  {
   "cell_type": "code",
   "execution_count": null,
   "id": "84c0e864-4f22-47ad-961d-9d92b2585a2e",
   "metadata": {
    "tags": []
   },
   "outputs": [],
   "source": [
    "a = 10\n",
    "\n",
    "while a > 0:\n",
    "    print(a)\n",
    "\n",
    "print('Tewas')\n"
   ]
  },
  {
   "cell_type": "markdown",
   "id": "66171903-df3b-4f90-8cc5-3dce2b02c0f8",
   "metadata": {
    "tags": []
   },
   "source": [
    "#### 3. Break and Continue"
   ]
  },
  {
   "cell_type": "code",
   "execution_count": null,
   "id": "da5ad9ac-024f-468a-9684-70a249823abe",
   "metadata": {
    "tags": []
   },
   "outputs": [],
   "source": [
    "# break\n",
    "\n",
    "\n",
    "for i in range(10):\n",
    "    print(i)\n",
    "    if i % 2 != 0:\n",
    "        break\n",
    "\n",
    "\n",
    "# continue\n",
    "\n",
    "for i in range(10):\n",
    "    if i % 2 == 0:\n",
    "        continue\n",
    "    print(i)"
   ]
  },
  {
   "cell_type": "markdown",
   "id": "6b877f00-7243-4e8f-aa4a-3f584b4460f1",
   "metadata": {},
   "source": [
    "#### 4. Checking Conditions"
   ]
  },
  {
   "cell_type": "code",
   "execution_count": null,
   "id": "5f9d5e71-65c4-4f50-93b2-cb3c2fc99e78",
   "metadata": {
    "tags": []
   },
   "outputs": [],
   "source": [
    "age = 12\n",
    "if age >= 18:\n",
    "    print(\"You are good enough to vote!\")\n",
    "else:\n",
    "    print(\"Go home kid!\")"
   ]
  },
  {
   "cell_type": "markdown",
   "id": "c226154d-728b-40a5-9c84-d3a22e100b47",
   "metadata": {},
   "source": [
    "#### 5. Checking a Multiple Conditions"
   ]
  },
  {
   "cell_type": "code",
   "execution_count": null,
   "id": "1f1082aa-c089-434d-8614-4ac1d4403c26",
   "metadata": {
    "tags": []
   },
   "outputs": [],
   "source": [
    "age = 12\n",
    "if age < 4:\n",
    "    print(\"Your admission cost is $0.\")\n",
    "elif age < 18:\n",
    "    print(\"Your admission cost is $25.\")\n",
    "else:\n",
    "    print(\"Your admission cost is $40.\")"
   ]
  },
  {
   "cell_type": "code",
   "execution_count": null,
   "id": "2c4c2110-569b-49ba-9b24-caf2064eade8",
   "metadata": {},
   "outputs": [],
   "source": [
    "condition = True\n",
    "\n",
    "if condition:\n",
    "    print('This code executes if the condition evaluates as True.')\n",
    "else: \n",
    "    print('This code executes if the condition evaluates as False')"
   ]
  },
  {
   "cell_type": "markdown",
   "id": "cc877301-f6b0-4def-a07e-9139b18afba4",
   "metadata": {},
   "source": [
    "#### Excercise"
   ]
  },
  {
   "cell_type": "markdown",
   "id": "b8a4a45d-1ae2-44fb-bae4-2f16906aa879",
   "metadata": {},
   "source": [
    "#### 1. Check the following code and fix it\n"
   ]
  },
  {
   "cell_type": "code",
   "execution_count": null,
   "id": "41c5c76d-acce-4bcb-909b-626806b329f7",
   "metadata": {
    "tags": []
   },
   "outputs": [],
   "source": [
    "condition = False\n",
    "data1 = [\"Ganjar\"]\n",
    "data2 = [\"Prabowo\"]\n",
    "if condition:\n",
    "    print(data1[0] + \" menang\")\n",
    "    print(data2[0] + \" kalah\")\n",
    "else:\n",
    "    print(data2[0] + \" menang\")\n",
    "    print(data1[0] + \" kalah\")"
   ]
  },
  {
   "cell_type": "markdown",
   "id": "d17ab05e-af21-4801-921f-ab3beb654709",
   "metadata": {},
   "source": [
    " <div>\n",
    "    Answer:\n",
    "    </div>\n",
    " <div>\n",
    "    Ganjar menang\n",
    "    </div>\n",
    "<div>\n",
    "    Prabowo kalah\n",
    "    </div>"
   ]
  },
  {
   "cell_type": "markdown",
   "id": "4e4c74c2-11db-4445-9e93-83d7e80920ef",
   "metadata": {},
   "source": [
    "#### 2. Fix the error"
   ]
  },
  {
   "cell_type": "code",
   "execution_count": 3,
   "id": "855d54a6-feb7-47a5-9085-d3650e8bdd33",
   "metadata": {
    "tags": []
   },
   "outputs": [
    {
     "ename": "SyntaxError",
     "evalue": "invalid syntax (48527642.py, line 4)",
     "output_type": "error",
     "traceback": [
      "\u001b[1;36m  Cell \u001b[1;32mIn[3], line 4\u001b[1;36m\u001b[0m\n\u001b[1;33m    if i for 2 == 0:\u001b[0m\n\u001b[1;37m         ^\u001b[0m\n\u001b[1;31mSyntaxError\u001b[0m\u001b[1;31m:\u001b[0m invalid syntax\n"
     ]
    }
   ],
   "source": [
    "data = [2,3,2,4,5,3,6,2,3,1,2,1,2]\n",
    "\n",
    "for i in data:\n",
    "    if i for 2 == 0:\n",
    "        print(f\"{i} is even\")\n",
    "    else:\n",
    "        print(f\"{i} is odd\")"
   ]
  },
  {
   "cell_type": "markdown",
   "id": "5456648e-6a5e-4edc-ba05-7cda62ebff2d",
   "metadata": {},
   "source": [
    "#### 3. Fix the error"
   ]
  },
  {
   "cell_type": "code",
   "execution_count": 12,
   "id": "3e6157a8-f939-410e-b4ef-72c83309224d",
   "metadata": {
    "tags": []
   },
   "outputs": [
    {
     "name": "stdout",
     "output_type": "stream",
     "text": [
      "Aku terluka\n"
     ]
    }
   ],
   "source": [
    "conditional = False\n",
    "dia = \"sayang\"\n",
    "\n",
    "if conditional:\n",
    "    if dia == \"sayang\":\n",
    "        print(\"Yay kita jadian!\")\n",
    "    else:\n",
    "        print(\"Oh no.\")\n",
    "else:\n",
    "    print(\"Aku terluka\")"
   ]
  },
  {
   "cell_type": "markdown",
   "id": "001efe00-c0e2-403e-baa4-23a501ead86c",
   "metadata": {},
   "source": [
    "Answer : Yay kita jadian!"
   ]
  },
  {
   "cell_type": "code",
   "execution_count": null,
   "id": "8244d792-82f3-4822-abe7-64099a4fc885",
   "metadata": {},
   "outputs": [],
   "source": []
  }
 ],
 "metadata": {
  "kernelspec": {
   "display_name": "Python 3 (ipykernel)",
   "language": "python",
   "name": "python3"
  },
  "language_info": {
   "codemirror_mode": {
    "name": "ipython",
    "version": 3
   },
   "file_extension": ".py",
   "mimetype": "text/x-python",
   "name": "python",
   "nbconvert_exporter": "python",
   "pygments_lexer": "ipython3",
   "version": "3.11.4"
  },
  "toc-showtags": false
 },
 "nbformat": 4,
 "nbformat_minor": 5
}
