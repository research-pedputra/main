{
 "cells": [
  {
   "cell_type": "markdown",
   "id": "329b5b91",
   "metadata": {},
   "source": [
    "# **When to use Object Oriented Programming (OOP)**"
   ]
  },
  {
   "cell_type": "markdown",
   "id": "7add6138-7de5-4d3f-b382-89538e41eb28",
   "metadata": {},
   "source": [
    "`Object-Oriented Programming (OOP)` is a programming paradigm or methodology that organizes and structures code using objects. An object is a self-contained unit that combines data (attributes or properties) and functions (methods) that operate on that data. OOP is based on several fundamental concepts:"
   ]
  },
  {
   "cell_type": "markdown",
   "id": "8a0c092e-48a2-493b-9131-649ef6bd7ec6",
   "metadata": {},
   "source": [
    "<div style=\"display: flex; justify-content: space-around; align-items: center;\">\n",
    "    <div style=\"flex: 0 0 80%;\">\n",
    "        <p></p>\n",
    "        <a href=\"\" target=\"blank\">\n",
    "            <img src=\"img/oops.png\" alt=\"\" width=\"800\">\n",
    "        </a>\n",
    "    </div>"
   ]
  },
  {
   "cell_type": "markdown",
   "id": "0f51f4fc-eca7-41bc-bc4b-528f60cf9543",
   "metadata": {},
   "source": [
    "## OOP is based on several fundamental concepts:\n",
    "\n",
    "1. **Class**: A class is a blueprint or template for creating objects. It defines the structure and behavior that its instances (objects) will have. A class specifies the attributes (data) and methods (functions) that its objects will possess.\n",
    "\n",
    "2. **Object**: An object is an instance of a class. It is a concrete instantiation of the class, with its own unique data values and the ability to perform actions specified by the class's methods.\n",
    "\n",
    "3. **Encapsulation**: Encapsulation is the concept of bundling data (attributes) and the methods (functions) that operate on that data into a single unit, i.e., the class. It helps in hiding the internal details of an object and exposing only what is necessary. Access to an object's data should typically be controlled through methods (getters and setters) to maintain data integrity.\n",
    "\n",
    "4. **Inheritance**: Inheritance is a mechanism by which one class can inherit attributes and methods from another class. The class that is inherited from is called the base class or parent class, and the class that inherits is called the derived class or child class. Inheritance promotes code reuse and the creation of a hierarchy of classes.\n",
    "\n",
    "5. **Polymorphism**: Polymorphism allows objects of different classes to be treated as objects of a common base class. It enables you to write code that can work with objects of multiple types in a generic way. Polymorphism is often achieved through method overriding and interfaces/abstract classes.\n",
    "\n",
    "6. **Abstraction**: Abstraction is the process of simplifying complex reality by modeling classes based on the essential properties and behaviors an object should have. It allows you to focus on what an object does rather than how it does it.\n",
    "\n",
    "\n",
    "OOP helps in organizing code in a more modular and structured way, making it easier to manage and maintain. It promotes code reusability, scalability, and the modeling of real-world entities and relationships.\n",
    "\n",
    "Common programming languages that support OOP include Python, Java, C++, C#, and Ruby, among others. Each of these languages provides its own syntax and features for implementing OOP concepts.\n"
   ]
  },
  {
   "cell_type": "markdown",
   "id": "f664e97c-97bc-4129-ad85-0dec3a8c3a86",
   "metadata": {},
   "source": [
    "### When to use OOP: Treating object as Object"
   ]
  },
  {
   "cell_type": "markdown",
   "id": "e0bb545f-d4f7-48d6-92d6-45a4b0e097b5",
   "metadata": {},
   "source": [
    "Consider we have two coordinate p1 and p2. To measure the distance and its perimeter, we simply define the functions as follows:"
   ]
  },
  {
   "cell_type": "code",
   "execution_count": null,
   "id": "00d009bf-02d2-4b53-8c3d-a2acb17a9b88",
   "metadata": {},
   "outputs": [],
   "source": [
    "import numpy as np\n",
    "\n",
    "def distance(p1, p2):\n",
    "    return np.sqrt((p1[0] - p2[0])**2 + (p1[1] - p2[1])**2)\n",
    "\n",
    "def perimeter(p1,p2):\n",
    "    return np.abs((p1[0]-p2[0])) + np.abs((p1[1]-p2[1])) + distance(p1,p2)"
   ]
  },
  {
   "cell_type": "code",
   "execution_count": null,
   "id": "26385d9f-cca4-4ca7-b0d8-a498c302ed79",
   "metadata": {},
   "outputs": [],
   "source": [
    "p1 = (3,0)\n",
    "p2 = (0,4)\n",
    "print(f\"The distance between p1 and p2 is \", distance(p1, p2), f\"cm\")\n",
    "print(f\"The perimeter is \", perimeter(p1,p2), f\"cm\")"
   ]
  },
  {
   "cell_type": "markdown",
   "id": "bc11617d-33b8-4f6d-946f-6bce9b3dd430",
   "metadata": {},
   "source": [
    "#### Let's rock the OOP's"
   ]
  },
  {
   "cell_type": "markdown",
   "id": "0a379c60-a65f-4ff9-a68e-63e6c65248e9",
   "metadata": {},
   "source": [
    "That line code program above looks simple, indeed, however, for any further coordinates, we neeed to repeat the function. OOP's allow us to manage the line code, becomes more organized, structured, with just a simple instruction input."
   ]
  },
  {
   "cell_type": "markdown",
   "id": "6545942d-d579-41cf-990e-390274673513",
   "metadata": {},
   "source": [
    "#### Example 1"
   ]
  },
  {
   "cell_type": "code",
   "execution_count": null,
   "id": "a80c781f-3b38-4291-9474-7334e3049d6f",
   "metadata": {},
   "outputs": [],
   "source": [
    "import numpy as np\n",
    "class Point:\n",
    "    def __init__(self, x, y):\n",
    "        self.x = x\n",
    "        self.y = y\n",
    "    def distance(self, p2):\n",
    "        return np.sqrt((self.x - p2.x) ** 2 + (self.y - p2.y) ** 2)\n",
    "\n",
    "class Polygon:\n",
    "    def __init__(self):\n",
    "        self.vertices = []\n",
    "    def add_point(self, point):\n",
    "        self.vertices.append(point)\n",
    "    def perimeter(self):\n",
    "        perimeter = 0\n",
    "        points = self.vertices + [self.vertices[0]]\n",
    "        for i in range(len(self.vertices)):\n",
    "            perimeter += points[i].distance(points[i + 1])\n",
    "        return perimeter\n",
    "\n",
    "p1 = Point(0, 0)\n",
    "p2 = Point(0, 4)\n",
    "p3 = Point(3, 0)\n",
    "distance = p2.distance(p3)\n",
    "print(distance)\n",
    "polygon = Polygon()\n",
    "polygon.add_point(p1)\n",
    "polygon.add_point(p2)\n",
    "polygon.add_point(p3)\n",
    "perimeter = polygon.perimeter()\n",
    "print(\"Perimeter:\", perimeter)"
   ]
  },
  {
   "cell_type": "markdown",
   "id": "4a06b831-28fa-4f34-87d1-775500e87265",
   "metadata": {
    "tags": []
   },
   "source": [
    "#### Example 2"
   ]
  },
  {
   "cell_type": "code",
   "execution_count": null,
   "id": "f133faeb",
   "metadata": {},
   "outputs": [],
   "source": [
    "class Triangle:\n",
    "    def __init__(self):\n",
    "        self.points = []\n",
    "\n",
    "    def add_point(self, point):\n",
    "        self.points.append(point)\n",
    "\n",
    "    def get_perimeter(self):\n",
    "        if len(self.points) == 3:\n",
    "            side1 = self.points[0]\n",
    "            side2 = self.points[1]\n",
    "            side3 = self.points[2]\n",
    "            return side1 + side2 + side3\n",
    "        else:\n",
    "            return None  # Return None if not all three points are added"
   ]
  },
  {
   "cell_type": "markdown",
   "id": "773178f0-e86f-47d3-8e1b-70b8d5dda889",
   "metadata": {},
   "source": [
    "#### Example 3"
   ]
  },
  {
   "cell_type": "code",
   "execution_count": null,
   "id": "b8c27f75-a590-4eda-9980-3920dd123aec",
   "metadata": {
    "tags": []
   },
   "outputs": [],
   "source": [
    "class Sale:\n",
    "    def __init__(self):\n",
    "        self.items = []\n",
    "\n",
    "    def add_item(self, price, quantity):\n",
    "        self.items.append((price, quantity))\n",
    "\n",
    "    def get_total_price(self):\n",
    "        total = 0\n",
    "        for price, quantity in self.items:\n",
    "            total += price * quantity\n",
    "        return total\n"
   ]
  },
  {
   "cell_type": "markdown",
   "id": "9c2af995-9a73-40dc-8233-b7ac96c8e13f",
   "metadata": {},
   "source": [
    "#### Example 4"
   ]
  },
  {
   "cell_type": "code",
   "execution_count": null,
   "id": "d28936e2-7383-4fd3-991e-d52940fefa95",
   "metadata": {
    "tags": []
   },
   "outputs": [],
   "source": [
    "class Employee:\n",
    "    \n",
    "    def __init__(self,first ,last, pay):\n",
    "        self.first = first\n",
    "        self.last  = last\n",
    "        self.email = first+\".\"+last+\"@alfaprima.com\"\n",
    "        self.pay   = pay\n",
    "         \n",
    "employ_1 = Employee(\"Wayan\",\"Koster\",900000)\n",
    "employ_2 = Employee(\"Mangku\",\"Pastika\",100000)\n",
    "print(f\"I {employ_1.first}\", f\"{employ_1.last}\")\n",
    "print(f\"email :\", employ_1.email)\n",
    "print(f\"Payment: \", f\"IDR\", employ_1.pay )"
   ]
  },
  {
   "cell_type": "markdown",
   "id": "da9230de-301c-4c1a-aec8-52022a6298c1",
   "metadata": {},
   "source": [
    "#### Example 5"
   ]
  },
  {
   "cell_type": "code",
   "execution_count": null,
   "id": "73aa2d5b-5572-4496-a0e7-c709dd7775a3",
   "metadata": {
    "tags": []
   },
   "outputs": [],
   "source": [
    "class Parrot:\n",
    "\n",
    "    # class attribute\n",
    "    species = \"bird\"\n",
    "\n",
    "    # instance attribute\n",
    "    def __init__(self, name, age):\n",
    "        self.name = name\n",
    "        self.age = age\n",
    "\n",
    "\n",
    "blu = Parrot(\"Blu\", 10)\n",
    "woo = Parrot(\"Woo\", 15)\n",
    "\n",
    "print(\"Blu is a {}\".format(blu.species))\n",
    "print(\"Woo is also a {}\".format(woo.species))\n",
    "\n",
    "# access the instance attributes\n",
    "print(\"{} is {} years old\".format( blu.name, blu.age))\n",
    "print(\"{} is {} years old\".format( woo.name, woo.age))"
   ]
  },
  {
   "cell_type": "markdown",
   "id": "59b6b7ad-2c4f-412f-b2d7-b264fbb40017",
   "metadata": {},
   "source": [
    "### Modeling Real-World Entities"
   ]
  },
  {
   "cell_type": "markdown",
   "id": "ebb2701b-0561-4083-9081-56ad0c8a0f6a",
   "metadata": {},
   "source": [
    "<div>\n",
    "OOP is particularly useful when your code needs to model real-world entities, such as people, objects, or processes. We can represent these entities as objects, with attributes and behaviors that closely mirror their real-world counterparts.\n",
    "</div>"
   ]
  },
  {
   "cell_type": "code",
   "execution_count": 1,
   "id": "e4f40b61-a4ff-4976-bd81-cded99cfa5fc",
   "metadata": {
    "tags": []
   },
   "outputs": [
    {
     "name": "stdout",
     "output_type": "stream",
     "text": [
      "Hi, I'm Alice, 30 years old, and I live at 123 Main St.\n",
      "Hi, I'm Bob, 25 years old, and I live at 456 Elm St.\n"
     ]
    }
   ],
   "source": [
    "class Person:\n",
    "    def __init__(self, name, age, address):\n",
    "        self.name = name\n",
    "        self.age = age\n",
    "        self.address = address\n",
    "\n",
    "    def introduce(self):\n",
    "        return f\"Hi, I'm {self.name}, {self.age} years old, and I live at {self.address}.\"\n",
    "\n",
    "# Create instances of the Person class\n",
    "person1 = Person(\"Alice\", 30, \"123 Main St\")\n",
    "person2 = Person(\"Bob\", 25, \"456 Elm St\")\n",
    "\n",
    "# Call the introduce method\n",
    "print(person1.introduce())  # Output: \"Hi, I'm Alice, 30 years old, and I live at 123 Main St.\"\n",
    "print(person2.introduce())  # Output: \"Hi, I'm Bob, 25 years old, and I live at 456 Elm St.\"\n"
   ]
  },
  {
   "cell_type": "markdown",
   "id": "485675f4-ee7c-407d-a8b7-2690ad620dc7",
   "metadata": {},
   "source": [
    "### Code Reusability"
   ]
  },
  {
   "cell_type": "markdown",
   "id": "64fd4109-b1d6-4f3b-8dec-43d68ad7c978",
   "metadata": {},
   "source": [
    "OOP promotes code reusability through inheritance and composition. We can create a base class with common attributes and methods and then create subclasses that inherit from it. This makes it easier to extend and adapt existing code for new purposes."
   ]
  },
  {
   "cell_type": "code",
   "execution_count": 2,
   "id": "85cef372-4bd8-4a4d-838d-ac3306adae87",
   "metadata": {
    "tags": []
   },
   "outputs": [
    {
     "name": "stdout",
     "output_type": "stream",
     "text": [
      "Area of Rectangle: 24\n",
      "Area of Circle: 28.27\n"
     ]
    }
   ],
   "source": [
    "class Shape:\n",
    "    def __init__(self, name):\n",
    "        self.name = name\n",
    "    def area(self):\n",
    "        pass\n",
    "\n",
    "class Rectangle(Shape):\n",
    "    def __init__(self, name, width, height):\n",
    "        super().__init__(name)\n",
    "        self.width = width\n",
    "        self.height = height\n",
    "    def area(self):\n",
    "        return self.width * self.height\n",
    "\n",
    "class Circle(Shape):\n",
    "    def __init__(self, name, radius):\n",
    "        super().__init__(name)\n",
    "        self.radius = radius\n",
    "    def area(self):\n",
    "        return 3.14159265359 * self.radius ** 2\n",
    "\n",
    "rectangle = Rectangle(\"Rectangle\", 4, 6)\n",
    "circle = Circle(\"Circle\", 3)\n",
    "\n",
    "print(f\"Area of {rectangle.name}: {rectangle.area()}\") \n",
    "print(f\"Area of {circle.name}: {circle.area():.2f}\") "
   ]
  },
  {
   "cell_type": "markdown",
   "id": "525b5877-01d3-493f-9c2a-86fa08712d86",
   "metadata": {},
   "source": [
    "### Graphical User Interfaces (GUIs)"
   ]
  },
  {
   "cell_type": "markdown",
   "id": "9e987548-8902-4a6c-835f-0c8e2f7b4e2c",
   "metadata": {},
   "source": [
    "OOP is well-suited for building graphical user interfaces, where user interface elements like buttons, windows, and menus can be modeled as objects with associated behaviors."
   ]
  },
  {
   "cell_type": "code",
   "execution_count": 3,
   "id": "4079cc92-ac5d-4def-b81d-114a39d94eb5",
   "metadata": {
    "tags": []
   },
   "outputs": [],
   "source": [
    "import tkinter as tk\n",
    "\n",
    "class SimpleGUI:\n",
    "    def __init__(self, root):\n",
    "        self.root = root\n",
    "        self.root.title(\"Simple GUI\")\n",
    "\n",
    "        self.label = tk.Label(root, text=\"Hello, GUI!\")\n",
    "        self.label.pack()\n",
    "\n",
    "        self.button = tk.Button(root, text=\"Click Me\", command=self.on_button_click)\n",
    "        self.button.pack()\n",
    "\n",
    "    def on_button_click(self):\n",
    "        self.label.config(text=\"Button clicked!\")\n",
    "\n",
    "if __name__ == \"__main__\":\n",
    "    root = tk.Tk()\n",
    "    app = SimpleGUI(root)\n",
    "    root.mainloop()\n"
   ]
  },
  {
   "cell_type": "markdown",
   "id": "30101685-ec5f-49d4-9f50-9db29db89341",
   "metadata": {},
   "source": [
    "### Dealing with Complex System"
   ]
  },
  {
   "cell_type": "markdown",
   "id": "351353ba-4bb9-4f7c-88eb-4c662bf96de1",
   "metadata": {},
   "source": [
    "When you are dealing with complex systems, OOP can help break down the complexity into manageable and modular components. Each object can be responsible for a specific part of the system, making it easier to understand and maintain."
   ]
  },
  {
   "cell_type": "code",
   "execution_count": 4,
   "id": "0990d006-3dc8-4aa0-a670-bdb410fa53fc",
   "metadata": {
    "tags": []
   },
   "outputs": [
    {
     "name": "stdout",
     "output_type": "stream",
     "text": [
      "Alice's balance: 1500\n",
      "Bob's balance: 300\n"
     ]
    }
   ],
   "source": [
    "class Customer:\n",
    "    def __init__(self, name, account):\n",
    "        self.name = name\n",
    "        self.account = account\n",
    "\n",
    "    def get_balance(self):\n",
    "        return self.account.balance\n",
    "\n",
    "    def deposit(self, amount):\n",
    "        self.account.balance += amount\n",
    "\n",
    "    def withdraw(self, amount):\n",
    "        if amount <= self.account.balance:\n",
    "            self.account.balance -= amount\n",
    "        else:\n",
    "            print(\"Insufficient funds.\")\n",
    "\n",
    "class BankAccount:\n",
    "    def __init__(self, balance=0):\n",
    "        self.balance = balance\n",
    "\n",
    "# Create customer objects and bank accounts\n",
    "customer1 = Customer(\"Alice\", BankAccount(1000))\n",
    "customer2 = Customer(\"Bob\", BankAccount(500))\n",
    "\n",
    "# Interact with the banking system\n",
    "customer1.deposit(500)\n",
    "customer2.withdraw(200)\n",
    "\n",
    "# Check account balances\n",
    "print(f\"{customer1.name}'s balance: {customer1.get_balance()}\")\n",
    "print(f\"{customer2.name}'s balance: {customer2.get_balance()}\")"
   ]
  },
  {
   "cell_type": "markdown",
   "id": "7f19e2eb-ea8b-4085-944b-5e4c0a4981fb",
   "metadata": {},
   "source": [
    "### When Dealing with Databased Application"
   ]
  },
  {
   "cell_type": "markdown",
   "id": "107881ca-819b-40dd-8718-ea92e1d4e802",
   "metadata": {},
   "source": [
    "When working with databases, we can create classes to represent database entities (e.g., tables, lists) and encapsulate database operations, providing a higher level of abstraction for working with data."
   ]
  },
  {
   "cell_type": "code",
   "execution_count": 5,
   "id": "9a5bf195-565f-4b02-a458-b1693fa86ac6",
   "metadata": {
    "tags": []
   },
   "outputs": [
    {
     "name": "stdout",
     "output_type": "stream",
     "text": [
      "Author: J.K. Rowling\n",
      "Book: Harry Potter and the Sorcerer's Stone\n",
      "Book: Harry Potter and the Chamber of Secrets\n"
     ]
    }
   ],
   "source": [
    "class Author:\n",
    "    def __init__(self, name):\n",
    "        self.name = name\n",
    "        self.books = []\n",
    "\n",
    "    def add_book(self, book):\n",
    "        self.books.append(book)\n",
    "\n",
    "class Book:\n",
    "    def __init__(self, title, author):\n",
    "        self.title = title\n",
    "        self.author = author\n",
    "\n",
    "# Create author and book objects\n",
    "author1 = Author(\"J.K. Rowling\")\n",
    "book1 = Book(\"Harry Potter and the Sorcerer's Stone\", author1)\n",
    "book2 = Book(\"Harry Potter and the Chamber of Secrets\", author1)\n",
    "\n",
    "# Add books to the author\n",
    "author1.add_book(book1)\n",
    "author1.add_book(book2)\n",
    "\n",
    "# Display author and book information\n",
    "print(f\"Author: {author1.name}\")\n",
    "for book in author1.books:\n",
    "    print(f\"Book: {book.title}\")"
   ]
  },
  {
   "cell_type": "markdown",
   "id": "7bf70b24-3230-4886-8ba7-7f60d2a126f0",
   "metadata": {},
   "source": [
    "### Managing software libraries and frameworks"
   ]
  },
  {
   "cell_type": "markdown",
   "id": "92b01f8b-49a5-44c7-966a-cff653976240",
   "metadata": {},
   "source": [
    "When creating software libraries and frameworks, object-oriented programming (OOP) is a powerful approach for structuring and organizing code. It allows you to define reusable components and provide a well-defined API for users. Here's a simplified example of how OOP can be used in the context of a simple math library:"
   ]
  },
  {
   "cell_type": "code",
   "execution_count": 6,
   "id": "bc69ec1e-1cb3-477d-89c6-59f3ec9a205c",
   "metadata": {
    "tags": []
   },
   "outputs": [
    {
     "name": "stdout",
     "output_type": "stream",
     "text": [
      "Addition: 8\n",
      "Subtraction: 6\n",
      "Multiplication: 42\n",
      "Division: 4.0\n"
     ]
    }
   ],
   "source": [
    "class MathLibrary:\n",
    "    @staticmethod\n",
    "    def add(a, b):\n",
    "        return a + b\n",
    "\n",
    "    @staticmethod\n",
    "    def subtract(a, b):\n",
    "        return a - b\n",
    "\n",
    "    @staticmethod\n",
    "    def multiply(a, b):\n",
    "        return a * b\n",
    "\n",
    "    @staticmethod\n",
    "    def divide(a, b):\n",
    "        if b == 0:\n",
    "            raise ValueError(\"Division by zero is not allowed.\")\n",
    "        return a / b\n",
    "\n",
    "# Usage of the MathLibrary\n",
    "result1 = MathLibrary.add(5, 3)\n",
    "result2 = MathLibrary.subtract(10, 4)\n",
    "result3 = MathLibrary.multiply(6, 7)\n",
    "result4 = MathLibrary.divide(8, 2)\n",
    "\n",
    "print(f\"Addition: {result1}\")\n",
    "print(f\"Subtraction: {result2}\")\n",
    "print(f\"Multiplication: {result3}\")\n",
    "print(f\"Division: {result4}\")"
   ]
  },
  {
   "cell_type": "markdown",
   "id": "3d1b116e-1d90-4729-a475-8b351d5d2be8",
   "metadata": {},
   "source": [
    "## Stock Manager Apps"
   ]
  },
  {
   "cell_type": "code",
   "execution_count": null,
   "id": "abe28640-2f7a-45f4-ab1e-a33c0533ad7a",
   "metadata": {
    "tags": []
   },
   "outputs": [],
   "source": [
    "class StockManager:\n",
    "    def __init__(self):\n",
    "        self.stock = []\n",
    "\n",
    "    def add_stock(self, name, price, quantity):\n",
    "        for item in self.stock:\n",
    "            if item['name'] == name:\n",
    "                item['price'] = price  \n",
    "                item['quantity'] += quantity \n",
    "                break\n",
    "        else:\n",
    "            self.stock.append({'name': name, 'price': price, 'quantity': quantity})\n",
    "\n",
    "    def display_stock(self):\n",
    "        for item in self.stock:\n",
    "            print(f\"Item: {item['name']}, Price: ${item['price']:.2f}, Quantity: {item['quantity']}\")\n",
    "\n",
    "\n",
    "stock_manager = StockManager()\n",
    "while True:\n",
    "    print(\"\\nStock Menu:\")\n",
    "    print(\"1. Add Stock\")\n",
    "    print(\"2. Display Stock\")\n",
    "    print(\"3. Exit\")\n",
    "\n",
    "    choice = input(\"Enter your choice (1/2/3): \")\n",
    "\n",
    "    if choice == '1':\n",
    "        name = input(\"Enter item name: \")\n",
    "        price = float(input(\"Enter item price: \"))\n",
    "        quantity = int(input(\"Enter item quantity: \"))\n",
    "        stock_manager.add_stock(name, price, quantity)\n",
    "        print(f\"{quantity} units of {name} added to stock.\")\n",
    "    elif choice == '2':\n",
    "        print(\"\\nCurrent Stock:\")\n",
    "        stock_manager.display_stock()\n",
    "    elif choice == '3':\n",
    "        print(\"Exiting the Stock Manager.\")\n",
    "        break\n",
    "    else:\n",
    "        print(\"Invalid choice. Please enter 1, 2, or 3.\")\n",
    "stock_manager.display_stock()\n"
   ]
  },
  {
   "cell_type": "code",
   "execution_count": null,
   "id": "d1f29cef-a383-4330-ad34-e3956b3b3ab6",
   "metadata": {},
   "outputs": [],
   "source": []
  }
 ],
 "metadata": {
  "kernelspec": {
   "display_name": "Python 3 (ipykernel)",
   "language": "python",
   "name": "python3"
  },
  "language_info": {
   "codemirror_mode": {
    "name": "ipython",
    "version": 3
   },
   "file_extension": ".py",
   "mimetype": "text/x-python",
   "name": "python",
   "nbconvert_exporter": "python",
   "pygments_lexer": "ipython3",
   "version": "3.11.4"
  }
 },
 "nbformat": 4,
 "nbformat_minor": 5
}
