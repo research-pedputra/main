{
 "cells": [
  {
   "cell_type": "markdown",
   "id": "329b5b91",
   "metadata": {},
   "source": [
    "# **When to use Object Oriented Programming (OOP)**"
   ]
  },
  {
   "cell_type": "markdown",
   "id": "7add6138-7de5-4d3f-b382-89538e41eb28",
   "metadata": {},
   "source": [
    "`Object-Oriented Programming (OOP)` is a programming paradigm or methodology that organizes and structures code using objects. An object is a self-contained unit that combines data (attributes or properties) and functions (methods) that operate on that data. OOP is based on several fundamental concepts:"
   ]
  },
  {
   "cell_type": "markdown",
   "id": "8a0c092e-48a2-493b-9131-649ef6bd7ec6",
   "metadata": {},
   "source": [
    "<div style=\"display: flex; justify-content: space-around; align-items: center;\">\n",
    "    <div style=\"flex: 0 0 80%;\">\n",
    "        <p></p>\n",
    "        <a href=\"\" target=\"blank\">\n",
    "            <img src=\"img/oops.png\" alt=\"\" width=\"800\">\n",
    "        </a>\n",
    "    </div>"
   ]
  },
  {
   "cell_type": "markdown",
   "id": "0f51f4fc-eca7-41bc-bc4b-528f60cf9543",
   "metadata": {},
   "source": [
    "## OOP is based on several fundamental concepts:\n",
    "\n",
    "1. **Class**: A class is a blueprint or template for creating objects. It defines the structure and behavior that its instances (objects) will have. A class specifies the attributes (data) and methods (functions) that its objects will possess.\n",
    "\n",
    "2. **Object**: An object is an instance of a class. It is a concrete instantiation of the class, with its own unique data values and the ability to perform actions specified by the class's methods.\n",
    "\n",
    "3. **Encapsulation**: Encapsulation is the concept of bundling data (attributes) and the methods (functions) that operate on that data into a single unit, i.e., the class. It helps in hiding the internal details of an object and exposing only what is necessary. Access to an object's data should typically be controlled through methods (getters and setters) to maintain data integrity.\n",
    "\n",
    "4. **Inheritance**: Inheritance is a mechanism by which one class can inherit attributes and methods from another class. The class that is inherited from is called the base class or parent class, and the class that inherits is called the derived class or child class. Inheritance promotes code reuse and the creation of a hierarchy of classes.\n",
    "\n",
    "5. **Polymorphism**: Polymorphism allows objects of different classes to be treated as objects of a common base class. It enables you to write code that can work with objects of multiple types in a generic way. Polymorphism is often achieved through method overriding and interfaces/abstract classes.\n",
    "\n",
    "6. **Abstraction**: Abstraction is the process of simplifying complex reality by modeling classes based on the essential properties and behaviors an object should have. It allows you to focus on what an object does rather than how it does it.\n",
    "\n",
    "\n",
    "OOP helps in organizing code in a more modular and structured way, making it easier to manage and maintain. It promotes code reusability, scalability, and the modeling of real-world entities and relationships.\n",
    "\n",
    "Common programming languages that support OOP include Python, Java, C++, C#, and Ruby, among others. Each of these languages provides its own syntax and features for implementing OOP concepts.\n"
   ]
  },
  {
   "cell_type": "markdown",
   "id": "f664e97c-97bc-4129-ad85-0dec3a8c3a86",
   "metadata": {},
   "source": [
    "### The Problem"
   ]
  },
  {
   "cell_type": "markdown",
   "id": "e0bb545f-d4f7-48d6-92d6-45a4b0e097b5",
   "metadata": {},
   "source": [
    "Consider we have two coordinate p1 and p2. To measure the distance and its perimeter, we simply define the functions as follows:"
   ]
  },
  {
   "cell_type": "code",
   "execution_count": null,
   "id": "00d009bf-02d2-4b53-8c3d-a2acb17a9b88",
   "metadata": {},
   "outputs": [],
   "source": [
    "import numpy as np\n",
    "\n",
    "def distance(p1, p2):\n",
    "    return np.sqrt((p1[0] - p2[0])**2 + (p1[1] - p2[1])**2)"
   ]
  },
  {
   "cell_type": "code",
   "execution_count": null,
   "id": "26385d9f-cca4-4ca7-b0d8-a498c302ed79",
   "metadata": {},
   "outputs": [],
   "source": [
    "p1 = (1,2)\n",
    "p2 = (2,2)\n",
    "print(f\"The distance between p1 and p2 is \", distance(p1, p2), f\"cm\")"
   ]
  },
  {
   "cell_type": "markdown",
   "id": "bc11617d-33b8-4f6d-946f-6bce9b3dd430",
   "metadata": {},
   "source": [
    "### Let's rock the OOP's"
   ]
  },
  {
   "cell_type": "markdown",
   "id": "0a379c60-a65f-4ff9-a68e-63e6c65248e9",
   "metadata": {},
   "source": [
    "That line code program above looks simple, indeed, however, for any further coordinates, we neeed to repeat the function. OOP's allow us to manage the line code, becomes more organized, structured, with just a simple instruction input."
   ]
  },
  {
   "cell_type": "markdown",
   "id": "6545942d-d579-41cf-990e-390274673513",
   "metadata": {},
   "source": [
    "#### Example 1"
   ]
  },
  {
   "cell_type": "code",
   "execution_count": null,
   "id": "a80c781f-3b38-4291-9474-7334e3049d6f",
   "metadata": {},
   "outputs": [],
   "source": [
    "import numpy as np\n",
    "\n",
    "class DistanceCalculator:\n",
    "    def __init__(self):\n",
    "        self.points = []\n",
    "\n",
    "    def add_point(self, point):\n",
    "        self.points.append(point)\n",
    "\n",
    "    def get_perimeter(self, index1, index2):\n",
    "        if 0 <= index1 < len(self.points) and 0 <= index2 < len(self.points):\n",
    "            p1 = self.points[index1]\n",
    "            p2 = self.points[index2]\n",
    "            return np.sqrt((p1[0] - p2[0])**2 + (p1[1] - p2[1])**2)\n",
    "        else:\n",
    "            return None  # Return None if the indices are out of bounds\n",
    "\n",
    "# Example usage:\n",
    "calculator = DistanceCalculator()\n",
    "calculator.add_point((0, 0))\n",
    "calculator.add_point((3, 4))\n",
    "\n",
    "distance = calculator.get_distance(0, 1)\n",
    "print(\"Distance between point 0 and point 1:\", distance)\n"
   ]
  },
  {
   "cell_type": "markdown",
   "id": "4a06b831-28fa-4f34-87d1-775500e87265",
   "metadata": {},
   "source": [
    "#### Example 2"
   ]
  },
  {
   "cell_type": "code",
   "execution_count": null,
   "id": "f133faeb",
   "metadata": {},
   "outputs": [],
   "source": [
    "class Triangle:\n",
    "    def __init__(self):\n",
    "        self.points = []\n",
    "\n",
    "    def add_point(self, point):\n",
    "        self.points.append(point)\n",
    "\n",
    "    def get_perimeter(self):\n",
    "        if len(self.points) == 3:\n",
    "            side1 = self.points[0]\n",
    "            side2 = self.points[1]\n",
    "            side3 = self.points[2]\n",
    "            return side1 + side2 + side3\n",
    "        else:\n",
    "            return None  # Return None if not all three points are added\n",
    "\n",
    "# Example usage:\n",
    "triangle = Triangle()\n",
    "triangle.add_point(3)  # Replace with the lengths of the sides\n",
    "triangle.add_point(4)  # Replace with the lengths of the sides\n",
    "triangle.add_point(5)  # Replace with the lengths of the sides\n",
    "\n",
    "perimeter = triangle.get_perimeter()\n",
    "print(\"The perimeter is\", perimeter)"
   ]
  },
  {
   "cell_type": "markdown",
   "id": "773178f0-e86f-47d3-8e1b-70b8d5dda889",
   "metadata": {},
   "source": [
    "#### Example 3"
   ]
  },
  {
   "cell_type": "code",
   "execution_count": null,
   "id": "b8c27f75-a590-4eda-9980-3920dd123aec",
   "metadata": {
    "tags": []
   },
   "outputs": [],
   "source": [
    "class Sale:\n",
    "    def __init__(self):\n",
    "        self.items = []\n",
    "\n",
    "    def add_item(self, price, quantity):\n",
    "        self.items.append((price, quantity))\n",
    "\n",
    "    def get_total_price(self):\n",
    "        total = 0\n",
    "        for price, quantity in self.items:\n",
    "            total += price * quantity\n",
    "        return total\n",
    "\n",
    "# Example usage:\n",
    "sale = Sale()\n",
    "sale.add_item(200000, 2)   # Price of item: $10.0, Quantity: 2\n",
    "sale.add_item(500000, 3)    # Price of item: $5.5, Quantity: 3\n",
    "\n",
    "total_price = sale.get_total_price()\n",
    "print(\"Total price of the sale: IDR\", total_price)\n"
   ]
  },
  {
   "cell_type": "markdown",
   "id": "9c2af995-9a73-40dc-8233-b7ac96c8e13f",
   "metadata": {},
   "source": [
    "#### Example 4"
   ]
  },
  {
   "cell_type": "code",
   "execution_count": 13,
   "id": "d28936e2-7383-4fd3-991e-d52940fefa95",
   "metadata": {
    "tags": []
   },
   "outputs": [
    {
     "name": "stdout",
     "output_type": "stream",
     "text": [
      "I Wayan Koster\n",
      "email : Wayan.Koster@alfaprima.com\n",
      "Payment:  IDR 900000\n"
     ]
    }
   ],
   "source": [
    "class Employee:\n",
    "    \n",
    "    def __init__(self,first ,last, pay):\n",
    "        self.first = first\n",
    "        self.last  = last\n",
    "        self.email = first+\".\"+last+\"@alfaprima.com\"\n",
    "        self.pay   = pay\n",
    "         \n",
    "employ_1 = Employee(\"Wayan\",\"Koster\",900000)\n",
    "employ_2 = Employee(\"Mangku\",\"Pastika\",100000)\n",
    "print(f\"I {employ_1.first}\", f\"{employ_1.last}\")\n",
    "print(f\"email :\", employ_1.email)\n",
    "print(f\"Payment: \", f\"IDR\", employ_1.pay )"
   ]
  },
  {
   "cell_type": "markdown",
   "id": "da9230de-301c-4c1a-aec8-52022a6298c1",
   "metadata": {},
   "source": [
    "#### Example 5"
   ]
  },
  {
   "cell_type": "code",
   "execution_count": 14,
   "id": "73aa2d5b-5572-4496-a0e7-c709dd7775a3",
   "metadata": {
    "tags": []
   },
   "outputs": [
    {
     "name": "stdout",
     "output_type": "stream",
     "text": [
      "Blu is a bird\n",
      "Woo is also a bird\n",
      "Blu is 10 years old\n",
      "Woo is 15 years old\n"
     ]
    }
   ],
   "source": [
    "class Parrot:\n",
    "\n",
    "    # class attribute\n",
    "    species = \"bird\"\n",
    "\n",
    "    # instance attribute\n",
    "    def __init__(self, name, age):\n",
    "        self.name = name\n",
    "        self.age = age\n",
    "\n",
    "\n",
    "blu = Parrot(\"Blu\", 10)\n",
    "woo = Parrot(\"Woo\", 15)\n",
    "\n",
    "print(\"Blu is a {}\".format(blu.species))\n",
    "print(\"Woo is also a {}\".format(woo.species))\n",
    "\n",
    "# access the instance attributes\n",
    "print(\"{} is {} years old\".format( blu.name, blu.age))\n",
    "print(\"{} is {} years old\".format( woo.name, woo.age))"
   ]
  },
  {
   "cell_type": "markdown",
   "id": "3d1b116e-1d90-4729-a475-8b351d5d2be8",
   "metadata": {},
   "source": [
    "## Stock Manager Apps"
   ]
  },
  {
   "cell_type": "code",
   "execution_count": null,
   "id": "abe28640-2f7a-45f4-ab1e-a33c0533ad7a",
   "metadata": {
    "tags": []
   },
   "outputs": [],
   "source": [
    "class StockManager:\n",
    "    def __init__(self):\n",
    "        self.stock = []\n",
    "\n",
    "    def add_stock(self, name, price, quantity):\n",
    "        for item in self.stock:\n",
    "            if item['name'] == name:\n",
    "                item['price'] = price  \n",
    "                item['quantity'] += quantity \n",
    "                break\n",
    "        else:\n",
    "            self.stock.append({'name': name, 'price': price, 'quantity': quantity})\n",
    "\n",
    "    def display_stock(self):\n",
    "        for item in self.stock:\n",
    "            print(f\"Item: {item['name']}, Price: ${item['price']:.2f}, Quantity: {item['quantity']}\")\n",
    "\n",
    "\n",
    "stock_manager = StockManager()\n",
    "while True:\n",
    "    print(\"\\nStock Menu:\")\n",
    "    print(\"1. Add Stock\")\n",
    "    print(\"2. Display Stock\")\n",
    "    print(\"3. Exit\")\n",
    "\n",
    "    choice = input(\"Enter your choice (1/2/3): \")\n",
    "\n",
    "    if choice == '1':\n",
    "        name = input(\"Enter item name: \")\n",
    "        price = float(input(\"Enter item price: \"))\n",
    "        quantity = int(input(\"Enter item quantity: \"))\n",
    "        stock_manager.add_stock(name, price, quantity)\n",
    "        print(f\"{quantity} units of {name} added to stock.\")\n",
    "    elif choice == '2':\n",
    "        print(\"\\nCurrent Stock:\")\n",
    "        stock_manager.display_stock()\n",
    "    elif choice == '3':\n",
    "        print(\"Exiting the Stock Manager.\")\n",
    "        break\n",
    "    else:\n",
    "        print(\"Invalid choice. Please enter 1, 2, or 3.\")\n",
    "stock_manager.display_stock()\n"
   ]
  },
  {
   "cell_type": "code",
   "execution_count": null,
   "id": "d1f29cef-a383-4330-ad34-e3956b3b3ab6",
   "metadata": {},
   "outputs": [],
   "source": []
  }
 ],
 "metadata": {
  "kernelspec": {
   "display_name": "Python 3 (ipykernel)",
   "language": "python",
   "name": "python3"
  },
  "language_info": {
   "codemirror_mode": {
    "name": "ipython",
    "version": 3
   },
   "file_extension": ".py",
   "mimetype": "text/x-python",
   "name": "python",
   "nbconvert_exporter": "python",
   "pygments_lexer": "ipython3",
   "version": "3.11.4"
  }
 },
 "nbformat": 4,
 "nbformat_minor": 5
}
